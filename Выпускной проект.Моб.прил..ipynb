{
 "cells": [
  {
   "cell_type": "markdown",
   "metadata": {},
   "source": [
    "## Название проекта: Мобильные приложения — Анализ поведения пользователей в мобильном приложении \"Ненужные вещи\""
   ]
  },
  {
   "cell_type": "markdown",
   "metadata": {},
   "source": [
    "## Цель: \n",
    "\n",
    "сделать приложение \"Ненужные вещи\" удобнее и лучше."
   ]
  },
  {
   "cell_type": "markdown",
   "metadata": {},
   "source": [
    "## Задача:\n",
    "\n",
    "Проведение аналитического анализа для prodact maneger:\n",
    "\n",
    "- Проанализировать связь целевого события — просмотра контактов — и других действий пользователей.\n",
    "\n",
    "- Оценить, какие действия чаще совершают те пользователи, которые просматривают контакты:\n",
    "\n",
    "- Провести исследовательский анализ данных\n",
    "\n",
    "- Проанализировать влияние событий на совершение целевого события\n",
    "\n",
    "- Проверить статистические гипотезы"
   ]
  },
  {
   "cell_type": "markdown",
   "metadata": {},
   "source": [
    "## Этапы анализа"
   ]
  },
  {
   "cell_type": "markdown",
   "metadata": {},
   "source": [
    "### Первый этап\n",
    "\n",
    "Загрузка данных ('/mobile_dataset.csv'; '/mobile_sources.csv')"
   ]
  },
  {
   "cell_type": "code",
   "execution_count": 1,
   "metadata": {},
   "outputs": [],
   "source": [
    "import pandas as pd\n",
    "import matplotlib.pyplot as plt\n",
    "import seaborn as sns\n",
    "import numpy as np\n",
    "from scipy import stats as st\n",
    "import statsmodels.stats.proportion as proportion\n",
    "from datetime import datetime, timedelta\n",
    "import plotly.express as px\n",
    "import re\n",
    "from io import BytesIO\n",
    "import requests\n",
    "import math as mth\n",
    "import math\n",
    "from scipy.stats import norm\n"
   ]
  },
  {
   "cell_type": "code",
   "execution_count": 2,
   "metadata": {},
   "outputs": [
    {
     "data": {
      "text/html": [
       "<div>\n",
       "<style scoped>\n",
       "    .dataframe tbody tr th:only-of-type {\n",
       "        vertical-align: middle;\n",
       "    }\n",
       "\n",
       "    .dataframe tbody tr th {\n",
       "        vertical-align: top;\n",
       "    }\n",
       "\n",
       "    .dataframe thead th {\n",
       "        text-align: right;\n",
       "    }\n",
       "</style>\n",
       "<table border=\"1\" class=\"dataframe\">\n",
       "  <thead>\n",
       "    <tr style=\"text-align: right;\">\n",
       "      <th></th>\n",
       "      <th>userId</th>\n",
       "      <th>source</th>\n",
       "    </tr>\n",
       "  </thead>\n",
       "  <tbody>\n",
       "    <tr>\n",
       "      <th>0</th>\n",
       "      <td>020292ab-89bc-4156-9acf-68bc2783f894</td>\n",
       "      <td>other</td>\n",
       "    </tr>\n",
       "    <tr>\n",
       "      <th>1</th>\n",
       "      <td>cf7eda61-9349-469f-ac27-e5b6f5ec475c</td>\n",
       "      <td>yandex</td>\n",
       "    </tr>\n",
       "    <tr>\n",
       "      <th>2</th>\n",
       "      <td>8c356c42-3ba9-4cb6-80b8-3f868d0192c3</td>\n",
       "      <td>yandex</td>\n",
       "    </tr>\n",
       "    <tr>\n",
       "      <th>3</th>\n",
       "      <td>d9b06b47-0f36-419b-bbb0-3533e582a6cb</td>\n",
       "      <td>other</td>\n",
       "    </tr>\n",
       "    <tr>\n",
       "      <th>4</th>\n",
       "      <td>f32e1e2a-3027-4693-b793-b7b3ff274439</td>\n",
       "      <td>google</td>\n",
       "    </tr>\n",
       "  </tbody>\n",
       "</table>\n",
       "</div>"
      ],
      "text/plain": [
       "                                 userId  source\n",
       "0  020292ab-89bc-4156-9acf-68bc2783f894   other\n",
       "1  cf7eda61-9349-469f-ac27-e5b6f5ec475c  yandex\n",
       "2  8c356c42-3ba9-4cb6-80b8-3f868d0192c3  yandex\n",
       "3  d9b06b47-0f36-419b-bbb0-3533e582a6cb   other\n",
       "4  f32e1e2a-3027-4693-b793-b7b3ff274439  google"
      ]
     },
     "execution_count": 2,
     "metadata": {},
     "output_type": "execute_result"
    }
   ],
   "source": [
    "data_source = pd.read_csv('https://code.s3.yandex.net/datasets/mobile_soures.csv')\n",
    "data_source.head()"
   ]
  },
  {
   "cell_type": "code",
   "execution_count": 3,
   "metadata": {},
   "outputs": [
    {
     "data": {
      "text/html": [
       "<div>\n",
       "<style scoped>\n",
       "    .dataframe tbody tr th:only-of-type {\n",
       "        vertical-align: middle;\n",
       "    }\n",
       "\n",
       "    .dataframe tbody tr th {\n",
       "        vertical-align: top;\n",
       "    }\n",
       "\n",
       "    .dataframe thead th {\n",
       "        text-align: right;\n",
       "    }\n",
       "</style>\n",
       "<table border=\"1\" class=\"dataframe\">\n",
       "  <thead>\n",
       "    <tr style=\"text-align: right;\">\n",
       "      <th></th>\n",
       "      <th>event.time</th>\n",
       "      <th>event.name</th>\n",
       "      <th>user.id</th>\n",
       "    </tr>\n",
       "  </thead>\n",
       "  <tbody>\n",
       "    <tr>\n",
       "      <th>0</th>\n",
       "      <td>2019-10-07 00:00:00.431357</td>\n",
       "      <td>advert_open</td>\n",
       "      <td>020292ab-89bc-4156-9acf-68bc2783f894</td>\n",
       "    </tr>\n",
       "    <tr>\n",
       "      <th>1</th>\n",
       "      <td>2019-10-07 00:00:01.236320</td>\n",
       "      <td>tips_show</td>\n",
       "      <td>020292ab-89bc-4156-9acf-68bc2783f894</td>\n",
       "    </tr>\n",
       "    <tr>\n",
       "      <th>2</th>\n",
       "      <td>2019-10-07 00:00:02.245341</td>\n",
       "      <td>tips_show</td>\n",
       "      <td>cf7eda61-9349-469f-ac27-e5b6f5ec475c</td>\n",
       "    </tr>\n",
       "    <tr>\n",
       "      <th>3</th>\n",
       "      <td>2019-10-07 00:00:07.039334</td>\n",
       "      <td>tips_show</td>\n",
       "      <td>020292ab-89bc-4156-9acf-68bc2783f894</td>\n",
       "    </tr>\n",
       "    <tr>\n",
       "      <th>4</th>\n",
       "      <td>2019-10-07 00:00:56.319813</td>\n",
       "      <td>advert_open</td>\n",
       "      <td>cf7eda61-9349-469f-ac27-e5b6f5ec475c</td>\n",
       "    </tr>\n",
       "  </tbody>\n",
       "</table>\n",
       "</div>"
      ],
      "text/plain": [
       "                   event.time   event.name  \\\n",
       "0  2019-10-07 00:00:00.431357  advert_open   \n",
       "1  2019-10-07 00:00:01.236320    tips_show   \n",
       "2  2019-10-07 00:00:02.245341    tips_show   \n",
       "3  2019-10-07 00:00:07.039334    tips_show   \n",
       "4  2019-10-07 00:00:56.319813  advert_open   \n",
       "\n",
       "                                user.id  \n",
       "0  020292ab-89bc-4156-9acf-68bc2783f894  \n",
       "1  020292ab-89bc-4156-9acf-68bc2783f894  \n",
       "2  cf7eda61-9349-469f-ac27-e5b6f5ec475c  \n",
       "3  020292ab-89bc-4156-9acf-68bc2783f894  \n",
       "4  cf7eda61-9349-469f-ac27-e5b6f5ec475c  "
      ]
     },
     "execution_count": 3,
     "metadata": {},
     "output_type": "execute_result"
    }
   ],
   "source": [
    "data = pd.read_csv('https://code.s3.yandex.net/datasets/mobile_dataset.csv')\n",
    "data.head()"
   ]
  },
  {
   "cell_type": "markdown",
   "metadata": {},
   "source": [
    "### Второй этап:\n",
    "\n",
    "Исследовательский анализ данных (EDA)"
   ]
  },
  {
   "cell_type": "markdown",
   "metadata": {},
   "source": [
    "#### Изменение названий столбцов/значений"
   ]
  },
  {
   "cell_type": "code",
   "execution_count": 4,
   "metadata": {},
   "outputs": [
    {
     "data": {
      "text/html": [
       "<div>\n",
       "<style scoped>\n",
       "    .dataframe tbody tr th:only-of-type {\n",
       "        vertical-align: middle;\n",
       "    }\n",
       "\n",
       "    .dataframe tbody tr th {\n",
       "        vertical-align: top;\n",
       "    }\n",
       "\n",
       "    .dataframe thead th {\n",
       "        text-align: right;\n",
       "    }\n",
       "</style>\n",
       "<table border=\"1\" class=\"dataframe\">\n",
       "  <thead>\n",
       "    <tr style=\"text-align: right;\">\n",
       "      <th></th>\n",
       "      <th>event_time</th>\n",
       "      <th>event_name</th>\n",
       "      <th>user_id</th>\n",
       "    </tr>\n",
       "  </thead>\n",
       "  <tbody>\n",
       "    <tr>\n",
       "      <th>0</th>\n",
       "      <td>2019-10-07 00:00:00.431357</td>\n",
       "      <td>advert_open</td>\n",
       "      <td>020292ab-89bc-4156-9acf-68bc2783f894</td>\n",
       "    </tr>\n",
       "    <tr>\n",
       "      <th>1</th>\n",
       "      <td>2019-10-07 00:00:01.236320</td>\n",
       "      <td>tips_show</td>\n",
       "      <td>020292ab-89bc-4156-9acf-68bc2783f894</td>\n",
       "    </tr>\n",
       "    <tr>\n",
       "      <th>2</th>\n",
       "      <td>2019-10-07 00:00:02.245341</td>\n",
       "      <td>tips_show</td>\n",
       "      <td>cf7eda61-9349-469f-ac27-e5b6f5ec475c</td>\n",
       "    </tr>\n",
       "    <tr>\n",
       "      <th>3</th>\n",
       "      <td>2019-10-07 00:00:07.039334</td>\n",
       "      <td>tips_show</td>\n",
       "      <td>020292ab-89bc-4156-9acf-68bc2783f894</td>\n",
       "    </tr>\n",
       "    <tr>\n",
       "      <th>4</th>\n",
       "      <td>2019-10-07 00:00:56.319813</td>\n",
       "      <td>advert_open</td>\n",
       "      <td>cf7eda61-9349-469f-ac27-e5b6f5ec475c</td>\n",
       "    </tr>\n",
       "  </tbody>\n",
       "</table>\n",
       "</div>"
      ],
      "text/plain": [
       "                   event_time   event_name  \\\n",
       "0  2019-10-07 00:00:00.431357  advert_open   \n",
       "1  2019-10-07 00:00:01.236320    tips_show   \n",
       "2  2019-10-07 00:00:02.245341    tips_show   \n",
       "3  2019-10-07 00:00:07.039334    tips_show   \n",
       "4  2019-10-07 00:00:56.319813  advert_open   \n",
       "\n",
       "                                user_id  \n",
       "0  020292ab-89bc-4156-9acf-68bc2783f894  \n",
       "1  020292ab-89bc-4156-9acf-68bc2783f894  \n",
       "2  cf7eda61-9349-469f-ac27-e5b6f5ec475c  \n",
       "3  020292ab-89bc-4156-9acf-68bc2783f894  \n",
       "4  cf7eda61-9349-469f-ac27-e5b6f5ec475c  "
      ]
     },
     "execution_count": 4,
     "metadata": {},
     "output_type": "execute_result"
    }
   ],
   "source": [
    "data = data.rename(columns={'user.id':'user_id', 'event.name': 'event_name', 'event.time': 'event_time'})\n",
    "data.head()"
   ]
  },
  {
   "cell_type": "code",
   "execution_count": 5,
   "metadata": {},
   "outputs": [],
   "source": [
    "# объединим два одинаковых действия\n",
    "data.loc[data.event_name=='contacts_show', 'event_name'] = 'show_contacts'"
   ]
  },
  {
   "cell_type": "markdown",
   "metadata": {},
   "source": [
    "#### Проверка типа данных"
   ]
  },
  {
   "cell_type": "code",
   "execution_count": 6,
   "metadata": {},
   "outputs": [
    {
     "name": "stdout",
     "output_type": "stream",
     "text": [
      "<class 'pandas.core.frame.DataFrame'>\n",
      "RangeIndex: 74197 entries, 0 to 74196\n",
      "Data columns (total 3 columns):\n",
      " #   Column      Non-Null Count  Dtype \n",
      "---  ------      --------------  ----- \n",
      " 0   event_time  74197 non-null  object\n",
      " 1   event_name  74197 non-null  object\n",
      " 2   user_id     74197 non-null  object\n",
      "dtypes: object(3)\n",
      "memory usage: 1.7+ MB\n"
     ]
    }
   ],
   "source": [
    "data.info()"
   ]
  },
  {
   "cell_type": "code",
   "execution_count": 7,
   "metadata": {},
   "outputs": [
    {
     "data": {
      "text/plain": [
       "0       2019-10-07 00:00:00.431357\n",
       "1       2019-10-07 00:00:01.236320\n",
       "2       2019-10-07 00:00:02.245341\n",
       "3       2019-10-07 00:00:07.039334\n",
       "4       2019-10-07 00:00:56.319813\n",
       "                   ...            \n",
       "74192   2019-11-03 23:53:29.534986\n",
       "74193   2019-11-03 23:54:00.407086\n",
       "74194   2019-11-03 23:56:57.041825\n",
       "74195   2019-11-03 23:57:06.232189\n",
       "74196   2019-11-03 23:58:12.532487\n",
       "Name: event_time, Length: 74197, dtype: datetime64[ns]"
      ]
     },
     "execution_count": 7,
     "metadata": {},
     "output_type": "execute_result"
    }
   ],
   "source": [
    "# изменим формат столбца 'event_time'\n",
    "data['event_time']=pd.to_datetime(data['event_time'])\n",
    "data['event_time']"
   ]
  },
  {
   "cell_type": "markdown",
   "metadata": {},
   "source": [
    "#### Выделение столбца с датой"
   ]
  },
  {
   "cell_type": "code",
   "execution_count": 8,
   "metadata": {},
   "outputs": [
    {
     "data": {
      "text/html": [
       "<div>\n",
       "<style scoped>\n",
       "    .dataframe tbody tr th:only-of-type {\n",
       "        vertical-align: middle;\n",
       "    }\n",
       "\n",
       "    .dataframe tbody tr th {\n",
       "        vertical-align: top;\n",
       "    }\n",
       "\n",
       "    .dataframe thead th {\n",
       "        text-align: right;\n",
       "    }\n",
       "</style>\n",
       "<table border=\"1\" class=\"dataframe\">\n",
       "  <thead>\n",
       "    <tr style=\"text-align: right;\">\n",
       "      <th></th>\n",
       "      <th>event_time</th>\n",
       "      <th>event_name</th>\n",
       "      <th>user_id</th>\n",
       "      <th>event_date</th>\n",
       "    </tr>\n",
       "  </thead>\n",
       "  <tbody>\n",
       "    <tr>\n",
       "      <th>0</th>\n",
       "      <td>2019-10-07 00:00:00.431357</td>\n",
       "      <td>advert_open</td>\n",
       "      <td>020292ab-89bc-4156-9acf-68bc2783f894</td>\n",
       "      <td>2019-10-07</td>\n",
       "    </tr>\n",
       "    <tr>\n",
       "      <th>1</th>\n",
       "      <td>2019-10-07 00:00:01.236320</td>\n",
       "      <td>tips_show</td>\n",
       "      <td>020292ab-89bc-4156-9acf-68bc2783f894</td>\n",
       "      <td>2019-10-07</td>\n",
       "    </tr>\n",
       "    <tr>\n",
       "      <th>2</th>\n",
       "      <td>2019-10-07 00:00:02.245341</td>\n",
       "      <td>tips_show</td>\n",
       "      <td>cf7eda61-9349-469f-ac27-e5b6f5ec475c</td>\n",
       "      <td>2019-10-07</td>\n",
       "    </tr>\n",
       "    <tr>\n",
       "      <th>3</th>\n",
       "      <td>2019-10-07 00:00:07.039334</td>\n",
       "      <td>tips_show</td>\n",
       "      <td>020292ab-89bc-4156-9acf-68bc2783f894</td>\n",
       "      <td>2019-10-07</td>\n",
       "    </tr>\n",
       "    <tr>\n",
       "      <th>4</th>\n",
       "      <td>2019-10-07 00:00:56.319813</td>\n",
       "      <td>advert_open</td>\n",
       "      <td>cf7eda61-9349-469f-ac27-e5b6f5ec475c</td>\n",
       "      <td>2019-10-07</td>\n",
       "    </tr>\n",
       "  </tbody>\n",
       "</table>\n",
       "</div>"
      ],
      "text/plain": [
       "                  event_time   event_name  \\\n",
       "0 2019-10-07 00:00:00.431357  advert_open   \n",
       "1 2019-10-07 00:00:01.236320    tips_show   \n",
       "2 2019-10-07 00:00:02.245341    tips_show   \n",
       "3 2019-10-07 00:00:07.039334    tips_show   \n",
       "4 2019-10-07 00:00:56.319813  advert_open   \n",
       "\n",
       "                                user_id  event_date  \n",
       "0  020292ab-89bc-4156-9acf-68bc2783f894  2019-10-07  \n",
       "1  020292ab-89bc-4156-9acf-68bc2783f894  2019-10-07  \n",
       "2  cf7eda61-9349-469f-ac27-e5b6f5ec475c  2019-10-07  \n",
       "3  020292ab-89bc-4156-9acf-68bc2783f894  2019-10-07  \n",
       "4  cf7eda61-9349-469f-ac27-e5b6f5ec475c  2019-10-07  "
      ]
     },
     "execution_count": 8,
     "metadata": {},
     "output_type": "execute_result"
    }
   ],
   "source": [
    "data['event_date'] = pd.to_datetime(data['event_time']).dt.date\n",
    "data.head()"
   ]
  },
  {
   "cell_type": "markdown",
   "metadata": {},
   "source": [
    "#### Проверка пропусков"
   ]
  },
  {
   "cell_type": "code",
   "execution_count": 9,
   "metadata": {},
   "outputs": [
    {
     "data": {
      "text/plain": [
       "event_time    0\n",
       "event_name    0\n",
       "user_id       0\n",
       "event_date    0\n",
       "dtype: int64"
      ]
     },
     "execution_count": 9,
     "metadata": {},
     "output_type": "execute_result"
    }
   ],
   "source": [
    "data.isna().sum()"
   ]
  },
  {
   "cell_type": "markdown",
   "metadata": {},
   "source": [
    "#### Проверка на дубликаты"
   ]
  },
  {
   "cell_type": "code",
   "execution_count": 10,
   "metadata": {},
   "outputs": [
    {
     "data": {
      "text/plain": [
       "0"
      ]
     },
     "execution_count": 10,
     "metadata": {},
     "output_type": "execute_result"
    }
   ],
   "source": [
    "data.duplicated().sum()"
   ]
  },
  {
   "cell_type": "markdown",
   "metadata": {},
   "source": [
    "При проверке данных на дубликаты и пропуски, ошибок не было выявлено. Произведена замена типа данных столбца 'event_time'. И выделен столбец только с датой. Объединили два одинаковых действия в одно. Изменили названия столбцов на более удобные."
   ]
  },
  {
   "cell_type": "markdown",
   "metadata": {},
   "source": [
    "### Изучение данных"
   ]
  },
  {
   "cell_type": "markdown",
   "metadata": {},
   "source": [
    "#### Сколько всего событий в логе?"
   ]
  },
  {
   "cell_type": "code",
   "execution_count": 11,
   "metadata": {},
   "outputs": [
    {
     "data": {
      "text/plain": [
       "74197"
      ]
     },
     "execution_count": 11,
     "metadata": {},
     "output_type": "execute_result"
    }
   ],
   "source": [
    "data['event_name'].count()"
   ]
  },
  {
   "cell_type": "code",
   "execution_count": 12,
   "metadata": {},
   "outputs": [
    {
     "data": {
      "text/plain": [
       "15"
      ]
     },
     "execution_count": 12,
     "metadata": {},
     "output_type": "execute_result"
    }
   ],
   "source": [
    "len(data['event_name'].unique())"
   ]
  },
  {
   "cell_type": "markdown",
   "metadata": {},
   "source": [
    "Всего событий в логе 74197. Уникальных событий: 15."
   ]
  },
  {
   "cell_type": "markdown",
   "metadata": {},
   "source": [
    "#### Сколько всего пользователей в логе?"
   ]
  },
  {
   "cell_type": "code",
   "execution_count": 13,
   "metadata": {},
   "outputs": [
    {
     "data": {
      "text/plain": [
       "4293"
      ]
     },
     "execution_count": 13,
     "metadata": {},
     "output_type": "execute_result"
    }
   ],
   "source": [
    "len(data['user_id'].unique())"
   ]
  },
  {
   "cell_type": "markdown",
   "metadata": {},
   "source": [
    "Уникальных пользователей 4293."
   ]
  },
  {
   "cell_type": "markdown",
   "metadata": {},
   "source": [
    "#### Сколько в среднем событий приходится на пользователя?"
   ]
  },
  {
   "cell_type": "code",
   "execution_count": 14,
   "metadata": {},
   "outputs": [
    {
     "data": {
      "text/html": [
       "<div>\n",
       "<style scoped>\n",
       "    .dataframe tbody tr th:only-of-type {\n",
       "        vertical-align: middle;\n",
       "    }\n",
       "\n",
       "    .dataframe tbody tr th {\n",
       "        vertical-align: top;\n",
       "    }\n",
       "\n",
       "    .dataframe thead th {\n",
       "        text-align: right;\n",
       "    }\n",
       "</style>\n",
       "<table border=\"1\" class=\"dataframe\">\n",
       "  <thead>\n",
       "    <tr style=\"text-align: right;\">\n",
       "      <th></th>\n",
       "      <th>user_id</th>\n",
       "      <th>count_event</th>\n",
       "    </tr>\n",
       "  </thead>\n",
       "  <tbody>\n",
       "    <tr>\n",
       "      <th>0</th>\n",
       "      <td>0001b1d5-b74a-4cbf-aeb0-7df5947bf349</td>\n",
       "      <td>35</td>\n",
       "    </tr>\n",
       "    <tr>\n",
       "      <th>1</th>\n",
       "      <td>00157779-810c-4498-9e05-a1e9e3cedf93</td>\n",
       "      <td>71</td>\n",
       "    </tr>\n",
       "    <tr>\n",
       "      <th>2</th>\n",
       "      <td>00463033-5717-4bf1-91b4-09183923b9df</td>\n",
       "      <td>10</td>\n",
       "    </tr>\n",
       "    <tr>\n",
       "      <th>3</th>\n",
       "      <td>004690c3-5a84-4bb7-a8af-e0c8f8fca64e</td>\n",
       "      <td>32</td>\n",
       "    </tr>\n",
       "    <tr>\n",
       "      <th>4</th>\n",
       "      <td>00551e79-152e-4441-9cf7-565d7eb04090</td>\n",
       "      <td>8</td>\n",
       "    </tr>\n",
       "  </tbody>\n",
       "</table>\n",
       "</div>"
      ],
      "text/plain": [
       "                                user_id  count_event\n",
       "0  0001b1d5-b74a-4cbf-aeb0-7df5947bf349           35\n",
       "1  00157779-810c-4498-9e05-a1e9e3cedf93           71\n",
       "2  00463033-5717-4bf1-91b4-09183923b9df           10\n",
       "3  004690c3-5a84-4bb7-a8af-e0c8f8fca64e           32\n",
       "4  00551e79-152e-4441-9cf7-565d7eb04090            8"
      ]
     },
     "execution_count": 14,
     "metadata": {},
     "output_type": "execute_result"
    }
   ],
   "source": [
    "df = data.groupby('user_id')['event_name'].count().reset_index(name='count_event')\n",
    "df.head()"
   ]
  },
  {
   "cell_type": "code",
   "execution_count": 15,
   "metadata": {},
   "outputs": [
    {
     "data": {
      "text/plain": [
       "17.0"
      ]
     },
     "execution_count": 15,
     "metadata": {},
     "output_type": "execute_result"
    }
   ],
   "source": [
    "df['count_event'].mean().round()"
   ]
  },
  {
   "cell_type": "markdown",
   "metadata": {},
   "source": [
    "В среднем на пользователя приходится 17 событий."
   ]
  },
  {
   "cell_type": "markdown",
   "metadata": {},
   "source": [
    "#### Данными за какой период располагаем? Найдем максимальную и минимальную дату. Построим гистограмму по дате и времени."
   ]
  },
  {
   "cell_type": "code",
   "execution_count": 16,
   "metadata": {},
   "outputs": [
    {
     "data": {
      "text/plain": [
       "Timestamp('2019-10-07 00:00:00.431357')"
      ]
     },
     "execution_count": 16,
     "metadata": {},
     "output_type": "execute_result"
    }
   ],
   "source": [
    "data['event_time'].min()"
   ]
  },
  {
   "cell_type": "code",
   "execution_count": 17,
   "metadata": {},
   "outputs": [
    {
     "data": {
      "text/plain": [
       "Timestamp('2019-11-03 23:58:12.532487')"
      ]
     },
     "execution_count": 17,
     "metadata": {},
     "output_type": "execute_result"
    }
   ],
   "source": [
    "data['event_time'].max()"
   ]
  },
  {
   "cell_type": "markdown",
   "metadata": {},
   "source": [
    "У нас имеются данные за период с 07.10.2019 по 03.11.2019."
   ]
  },
  {
   "cell_type": "code",
   "execution_count": 18,
   "metadata": {},
   "outputs": [
    {
     "data": {
      "image/png": "[encoded data removed]",
      "text/plain": [
       "<Figure size 864x504 with 1 Axes>"
      ]
     },
     "metadata": {
      "needs_background": "light"
     },
     "output_type": "display_data"
    }
   ],
   "source": [
    "data.groupby('event_date')['event_name'].count().T.plot(kind='bar', alpha=0.5, figsize=(12, 7), title='Гистограмма по дате и времени')\n",
    "plt.xlabel('Дата и время')\n",
    "plt.ylabel('Количество событий')\n",
    "plt.show()"
   ]
  },
  {
   "cell_type": "markdown",
   "metadata": {},
   "source": [
    "Мы располагаем полными данными за весь период."
   ]
  },
  {
   "cell_type": "markdown",
   "metadata": {},
   "source": [
    "### Изучение воронки событий:"
   ]
  },
  {
   "cell_type": "markdown",
   "metadata": {},
   "source": [
    "#### Посмотрим, какие события есть в логах, как часто они встречаются. Отсортируем события по частоте."
   ]
  },
  {
   "cell_type": "code",
   "execution_count": 19,
   "metadata": {},
   "outputs": [
    {
     "data": {
      "text/plain": [
       "array(['advert_open', 'tips_show', 'map', 'show_contacts', 'search_4',\n",
       "       'search_5', 'tips_click', 'photos_show', 'search_1', 'search_2',\n",
       "       'search_3', 'favorites_add', 'contacts_call', 'search_6',\n",
       "       'search_7'], dtype=object)"
      ]
     },
     "execution_count": 19,
     "metadata": {},
     "output_type": "execute_result"
    }
   ],
   "source": [
    "# получим список событий\n",
    "data['event_name'].unique()"
   ]
  },
  {
   "cell_type": "code",
   "execution_count": 20,
   "metadata": {},
   "outputs": [
    {
     "data": {
      "text/plain": [
       "event_name\n",
       "search_7           222\n",
       "search_2           324\n",
       "search_6           460\n",
       "search_3           522\n",
       "contacts_call      541\n",
       "search_4           701\n",
       "tips_click         814\n",
       "search_5          1049\n",
       "favorites_add     1417\n",
       "search_1          3506\n",
       "map               3881\n",
       "show_contacts     4529\n",
       "advert_open       6164\n",
       "photos_show      10012\n",
       "tips_show        40055\n",
       "Name: event_name, dtype: int64"
      ]
     },
     "execution_count": 20,
     "metadata": {},
     "output_type": "execute_result"
    }
   ],
   "source": [
    "# отсортируем события по популярности\n",
    "data.groupby('event_name')['event_name'].count().sort_values()"
   ]
  },
  {
   "cell_type": "markdown",
   "metadata": {},
   "source": [
    "#### Посчитаем, сколько пользователей совершали каждое из этих событий. Отсортируем события по числу пользователей."
   ]
  },
  {
   "cell_type": "code",
   "execution_count": 21,
   "metadata": {},
   "outputs": [
    {
     "data": {
      "text/html": [
       "<div>\n",
       "<style scoped>\n",
       "    .dataframe tbody tr th:only-of-type {\n",
       "        vertical-align: middle;\n",
       "    }\n",
       "\n",
       "    .dataframe tbody tr th {\n",
       "        vertical-align: top;\n",
       "    }\n",
       "\n",
       "    .dataframe thead th {\n",
       "        text-align: right;\n",
       "    }\n",
       "</style>\n",
       "<table border=\"1\" class=\"dataframe\">\n",
       "  <thead>\n",
       "    <tr style=\"text-align: right;\">\n",
       "      <th></th>\n",
       "      <th>user_id</th>\n",
       "    </tr>\n",
       "    <tr>\n",
       "      <th>event_name</th>\n",
       "      <th></th>\n",
       "    </tr>\n",
       "  </thead>\n",
       "  <tbody>\n",
       "    <tr>\n",
       "      <th>tips_show</th>\n",
       "      <td>2801</td>\n",
       "    </tr>\n",
       "    <tr>\n",
       "      <th>map</th>\n",
       "      <td>1456</td>\n",
       "    </tr>\n",
       "    <tr>\n",
       "      <th>photos_show</th>\n",
       "      <td>1095</td>\n",
       "    </tr>\n",
       "    <tr>\n",
       "      <th>show_contacts</th>\n",
       "      <td>981</td>\n",
       "    </tr>\n",
       "    <tr>\n",
       "      <th>search_1</th>\n",
       "      <td>787</td>\n",
       "    </tr>\n",
       "    <tr>\n",
       "      <th>advert_open</th>\n",
       "      <td>751</td>\n",
       "    </tr>\n",
       "    <tr>\n",
       "      <th>search_5</th>\n",
       "      <td>663</td>\n",
       "    </tr>\n",
       "    <tr>\n",
       "      <th>search_4</th>\n",
       "      <td>474</td>\n",
       "    </tr>\n",
       "    <tr>\n",
       "      <th>favorites_add</th>\n",
       "      <td>351</td>\n",
       "    </tr>\n",
       "    <tr>\n",
       "      <th>search_6</th>\n",
       "      <td>330</td>\n",
       "    </tr>\n",
       "    <tr>\n",
       "      <th>tips_click</th>\n",
       "      <td>322</td>\n",
       "    </tr>\n",
       "    <tr>\n",
       "      <th>search_2</th>\n",
       "      <td>242</td>\n",
       "    </tr>\n",
       "    <tr>\n",
       "      <th>contacts_call</th>\n",
       "      <td>213</td>\n",
       "    </tr>\n",
       "    <tr>\n",
       "      <th>search_3</th>\n",
       "      <td>208</td>\n",
       "    </tr>\n",
       "    <tr>\n",
       "      <th>search_7</th>\n",
       "      <td>157</td>\n",
       "    </tr>\n",
       "  </tbody>\n",
       "</table>\n",
       "</div>"
      ],
      "text/plain": [
       "               user_id\n",
       "event_name            \n",
       "tips_show         2801\n",
       "map               1456\n",
       "photos_show       1095\n",
       "show_contacts      981\n",
       "search_1           787\n",
       "advert_open        751\n",
       "search_5           663\n",
       "search_4           474\n",
       "favorites_add      351\n",
       "search_6           330\n",
       "tips_click         322\n",
       "search_2           242\n",
       "contacts_call      213\n",
       "search_3           208\n",
       "search_7           157"
      ]
     },
     "execution_count": 21,
     "metadata": {},
     "output_type": "execute_result"
    }
   ],
   "source": [
    "data.groupby('event_name').agg({'user_id': 'nunique'}).sort_values(by='user_id', ascending=False)"
   ]
  },
  {
   "cell_type": "markdown",
   "metadata": {},
   "source": [
    "#### Посчитаем долю пользователей, которые хоть раз совершали событие. "
   ]
  },
  {
   "cell_type": "code",
   "execution_count": 22,
   "metadata": {},
   "outputs": [
    {
     "data": {
      "text/html": [
       "<div>\n",
       "<style scoped>\n",
       "    .dataframe tbody tr th:only-of-type {\n",
       "        vertical-align: middle;\n",
       "    }\n",
       "\n",
       "    .dataframe tbody tr th {\n",
       "        vertical-align: top;\n",
       "    }\n",
       "\n",
       "    .dataframe thead th {\n",
       "        text-align: right;\n",
       "    }\n",
       "</style>\n",
       "<table border=\"1\" class=\"dataframe\">\n",
       "  <thead>\n",
       "    <tr style=\"text-align: right;\">\n",
       "      <th></th>\n",
       "      <th>user_id</th>\n",
       "    </tr>\n",
       "    <tr>\n",
       "      <th>event_name</th>\n",
       "      <th></th>\n",
       "    </tr>\n",
       "  </thead>\n",
       "  <tbody>\n",
       "    <tr>\n",
       "      <th>tips_show</th>\n",
       "      <td>65.245749</td>\n",
       "    </tr>\n",
       "    <tr>\n",
       "      <th>map</th>\n",
       "      <td>33.915677</td>\n",
       "    </tr>\n",
       "    <tr>\n",
       "      <th>photos_show</th>\n",
       "      <td>25.506639</td>\n",
       "    </tr>\n",
       "    <tr>\n",
       "      <th>show_contacts</th>\n",
       "      <td>22.851153</td>\n",
       "    </tr>\n",
       "    <tr>\n",
       "      <th>search_1</th>\n",
       "      <td>18.332169</td>\n",
       "    </tr>\n",
       "    <tr>\n",
       "      <th>advert_open</th>\n",
       "      <td>17.493594</td>\n",
       "    </tr>\n",
       "    <tr>\n",
       "      <th>search_5</th>\n",
       "      <td>15.443746</td>\n",
       "    </tr>\n",
       "    <tr>\n",
       "      <th>search_4</th>\n",
       "      <td>11.041230</td>\n",
       "    </tr>\n",
       "    <tr>\n",
       "      <th>favorites_add</th>\n",
       "      <td>8.176101</td>\n",
       "    </tr>\n",
       "    <tr>\n",
       "      <th>search_6</th>\n",
       "      <td>7.686932</td>\n",
       "    </tr>\n",
       "    <tr>\n",
       "      <th>tips_click</th>\n",
       "      <td>7.500582</td>\n",
       "    </tr>\n",
       "    <tr>\n",
       "      <th>search_2</th>\n",
       "      <td>5.637084</td>\n",
       "    </tr>\n",
       "    <tr>\n",
       "      <th>contacts_call</th>\n",
       "      <td>4.961565</td>\n",
       "    </tr>\n",
       "    <tr>\n",
       "      <th>search_3</th>\n",
       "      <td>4.845097</td>\n",
       "    </tr>\n",
       "    <tr>\n",
       "      <th>search_7</th>\n",
       "      <td>3.657116</td>\n",
       "    </tr>\n",
       "  </tbody>\n",
       "</table>\n",
       "</div>"
      ],
      "text/plain": [
       "                 user_id\n",
       "event_name              \n",
       "tips_show      65.245749\n",
       "map            33.915677\n",
       "photos_show    25.506639\n",
       "show_contacts  22.851153\n",
       "search_1       18.332169\n",
       "advert_open    17.493594\n",
       "search_5       15.443746\n",
       "search_4       11.041230\n",
       "favorites_add   8.176101\n",
       "search_6        7.686932\n",
       "tips_click      7.500582\n",
       "search_2        5.637084\n",
       "contacts_call   4.961565\n",
       "search_3        4.845097\n",
       "search_7        3.657116"
      ]
     },
     "execution_count": 22,
     "metadata": {},
     "output_type": "execute_result"
    }
   ],
   "source": [
    "data.groupby('event_name').agg({'user_id': 'nunique'}).sort_values(by='user_id', ascending=False) / len(data['user_id'].unique()) * 100"
   ]
  },
  {
   "cell_type": "markdown",
   "metadata": {},
   "source": [
    "#### Получим сессии пользователей"
   ]
  },
  {
   "cell_type": "code",
   "execution_count": 26,
   "metadata": {},
   "outputs": [
    {
     "data": {
      "text/html": [
       "<div>\n",
       "<style scoped>\n",
       "    .dataframe tbody tr th:only-of-type {\n",
       "        vertical-align: middle;\n",
       "    }\n",
       "\n",
       "    .dataframe tbody tr th {\n",
       "        vertical-align: top;\n",
       "    }\n",
       "\n",
       "    .dataframe thead th {\n",
       "        text-align: right;\n",
       "    }\n",
       "</style>\n",
       "<table border=\"1\" class=\"dataframe\">\n",
       "  <thead>\n",
       "    <tr style=\"text-align: right;\">\n",
       "      <th></th>\n",
       "      <th>event_time</th>\n",
       "      <th>event_name</th>\n",
       "      <th>user_id</th>\n",
       "      <th>event_date</th>\n",
       "    </tr>\n",
       "  </thead>\n",
       "  <tbody>\n",
       "    <tr>\n",
       "      <th>805</th>\n",
       "      <td>2019-10-07 13:39:45.989359</td>\n",
       "      <td>tips_show</td>\n",
       "      <td>0001b1d5-b74a-4cbf-aeb0-7df5947bf349</td>\n",
       "      <td>2019-10-07</td>\n",
       "    </tr>\n",
       "    <tr>\n",
       "      <th>806</th>\n",
       "      <td>2019-10-07 13:40:31.052909</td>\n",
       "      <td>tips_show</td>\n",
       "      <td>0001b1d5-b74a-4cbf-aeb0-7df5947bf349</td>\n",
       "      <td>2019-10-07</td>\n",
       "    </tr>\n",
       "    <tr>\n",
       "      <th>809</th>\n",
       "      <td>2019-10-07 13:41:05.722489</td>\n",
       "      <td>tips_show</td>\n",
       "      <td>0001b1d5-b74a-4cbf-aeb0-7df5947bf349</td>\n",
       "      <td>2019-10-07</td>\n",
       "    </tr>\n",
       "    <tr>\n",
       "      <th>820</th>\n",
       "      <td>2019-10-07 13:43:20.735461</td>\n",
       "      <td>tips_show</td>\n",
       "      <td>0001b1d5-b74a-4cbf-aeb0-7df5947bf349</td>\n",
       "      <td>2019-10-07</td>\n",
       "    </tr>\n",
       "    <tr>\n",
       "      <th>830</th>\n",
       "      <td>2019-10-07 13:45:30.917502</td>\n",
       "      <td>tips_show</td>\n",
       "      <td>0001b1d5-b74a-4cbf-aeb0-7df5947bf349</td>\n",
       "      <td>2019-10-07</td>\n",
       "    </tr>\n",
       "  </tbody>\n",
       "</table>\n",
       "</div>"
      ],
      "text/plain": [
       "                    event_time event_name  \\\n",
       "805 2019-10-07 13:39:45.989359  tips_show   \n",
       "806 2019-10-07 13:40:31.052909  tips_show   \n",
       "809 2019-10-07 13:41:05.722489  tips_show   \n",
       "820 2019-10-07 13:43:20.735461  tips_show   \n",
       "830 2019-10-07 13:45:30.917502  tips_show   \n",
       "\n",
       "                                  user_id  event_date  \n",
       "805  0001b1d5-b74a-4cbf-aeb0-7df5947bf349  2019-10-07  \n",
       "806  0001b1d5-b74a-4cbf-aeb0-7df5947bf349  2019-10-07  \n",
       "809  0001b1d5-b74a-4cbf-aeb0-7df5947bf349  2019-10-07  \n",
       "820  0001b1d5-b74a-4cbf-aeb0-7df5947bf349  2019-10-07  \n",
       "830  0001b1d5-b74a-4cbf-aeb0-7df5947bf349  2019-10-07  "
      ]
     },
     "execution_count": 26,
     "metadata": {},
     "output_type": "execute_result"
    }
   ],
   "source": [
    "# отсортируем таблицу по пользователям и времени\n",
    "data = data.sort_values(['user_id', 'event_time'])\n",
    "data.head()"
   ]
  },
  {
   "cell_type": "code",
   "execution_count": 27,
   "metadata": {},
   "outputs": [
    {
     "data": {
      "text/html": [
       "<div>\n",
       "<style scoped>\n",
       "    .dataframe tbody tr th:only-of-type {\n",
       "        vertical-align: middle;\n",
       "    }\n",
       "\n",
       "    .dataframe tbody tr th {\n",
       "        vertical-align: top;\n",
       "    }\n",
       "\n",
       "    .dataframe thead th {\n",
       "        text-align: right;\n",
       "    }\n",
       "</style>\n",
       "<table border=\"1\" class=\"dataframe\">\n",
       "  <thead>\n",
       "    <tr style=\"text-align: right;\">\n",
       "      <th></th>\n",
       "      <th>event_time</th>\n",
       "      <th>event_name</th>\n",
       "      <th>user_id</th>\n",
       "      <th>event_date</th>\n",
       "      <th>event_id</th>\n",
       "    </tr>\n",
       "  </thead>\n",
       "  <tbody>\n",
       "    <tr>\n",
       "      <th>805</th>\n",
       "      <td>2019-10-07 13:39:45.989359</td>\n",
       "      <td>tips_show</td>\n",
       "      <td>0001b1d5-b74a-4cbf-aeb0-7df5947bf349</td>\n",
       "      <td>2019-10-07</td>\n",
       "      <td>0</td>\n",
       "    </tr>\n",
       "    <tr>\n",
       "      <th>806</th>\n",
       "      <td>2019-10-07 13:40:31.052909</td>\n",
       "      <td>tips_show</td>\n",
       "      <td>0001b1d5-b74a-4cbf-aeb0-7df5947bf349</td>\n",
       "      <td>2019-10-07</td>\n",
       "      <td>1</td>\n",
       "    </tr>\n",
       "    <tr>\n",
       "      <th>809</th>\n",
       "      <td>2019-10-07 13:41:05.722489</td>\n",
       "      <td>tips_show</td>\n",
       "      <td>0001b1d5-b74a-4cbf-aeb0-7df5947bf349</td>\n",
       "      <td>2019-10-07</td>\n",
       "      <td>2</td>\n",
       "    </tr>\n",
       "    <tr>\n",
       "      <th>820</th>\n",
       "      <td>2019-10-07 13:43:20.735461</td>\n",
       "      <td>tips_show</td>\n",
       "      <td>0001b1d5-b74a-4cbf-aeb0-7df5947bf349</td>\n",
       "      <td>2019-10-07</td>\n",
       "      <td>3</td>\n",
       "    </tr>\n",
       "    <tr>\n",
       "      <th>830</th>\n",
       "      <td>2019-10-07 13:45:30.917502</td>\n",
       "      <td>tips_show</td>\n",
       "      <td>0001b1d5-b74a-4cbf-aeb0-7df5947bf349</td>\n",
       "      <td>2019-10-07</td>\n",
       "      <td>4</td>\n",
       "    </tr>\n",
       "  </tbody>\n",
       "</table>\n",
       "</div>"
      ],
      "text/plain": [
       "                    event_time event_name  \\\n",
       "805 2019-10-07 13:39:45.989359  tips_show   \n",
       "806 2019-10-07 13:40:31.052909  tips_show   \n",
       "809 2019-10-07 13:41:05.722489  tips_show   \n",
       "820 2019-10-07 13:43:20.735461  tips_show   \n",
       "830 2019-10-07 13:45:30.917502  tips_show   \n",
       "\n",
       "                                  user_id  event_date  event_id  \n",
       "805  0001b1d5-b74a-4cbf-aeb0-7df5947bf349  2019-10-07         0  \n",
       "806  0001b1d5-b74a-4cbf-aeb0-7df5947bf349  2019-10-07         1  \n",
       "809  0001b1d5-b74a-4cbf-aeb0-7df5947bf349  2019-10-07         2  \n",
       "820  0001b1d5-b74a-4cbf-aeb0-7df5947bf349  2019-10-07         3  \n",
       "830  0001b1d5-b74a-4cbf-aeb0-7df5947bf349  2019-10-07         4  "
      ]
     },
     "execution_count": 27,
     "metadata": {},
     "output_type": "execute_result"
    }
   ],
   "source": [
    "data['event_id'] = np.arange(data.shape[0])\n",
    "data.head()"
   ]
  },
  {
   "cell_type": "code",
   "execution_count": 28,
   "metadata": {},
   "outputs": [
    {
     "data": {
      "text/html": [
       "<div>\n",
       "<style scoped>\n",
       "    .dataframe tbody tr th:only-of-type {\n",
       "        vertical-align: middle;\n",
       "    }\n",
       "\n",
       "    .dataframe tbody tr th {\n",
       "        vertical-align: top;\n",
       "    }\n",
       "\n",
       "    .dataframe thead th {\n",
       "        text-align: right;\n",
       "    }\n",
       "</style>\n",
       "<table border=\"1\" class=\"dataframe\">\n",
       "  <thead>\n",
       "    <tr style=\"text-align: right;\">\n",
       "      <th></th>\n",
       "      <th>event_time</th>\n",
       "      <th>event_name</th>\n",
       "      <th>user_id</th>\n",
       "      <th>event_date</th>\n",
       "      <th>event_id</th>\n",
       "      <th>diff</th>\n",
       "    </tr>\n",
       "  </thead>\n",
       "  <tbody>\n",
       "    <tr>\n",
       "      <th>805</th>\n",
       "      <td>2019-10-07 13:39:45.989359</td>\n",
       "      <td>tips_show</td>\n",
       "      <td>0001b1d5-b74a-4cbf-aeb0-7df5947bf349</td>\n",
       "      <td>2019-10-07</td>\n",
       "      <td>0</td>\n",
       "      <td>NaT</td>\n",
       "    </tr>\n",
       "    <tr>\n",
       "      <th>806</th>\n",
       "      <td>2019-10-07 13:40:31.052909</td>\n",
       "      <td>tips_show</td>\n",
       "      <td>0001b1d5-b74a-4cbf-aeb0-7df5947bf349</td>\n",
       "      <td>2019-10-07</td>\n",
       "      <td>1</td>\n",
       "      <td>0 days 00:00:45.063550</td>\n",
       "    </tr>\n",
       "    <tr>\n",
       "      <th>809</th>\n",
       "      <td>2019-10-07 13:41:05.722489</td>\n",
       "      <td>tips_show</td>\n",
       "      <td>0001b1d5-b74a-4cbf-aeb0-7df5947bf349</td>\n",
       "      <td>2019-10-07</td>\n",
       "      <td>2</td>\n",
       "      <td>0 days 00:00:34.669580</td>\n",
       "    </tr>\n",
       "    <tr>\n",
       "      <th>820</th>\n",
       "      <td>2019-10-07 13:43:20.735461</td>\n",
       "      <td>tips_show</td>\n",
       "      <td>0001b1d5-b74a-4cbf-aeb0-7df5947bf349</td>\n",
       "      <td>2019-10-07</td>\n",
       "      <td>3</td>\n",
       "      <td>0 days 00:02:15.012972</td>\n",
       "    </tr>\n",
       "    <tr>\n",
       "      <th>830</th>\n",
       "      <td>2019-10-07 13:45:30.917502</td>\n",
       "      <td>tips_show</td>\n",
       "      <td>0001b1d5-b74a-4cbf-aeb0-7df5947bf349</td>\n",
       "      <td>2019-10-07</td>\n",
       "      <td>4</td>\n",
       "      <td>0 days 00:02:10.182041</td>\n",
       "    </tr>\n",
       "  </tbody>\n",
       "</table>\n",
       "</div>"
      ],
      "text/plain": [
       "                    event_time event_name  \\\n",
       "805 2019-10-07 13:39:45.989359  tips_show   \n",
       "806 2019-10-07 13:40:31.052909  tips_show   \n",
       "809 2019-10-07 13:41:05.722489  tips_show   \n",
       "820 2019-10-07 13:43:20.735461  tips_show   \n",
       "830 2019-10-07 13:45:30.917502  tips_show   \n",
       "\n",
       "                                  user_id  event_date  event_id  \\\n",
       "805  0001b1d5-b74a-4cbf-aeb0-7df5947bf349  2019-10-07         0   \n",
       "806  0001b1d5-b74a-4cbf-aeb0-7df5947bf349  2019-10-07         1   \n",
       "809  0001b1d5-b74a-4cbf-aeb0-7df5947bf349  2019-10-07         2   \n",
       "820  0001b1d5-b74a-4cbf-aeb0-7df5947bf349  2019-10-07         3   \n",
       "830  0001b1d5-b74a-4cbf-aeb0-7df5947bf349  2019-10-07         4   \n",
       "\n",
       "                      diff  \n",
       "805                    NaT  \n",
       "806 0 days 00:00:45.063550  \n",
       "809 0 days 00:00:34.669580  \n",
       "820 0 days 00:02:15.012972  \n",
       "830 0 days 00:02:10.182041  "
      ]
     },
     "execution_count": 28,
     "metadata": {},
     "output_type": "execute_result"
    }
   ],
   "source": [
    "# Найдем такие события, которые будут начальными точками для сессий \n",
    "data['diff'] = data.groupby('user_id')['event_time'].diff(1)\n",
    "data.head()"
   ]
  },
  {
   "cell_type": "markdown",
   "metadata": {},
   "source": [
    "Из основного датафрейма data создадим вспомогательный датафрейм 'session_start_df'. Этот датафрейм будет содержать события, которые будут считаться первыми событиями сессий. К таким событиям относятся все события, которые произошли спустя более чем 60 минут после предыдущего, либо события, которые были первыми для пользователя (NaT в колонке 'diff').\n",
    "\n",
    "Также создадим во вспомогательном датафрейме колонку 'session_id', которая будет содержать в себе 'enent_id' первого события сессии. Она пригодится, чтобы корректно отобразить идентификатор сессии, когда будем объединять данные из основного и вспомогательного датафреймов."
   ]
  },
  {
   "cell_type": "code",
   "execution_count": 29,
   "metadata": {},
   "outputs": [
    {
     "name": "stderr",
     "output_type": "stream",
     "text": [
      "/tmp/ipykernel_99/476018612.py:2: SettingWithCopyWarning: \n",
      "A value is trying to be set on a copy of a slice from a DataFrame.\n",
      "Try using .loc[row_indexer,col_indexer] = value instead\n",
      "\n",
      "See the caveats in the documentation: https://pandas.pydata.org/pandas-docs/stable/user_guide/indexing.html#returning-a-view-versus-a-copy\n",
      "  sessions_start_df['session_id'] = sessions_start_df['event_id']\n"
     ]
    },
    {
     "data": {
      "text/html": [
       "<div>\n",
       "<style scoped>\n",
       "    .dataframe tbody tr th:only-of-type {\n",
       "        vertical-align: middle;\n",
       "    }\n",
       "\n",
       "    .dataframe tbody tr th {\n",
       "        vertical-align: top;\n",
       "    }\n",
       "\n",
       "    .dataframe thead th {\n",
       "        text-align: right;\n",
       "    }\n",
       "</style>\n",
       "<table border=\"1\" class=\"dataframe\">\n",
       "  <thead>\n",
       "    <tr style=\"text-align: right;\">\n",
       "      <th></th>\n",
       "      <th>event_time</th>\n",
       "      <th>event_name</th>\n",
       "      <th>user_id</th>\n",
       "      <th>event_date</th>\n",
       "      <th>event_id</th>\n",
       "      <th>diff</th>\n",
       "      <th>session_id</th>\n",
       "    </tr>\n",
       "  </thead>\n",
       "  <tbody>\n",
       "    <tr>\n",
       "      <th>805</th>\n",
       "      <td>2019-10-07 13:39:45.989359</td>\n",
       "      <td>tips_show</td>\n",
       "      <td>0001b1d5-b74a-4cbf-aeb0-7df5947bf349</td>\n",
       "      <td>2019-10-07</td>\n",
       "      <td>0</td>\n",
       "      <td>NaT</td>\n",
       "      <td>0</td>\n",
       "    </tr>\n",
       "    <tr>\n",
       "      <th>6541</th>\n",
       "      <td>2019-10-09 18:33:55.577963</td>\n",
       "      <td>map</td>\n",
       "      <td>0001b1d5-b74a-4cbf-aeb0-7df5947bf349</td>\n",
       "      <td>2019-10-09</td>\n",
       "      <td>9</td>\n",
       "      <td>2 days 04:44:13.861346</td>\n",
       "      <td>9</td>\n",
       "    </tr>\n",
       "    <tr>\n",
       "      <th>36412</th>\n",
       "      <td>2019-10-21 19:52:30.778932</td>\n",
       "      <td>tips_show</td>\n",
       "      <td>0001b1d5-b74a-4cbf-aeb0-7df5947bf349</td>\n",
       "      <td>2019-10-21</td>\n",
       "      <td>13</td>\n",
       "      <td>12 days 01:10:07.814984</td>\n",
       "      <td>13</td>\n",
       "    </tr>\n",
       "    <tr>\n",
       "      <th>37556</th>\n",
       "      <td>2019-10-22 11:18:14.635436</td>\n",
       "      <td>map</td>\n",
       "      <td>0001b1d5-b74a-4cbf-aeb0-7df5947bf349</td>\n",
       "      <td>2019-10-22</td>\n",
       "      <td>27</td>\n",
       "      <td>0 days 15:10:44.584408</td>\n",
       "      <td>27</td>\n",
       "    </tr>\n",
       "    <tr>\n",
       "      <th>31632</th>\n",
       "      <td>2019-10-19 21:34:33.849769</td>\n",
       "      <td>search_1</td>\n",
       "      <td>00157779-810c-4498-9e05-a1e9e3cedf93</td>\n",
       "      <td>2019-10-19</td>\n",
       "      <td>35</td>\n",
       "      <td>NaT</td>\n",
       "      <td>35</td>\n",
       "    </tr>\n",
       "  </tbody>\n",
       "</table>\n",
       "</div>"
      ],
      "text/plain": [
       "                      event_time event_name  \\\n",
       "805   2019-10-07 13:39:45.989359  tips_show   \n",
       "6541  2019-10-09 18:33:55.577963        map   \n",
       "36412 2019-10-21 19:52:30.778932  tips_show   \n",
       "37556 2019-10-22 11:18:14.635436        map   \n",
       "31632 2019-10-19 21:34:33.849769   search_1   \n",
       "\n",
       "                                    user_id  event_date  event_id  \\\n",
       "805    0001b1d5-b74a-4cbf-aeb0-7df5947bf349  2019-10-07         0   \n",
       "6541   0001b1d5-b74a-4cbf-aeb0-7df5947bf349  2019-10-09         9   \n",
       "36412  0001b1d5-b74a-4cbf-aeb0-7df5947bf349  2019-10-21        13   \n",
       "37556  0001b1d5-b74a-4cbf-aeb0-7df5947bf349  2019-10-22        27   \n",
       "31632  00157779-810c-4498-9e05-a1e9e3cedf93  2019-10-19        35   \n",
       "\n",
       "                         diff  session_id  \n",
       "805                       NaT           0  \n",
       "6541   2 days 04:44:13.861346           9  \n",
       "36412 12 days 01:10:07.814984          13  \n",
       "37556  0 days 15:10:44.584408          27  \n",
       "31632                     NaT          35  "
      ]
     },
     "execution_count": 29,
     "metadata": {},
     "output_type": "execute_result"
    }
   ],
   "source": [
    "sessions_start_df = data[(data['diff'].isnull()) | (data['diff'] > '3600 seconds')]\n",
    "sessions_start_df['session_id'] = sessions_start_df['event_id']\n",
    "sessions_start_df.head()"
   ]
  },
  {
   "cell_type": "markdown",
   "metadata": {},
   "source": [
    "С помощью функции merge_asof объединим между собой данные основного и вспомогательного датафреймов. Эта функция позволяет объединить данные двух датафреймов не по точному соответствию ключей, а по ближайшему. \n",
    "\n",
    "Для корректной работы функции merge_asof оба датафрейма должны быть отсортированы по ключу, на основе которого будет происходить объединение. В нашем случае это колонка 'event_id'."
   ]
  },
  {
   "cell_type": "code",
   "execution_count": 30,
   "metadata": {
    "scrolled": true
   },
   "outputs": [
    {
     "data": {
      "text/html": [
       "<div>\n",
       "<style scoped>\n",
       "    .dataframe tbody tr th:only-of-type {\n",
       "        vertical-align: middle;\n",
       "    }\n",
       "\n",
       "    .dataframe tbody tr th {\n",
       "        vertical-align: top;\n",
       "    }\n",
       "\n",
       "    .dataframe thead th {\n",
       "        text-align: right;\n",
       "    }\n",
       "</style>\n",
       "<table border=\"1\" class=\"dataframe\">\n",
       "  <thead>\n",
       "    <tr style=\"text-align: right;\">\n",
       "      <th></th>\n",
       "      <th>event_time</th>\n",
       "      <th>event_name</th>\n",
       "      <th>user_id</th>\n",
       "      <th>event_date</th>\n",
       "      <th>event_id</th>\n",
       "      <th>diff</th>\n",
       "      <th>session_id</th>\n",
       "    </tr>\n",
       "  </thead>\n",
       "  <tbody>\n",
       "    <tr>\n",
       "      <th>0</th>\n",
       "      <td>2019-10-07 13:39:45.989359</td>\n",
       "      <td>tips_show</td>\n",
       "      <td>0001b1d5-b74a-4cbf-aeb0-7df5947bf349</td>\n",
       "      <td>2019-10-07</td>\n",
       "      <td>0</td>\n",
       "      <td>NaT</td>\n",
       "      <td>0</td>\n",
       "    </tr>\n",
       "    <tr>\n",
       "      <th>1</th>\n",
       "      <td>2019-10-07 13:40:31.052909</td>\n",
       "      <td>tips_show</td>\n",
       "      <td>0001b1d5-b74a-4cbf-aeb0-7df5947bf349</td>\n",
       "      <td>2019-10-07</td>\n",
       "      <td>1</td>\n",
       "      <td>0 days 00:00:45.063550</td>\n",
       "      <td>0</td>\n",
       "    </tr>\n",
       "    <tr>\n",
       "      <th>2</th>\n",
       "      <td>2019-10-07 13:41:05.722489</td>\n",
       "      <td>tips_show</td>\n",
       "      <td>0001b1d5-b74a-4cbf-aeb0-7df5947bf349</td>\n",
       "      <td>2019-10-07</td>\n",
       "      <td>2</td>\n",
       "      <td>0 days 00:00:34.669580</td>\n",
       "      <td>0</td>\n",
       "    </tr>\n",
       "    <tr>\n",
       "      <th>3</th>\n",
       "      <td>2019-10-07 13:43:20.735461</td>\n",
       "      <td>tips_show</td>\n",
       "      <td>0001b1d5-b74a-4cbf-aeb0-7df5947bf349</td>\n",
       "      <td>2019-10-07</td>\n",
       "      <td>3</td>\n",
       "      <td>0 days 00:02:15.012972</td>\n",
       "      <td>0</td>\n",
       "    </tr>\n",
       "    <tr>\n",
       "      <th>4</th>\n",
       "      <td>2019-10-07 13:45:30.917502</td>\n",
       "      <td>tips_show</td>\n",
       "      <td>0001b1d5-b74a-4cbf-aeb0-7df5947bf349</td>\n",
       "      <td>2019-10-07</td>\n",
       "      <td>4</td>\n",
       "      <td>0 days 00:02:10.182041</td>\n",
       "      <td>0</td>\n",
       "    </tr>\n",
       "  </tbody>\n",
       "</table>\n",
       "</div>"
      ],
      "text/plain": [
       "                  event_time event_name                               user_id  \\\n",
       "0 2019-10-07 13:39:45.989359  tips_show  0001b1d5-b74a-4cbf-aeb0-7df5947bf349   \n",
       "1 2019-10-07 13:40:31.052909  tips_show  0001b1d5-b74a-4cbf-aeb0-7df5947bf349   \n",
       "2 2019-10-07 13:41:05.722489  tips_show  0001b1d5-b74a-4cbf-aeb0-7df5947bf349   \n",
       "3 2019-10-07 13:43:20.735461  tips_show  0001b1d5-b74a-4cbf-aeb0-7df5947bf349   \n",
       "4 2019-10-07 13:45:30.917502  tips_show  0001b1d5-b74a-4cbf-aeb0-7df5947bf349   \n",
       "\n",
       "   event_date  event_id                   diff  session_id  \n",
       "0  2019-10-07         0                    NaT           0  \n",
       "1  2019-10-07         1 0 days 00:00:45.063550           0  \n",
       "2  2019-10-07         2 0 days 00:00:34.669580           0  \n",
       "3  2019-10-07         3 0 days 00:02:15.012972           0  \n",
       "4  2019-10-07         4 0 days 00:02:10.182041           0  "
      ]
     },
     "execution_count": 30,
     "metadata": {},
     "output_type": "execute_result"
    }
   ],
   "source": [
    "data = data.sort_values('event_id')\n",
    "sessions_start_df = sessions_start_df.sort_values('event_id')\n",
    "data = pd.merge_asof(data,sessions_start_df[['event_id','user_id','session_id']],on='event_id',by='user_id')\n",
    "data.head()"
   ]
  },
  {
   "cell_type": "code",
   "execution_count": 31,
   "metadata": {},
   "outputs": [
    {
     "data": {
      "text/plain": [
       "9573"
      ]
     },
     "execution_count": 31,
     "metadata": {},
     "output_type": "execute_result"
    }
   ],
   "source": [
    "data['session_id'].nunique()"
   ]
  },
  {
   "cell_type": "code",
   "execution_count": 32,
   "metadata": {},
   "outputs": [
    {
     "data": {
      "text/html": [
       "<div>\n",
       "<style scoped>\n",
       "    .dataframe tbody tr th:only-of-type {\n",
       "        vertical-align: middle;\n",
       "    }\n",
       "\n",
       "    .dataframe tbody tr th {\n",
       "        vertical-align: top;\n",
       "    }\n",
       "\n",
       "    .dataframe thead th {\n",
       "        text-align: right;\n",
       "    }\n",
       "</style>\n",
       "<table border=\"1\" class=\"dataframe\">\n",
       "  <thead>\n",
       "    <tr style=\"text-align: right;\">\n",
       "      <th></th>\n",
       "      <th>session_id</th>\n",
       "      <th>number_show_contacts</th>\n",
       "    </tr>\n",
       "  </thead>\n",
       "  <tbody>\n",
       "    <tr>\n",
       "      <th>0</th>\n",
       "      <td>44</td>\n",
       "      <td>1</td>\n",
       "    </tr>\n",
       "    <tr>\n",
       "      <th>1</th>\n",
       "      <td>71</td>\n",
       "      <td>1</td>\n",
       "    </tr>\n",
       "    <tr>\n",
       "      <th>2</th>\n",
       "      <td>91</td>\n",
       "      <td>1</td>\n",
       "    </tr>\n",
       "    <tr>\n",
       "      <th>3</th>\n",
       "      <td>105</td>\n",
       "      <td>1</td>\n",
       "    </tr>\n",
       "    <tr>\n",
       "      <th>4</th>\n",
       "      <td>148</td>\n",
       "      <td>1</td>\n",
       "    </tr>\n",
       "  </tbody>\n",
       "</table>\n",
       "</div>"
      ],
      "text/plain": [
       "   session_id  number_show_contacts\n",
       "0          44                     1\n",
       "1          71                     1\n",
       "2          91                     1\n",
       "3         105                     1\n",
       "4         148                     1"
      ]
     },
     "execution_count": 32,
     "metadata": {},
     "output_type": "execute_result"
    }
   ],
   "source": [
    "# создадим датафрейм с номером сессии, которая содержит действие 'show_contacts'\n",
    "data_show_contacts=data[(data.event_name=='show_contacts')].groupby(['session_id'])\\\n",
    "        .agg(number_show_contacts=('event_name','nunique')).reset_index()\n",
    "data_show_contacts.head()"
   ]
  },
  {
   "cell_type": "code",
   "execution_count": 33,
   "metadata": {},
   "outputs": [
    {
     "data": {
      "text/plain": [
       "1618"
      ]
     },
     "execution_count": 33,
     "metadata": {},
     "output_type": "execute_result"
    }
   ],
   "source": [
    "data_show_contacts['session_id'].nunique()"
   ]
  },
  {
   "cell_type": "code",
   "execution_count": 34,
   "metadata": {},
   "outputs": [
    {
     "data": {
      "text/html": [
       "<div>\n",
       "<style scoped>\n",
       "    .dataframe tbody tr th:only-of-type {\n",
       "        vertical-align: middle;\n",
       "    }\n",
       "\n",
       "    .dataframe tbody tr th {\n",
       "        vertical-align: top;\n",
       "    }\n",
       "\n",
       "    .dataframe thead th {\n",
       "        text-align: right;\n",
       "    }\n",
       "</style>\n",
       "<table border=\"1\" class=\"dataframe\">\n",
       "  <thead>\n",
       "    <tr style=\"text-align: right;\">\n",
       "      <th></th>\n",
       "      <th>event_time</th>\n",
       "      <th>event_name</th>\n",
       "      <th>user_id</th>\n",
       "      <th>event_date</th>\n",
       "      <th>event_id</th>\n",
       "      <th>diff</th>\n",
       "      <th>session_id</th>\n",
       "      <th>number_show_contacts</th>\n",
       "    </tr>\n",
       "  </thead>\n",
       "  <tbody>\n",
       "    <tr>\n",
       "      <th>0</th>\n",
       "      <td>2019-10-07 13:39:45.989359</td>\n",
       "      <td>tips_show</td>\n",
       "      <td>0001b1d5-b74a-4cbf-aeb0-7df5947bf349</td>\n",
       "      <td>2019-10-07</td>\n",
       "      <td>0</td>\n",
       "      <td>NaT</td>\n",
       "      <td>0</td>\n",
       "      <td>NaN</td>\n",
       "    </tr>\n",
       "    <tr>\n",
       "      <th>1</th>\n",
       "      <td>2019-10-07 13:40:31.052909</td>\n",
       "      <td>tips_show</td>\n",
       "      <td>0001b1d5-b74a-4cbf-aeb0-7df5947bf349</td>\n",
       "      <td>2019-10-07</td>\n",
       "      <td>1</td>\n",
       "      <td>0 days 00:00:45.063550</td>\n",
       "      <td>0</td>\n",
       "      <td>NaN</td>\n",
       "    </tr>\n",
       "    <tr>\n",
       "      <th>2</th>\n",
       "      <td>2019-10-07 13:41:05.722489</td>\n",
       "      <td>tips_show</td>\n",
       "      <td>0001b1d5-b74a-4cbf-aeb0-7df5947bf349</td>\n",
       "      <td>2019-10-07</td>\n",
       "      <td>2</td>\n",
       "      <td>0 days 00:00:34.669580</td>\n",
       "      <td>0</td>\n",
       "      <td>NaN</td>\n",
       "    </tr>\n",
       "    <tr>\n",
       "      <th>3</th>\n",
       "      <td>2019-10-07 13:43:20.735461</td>\n",
       "      <td>tips_show</td>\n",
       "      <td>0001b1d5-b74a-4cbf-aeb0-7df5947bf349</td>\n",
       "      <td>2019-10-07</td>\n",
       "      <td>3</td>\n",
       "      <td>0 days 00:02:15.012972</td>\n",
       "      <td>0</td>\n",
       "      <td>NaN</td>\n",
       "    </tr>\n",
       "    <tr>\n",
       "      <th>4</th>\n",
       "      <td>2019-10-07 13:45:30.917502</td>\n",
       "      <td>tips_show</td>\n",
       "      <td>0001b1d5-b74a-4cbf-aeb0-7df5947bf349</td>\n",
       "      <td>2019-10-07</td>\n",
       "      <td>4</td>\n",
       "      <td>0 days 00:02:10.182041</td>\n",
       "      <td>0</td>\n",
       "      <td>NaN</td>\n",
       "    </tr>\n",
       "  </tbody>\n",
       "</table>\n",
       "</div>"
      ],
      "text/plain": [
       "                  event_time event_name                               user_id  \\\n",
       "0 2019-10-07 13:39:45.989359  tips_show  0001b1d5-b74a-4cbf-aeb0-7df5947bf349   \n",
       "1 2019-10-07 13:40:31.052909  tips_show  0001b1d5-b74a-4cbf-aeb0-7df5947bf349   \n",
       "2 2019-10-07 13:41:05.722489  tips_show  0001b1d5-b74a-4cbf-aeb0-7df5947bf349   \n",
       "3 2019-10-07 13:43:20.735461  tips_show  0001b1d5-b74a-4cbf-aeb0-7df5947bf349   \n",
       "4 2019-10-07 13:45:30.917502  tips_show  0001b1d5-b74a-4cbf-aeb0-7df5947bf349   \n",
       "\n",
       "   event_date  event_id                   diff  session_id  \\\n",
       "0  2019-10-07         0                    NaT           0   \n",
       "1  2019-10-07         1 0 days 00:00:45.063550           0   \n",
       "2  2019-10-07         2 0 days 00:00:34.669580           0   \n",
       "3  2019-10-07         3 0 days 00:02:15.012972           0   \n",
       "4  2019-10-07         4 0 days 00:02:10.182041           0   \n",
       "\n",
       "   number_show_contacts  \n",
       "0                   NaN  \n",
       "1                   NaN  \n",
       "2                   NaN  \n",
       "3                   NaN  \n",
       "4                   NaN  "
      ]
     },
     "execution_count": 34,
     "metadata": {},
     "output_type": "execute_result"
    }
   ],
   "source": [
    "# присоединим полученыый датафрейм к основной таблице data\n",
    "data = data.merge(data_show_contacts, on='session_id', how='left')\n",
    "data.head()"
   ]
  },
  {
   "cell_type": "markdown",
   "metadata": {},
   "source": [
    "Найдем события, которые были первыми в логах."
   ]
  },
  {
   "cell_type": "code",
   "execution_count": 35,
   "metadata": {},
   "outputs": [],
   "source": [
    "def first_event_in_session(row):\n",
    "    if row['event_id'] == row['session_id']:\n",
    "        return '1'\n",
    "    else:\n",
    "        return '0'"
   ]
  },
  {
   "cell_type": "code",
   "execution_count": 36,
   "metadata": {},
   "outputs": [
    {
     "data": {
      "text/html": [
       "<div>\n",
       "<style scoped>\n",
       "    .dataframe tbody tr th:only-of-type {\n",
       "        vertical-align: middle;\n",
       "    }\n",
       "\n",
       "    .dataframe tbody tr th {\n",
       "        vertical-align: top;\n",
       "    }\n",
       "\n",
       "    .dataframe thead th {\n",
       "        text-align: right;\n",
       "    }\n",
       "</style>\n",
       "<table border=\"1\" class=\"dataframe\">\n",
       "  <thead>\n",
       "    <tr style=\"text-align: right;\">\n",
       "      <th></th>\n",
       "      <th>event_time</th>\n",
       "      <th>event_name</th>\n",
       "      <th>user_id</th>\n",
       "      <th>event_date</th>\n",
       "      <th>event_id</th>\n",
       "      <th>diff</th>\n",
       "      <th>session_id</th>\n",
       "      <th>number_show_contacts</th>\n",
       "      <th>is_first_event_in_session</th>\n",
       "    </tr>\n",
       "  </thead>\n",
       "  <tbody>\n",
       "    <tr>\n",
       "      <th>0</th>\n",
       "      <td>2019-10-07 13:39:45.989359</td>\n",
       "      <td>tips_show</td>\n",
       "      <td>0001b1d5-b74a-4cbf-aeb0-7df5947bf349</td>\n",
       "      <td>2019-10-07</td>\n",
       "      <td>0</td>\n",
       "      <td>NaT</td>\n",
       "      <td>0</td>\n",
       "      <td>NaN</td>\n",
       "      <td>1</td>\n",
       "    </tr>\n",
       "    <tr>\n",
       "      <th>1</th>\n",
       "      <td>2019-10-07 13:40:31.052909</td>\n",
       "      <td>tips_show</td>\n",
       "      <td>0001b1d5-b74a-4cbf-aeb0-7df5947bf349</td>\n",
       "      <td>2019-10-07</td>\n",
       "      <td>1</td>\n",
       "      <td>0 days 00:00:45.063550</td>\n",
       "      <td>0</td>\n",
       "      <td>NaN</td>\n",
       "      <td>0</td>\n",
       "    </tr>\n",
       "    <tr>\n",
       "      <th>2</th>\n",
       "      <td>2019-10-07 13:41:05.722489</td>\n",
       "      <td>tips_show</td>\n",
       "      <td>0001b1d5-b74a-4cbf-aeb0-7df5947bf349</td>\n",
       "      <td>2019-10-07</td>\n",
       "      <td>2</td>\n",
       "      <td>0 days 00:00:34.669580</td>\n",
       "      <td>0</td>\n",
       "      <td>NaN</td>\n",
       "      <td>0</td>\n",
       "    </tr>\n",
       "    <tr>\n",
       "      <th>3</th>\n",
       "      <td>2019-10-07 13:43:20.735461</td>\n",
       "      <td>tips_show</td>\n",
       "      <td>0001b1d5-b74a-4cbf-aeb0-7df5947bf349</td>\n",
       "      <td>2019-10-07</td>\n",
       "      <td>3</td>\n",
       "      <td>0 days 00:02:15.012972</td>\n",
       "      <td>0</td>\n",
       "      <td>NaN</td>\n",
       "      <td>0</td>\n",
       "    </tr>\n",
       "    <tr>\n",
       "      <th>4</th>\n",
       "      <td>2019-10-07 13:45:30.917502</td>\n",
       "      <td>tips_show</td>\n",
       "      <td>0001b1d5-b74a-4cbf-aeb0-7df5947bf349</td>\n",
       "      <td>2019-10-07</td>\n",
       "      <td>4</td>\n",
       "      <td>0 days 00:02:10.182041</td>\n",
       "      <td>0</td>\n",
       "      <td>NaN</td>\n",
       "      <td>0</td>\n",
       "    </tr>\n",
       "  </tbody>\n",
       "</table>\n",
       "</div>"
      ],
      "text/plain": [
       "                  event_time event_name                               user_id  \\\n",
       "0 2019-10-07 13:39:45.989359  tips_show  0001b1d5-b74a-4cbf-aeb0-7df5947bf349   \n",
       "1 2019-10-07 13:40:31.052909  tips_show  0001b1d5-b74a-4cbf-aeb0-7df5947bf349   \n",
       "2 2019-10-07 13:41:05.722489  tips_show  0001b1d5-b74a-4cbf-aeb0-7df5947bf349   \n",
       "3 2019-10-07 13:43:20.735461  tips_show  0001b1d5-b74a-4cbf-aeb0-7df5947bf349   \n",
       "4 2019-10-07 13:45:30.917502  tips_show  0001b1d5-b74a-4cbf-aeb0-7df5947bf349   \n",
       "\n",
       "   event_date  event_id                   diff  session_id  \\\n",
       "0  2019-10-07         0                    NaT           0   \n",
       "1  2019-10-07         1 0 days 00:00:45.063550           0   \n",
       "2  2019-10-07         2 0 days 00:00:34.669580           0   \n",
       "3  2019-10-07         3 0 days 00:02:15.012972           0   \n",
       "4  2019-10-07         4 0 days 00:02:10.182041           0   \n",
       "\n",
       "   number_show_contacts is_first_event_in_session  \n",
       "0                   NaN                         1  \n",
       "1                   NaN                         0  \n",
       "2                   NaN                         0  \n",
       "3                   NaN                         0  \n",
       "4                   NaN                         0  "
      ]
     },
     "execution_count": 36,
     "metadata": {},
     "output_type": "execute_result"
    }
   ],
   "source": [
    "data['is_first_event_in_session'] = data.apply(lambda x: first_event_in_session(x), axis=1)\n",
    "data.head()"
   ]
  },
  {
   "cell_type": "markdown",
   "metadata": {},
   "source": [
    "Вычислим время, проведенное на странице, руководствуясь временем посещения следующей страницы.\n",
    "\n",
    "Для этого сначала считаем разницу между предыдущей и следующей страницей внутри сессии."
   ]
  },
  {
   "cell_type": "code",
   "execution_count": 37,
   "metadata": {},
   "outputs": [
    {
     "data": {
      "text/html": [
       "<div>\n",
       "<style scoped>\n",
       "    .dataframe tbody tr th:only-of-type {\n",
       "        vertical-align: middle;\n",
       "    }\n",
       "\n",
       "    .dataframe tbody tr th {\n",
       "        vertical-align: top;\n",
       "    }\n",
       "\n",
       "    .dataframe thead th {\n",
       "        text-align: right;\n",
       "    }\n",
       "</style>\n",
       "<table border=\"1\" class=\"dataframe\">\n",
       "  <thead>\n",
       "    <tr style=\"text-align: right;\">\n",
       "      <th></th>\n",
       "      <th>event_time</th>\n",
       "      <th>event_name</th>\n",
       "      <th>user_id</th>\n",
       "      <th>event_date</th>\n",
       "      <th>event_id</th>\n",
       "      <th>diff</th>\n",
       "      <th>session_id</th>\n",
       "      <th>number_show_contacts</th>\n",
       "      <th>is_first_event_in_session</th>\n",
       "      <th>time_on_page</th>\n",
       "    </tr>\n",
       "  </thead>\n",
       "  <tbody>\n",
       "    <tr>\n",
       "      <th>0</th>\n",
       "      <td>2019-10-07 13:39:45.989359</td>\n",
       "      <td>tips_show</td>\n",
       "      <td>0001b1d5-b74a-4cbf-aeb0-7df5947bf349</td>\n",
       "      <td>2019-10-07</td>\n",
       "      <td>0</td>\n",
       "      <td>NaT</td>\n",
       "      <td>0</td>\n",
       "      <td>NaN</td>\n",
       "      <td>1</td>\n",
       "      <td>NaT</td>\n",
       "    </tr>\n",
       "    <tr>\n",
       "      <th>1</th>\n",
       "      <td>2019-10-07 13:40:31.052909</td>\n",
       "      <td>tips_show</td>\n",
       "      <td>0001b1d5-b74a-4cbf-aeb0-7df5947bf349</td>\n",
       "      <td>2019-10-07</td>\n",
       "      <td>1</td>\n",
       "      <td>0 days 00:00:45.063550</td>\n",
       "      <td>0</td>\n",
       "      <td>NaN</td>\n",
       "      <td>0</td>\n",
       "      <td>0 days 00:00:45.063550</td>\n",
       "    </tr>\n",
       "    <tr>\n",
       "      <th>2</th>\n",
       "      <td>2019-10-07 13:41:05.722489</td>\n",
       "      <td>tips_show</td>\n",
       "      <td>0001b1d5-b74a-4cbf-aeb0-7df5947bf349</td>\n",
       "      <td>2019-10-07</td>\n",
       "      <td>2</td>\n",
       "      <td>0 days 00:00:34.669580</td>\n",
       "      <td>0</td>\n",
       "      <td>NaN</td>\n",
       "      <td>0</td>\n",
       "      <td>0 days 00:00:34.669580</td>\n",
       "    </tr>\n",
       "    <tr>\n",
       "      <th>3</th>\n",
       "      <td>2019-10-07 13:43:20.735461</td>\n",
       "      <td>tips_show</td>\n",
       "      <td>0001b1d5-b74a-4cbf-aeb0-7df5947bf349</td>\n",
       "      <td>2019-10-07</td>\n",
       "      <td>3</td>\n",
       "      <td>0 days 00:02:15.012972</td>\n",
       "      <td>0</td>\n",
       "      <td>NaN</td>\n",
       "      <td>0</td>\n",
       "      <td>0 days 00:02:15.012972</td>\n",
       "    </tr>\n",
       "    <tr>\n",
       "      <th>4</th>\n",
       "      <td>2019-10-07 13:45:30.917502</td>\n",
       "      <td>tips_show</td>\n",
       "      <td>0001b1d5-b74a-4cbf-aeb0-7df5947bf349</td>\n",
       "      <td>2019-10-07</td>\n",
       "      <td>4</td>\n",
       "      <td>0 days 00:02:10.182041</td>\n",
       "      <td>0</td>\n",
       "      <td>NaN</td>\n",
       "      <td>0</td>\n",
       "      <td>0 days 00:02:10.182041</td>\n",
       "    </tr>\n",
       "  </tbody>\n",
       "</table>\n",
       "</div>"
      ],
      "text/plain": [
       "                  event_time event_name                               user_id  \\\n",
       "0 2019-10-07 13:39:45.989359  tips_show  0001b1d5-b74a-4cbf-aeb0-7df5947bf349   \n",
       "1 2019-10-07 13:40:31.052909  tips_show  0001b1d5-b74a-4cbf-aeb0-7df5947bf349   \n",
       "2 2019-10-07 13:41:05.722489  tips_show  0001b1d5-b74a-4cbf-aeb0-7df5947bf349   \n",
       "3 2019-10-07 13:43:20.735461  tips_show  0001b1d5-b74a-4cbf-aeb0-7df5947bf349   \n",
       "4 2019-10-07 13:45:30.917502  tips_show  0001b1d5-b74a-4cbf-aeb0-7df5947bf349   \n",
       "\n",
       "   event_date  event_id                   diff  session_id  \\\n",
       "0  2019-10-07         0                    NaT           0   \n",
       "1  2019-10-07         1 0 days 00:00:45.063550           0   \n",
       "2  2019-10-07         2 0 days 00:00:34.669580           0   \n",
       "3  2019-10-07         3 0 days 00:02:15.012972           0   \n",
       "4  2019-10-07         4 0 days 00:02:10.182041           0   \n",
       "\n",
       "   number_show_contacts is_first_event_in_session           time_on_page  \n",
       "0                   NaN                         1                    NaT  \n",
       "1                   NaN                         0 0 days 00:00:45.063550  \n",
       "2                   NaN                         0 0 days 00:00:34.669580  \n",
       "3                   NaN                         0 0 days 00:02:15.012972  \n",
       "4                   NaN                         0 0 days 00:02:10.182041  "
      ]
     },
     "execution_count": 37,
     "metadata": {},
     "output_type": "execute_result"
    }
   ],
   "source": [
    "data['time_on_page'] = data.groupby(['session_id'])['event_time'].diff(1)\n",
    "data.head()"
   ]
  },
  {
   "cell_type": "markdown",
   "metadata": {},
   "source": [
    "Теперь нужно сдвинуть значение столбца 'time_on_page' на одну строку вверх внутри отдельно взятой сессии."
   ]
  },
  {
   "cell_type": "code",
   "execution_count": 38,
   "metadata": {},
   "outputs": [
    {
     "data": {
      "text/html": [
       "<div>\n",
       "<style scoped>\n",
       "    .dataframe tbody tr th:only-of-type {\n",
       "        vertical-align: middle;\n",
       "    }\n",
       "\n",
       "    .dataframe tbody tr th {\n",
       "        vertical-align: top;\n",
       "    }\n",
       "\n",
       "    .dataframe thead th {\n",
       "        text-align: right;\n",
       "    }\n",
       "</style>\n",
       "<table border=\"1\" class=\"dataframe\">\n",
       "  <thead>\n",
       "    <tr style=\"text-align: right;\">\n",
       "      <th></th>\n",
       "      <th>event_time</th>\n",
       "      <th>event_name</th>\n",
       "      <th>user_id</th>\n",
       "      <th>event_date</th>\n",
       "      <th>event_id</th>\n",
       "      <th>diff</th>\n",
       "      <th>session_id</th>\n",
       "      <th>number_show_contacts</th>\n",
       "      <th>is_first_event_in_session</th>\n",
       "      <th>time_on_page</th>\n",
       "    </tr>\n",
       "  </thead>\n",
       "  <tbody>\n",
       "    <tr>\n",
       "      <th>0</th>\n",
       "      <td>2019-10-07 13:39:45.989359</td>\n",
       "      <td>tips_show</td>\n",
       "      <td>0001b1d5-b74a-4cbf-aeb0-7df5947bf349</td>\n",
       "      <td>2019-10-07</td>\n",
       "      <td>0</td>\n",
       "      <td>NaT</td>\n",
       "      <td>0</td>\n",
       "      <td>NaN</td>\n",
       "      <td>1</td>\n",
       "      <td>0 days 00:00:45.063550</td>\n",
       "    </tr>\n",
       "    <tr>\n",
       "      <th>1</th>\n",
       "      <td>2019-10-07 13:40:31.052909</td>\n",
       "      <td>tips_show</td>\n",
       "      <td>0001b1d5-b74a-4cbf-aeb0-7df5947bf349</td>\n",
       "      <td>2019-10-07</td>\n",
       "      <td>1</td>\n",
       "      <td>0 days 00:00:45.063550</td>\n",
       "      <td>0</td>\n",
       "      <td>NaN</td>\n",
       "      <td>0</td>\n",
       "      <td>0 days 00:00:34.669580</td>\n",
       "    </tr>\n",
       "    <tr>\n",
       "      <th>2</th>\n",
       "      <td>2019-10-07 13:41:05.722489</td>\n",
       "      <td>tips_show</td>\n",
       "      <td>0001b1d5-b74a-4cbf-aeb0-7df5947bf349</td>\n",
       "      <td>2019-10-07</td>\n",
       "      <td>2</td>\n",
       "      <td>0 days 00:00:34.669580</td>\n",
       "      <td>0</td>\n",
       "      <td>NaN</td>\n",
       "      <td>0</td>\n",
       "      <td>0 days 00:02:15.012972</td>\n",
       "    </tr>\n",
       "    <tr>\n",
       "      <th>3</th>\n",
       "      <td>2019-10-07 13:43:20.735461</td>\n",
       "      <td>tips_show</td>\n",
       "      <td>0001b1d5-b74a-4cbf-aeb0-7df5947bf349</td>\n",
       "      <td>2019-10-07</td>\n",
       "      <td>3</td>\n",
       "      <td>0 days 00:02:15.012972</td>\n",
       "      <td>0</td>\n",
       "      <td>NaN</td>\n",
       "      <td>0</td>\n",
       "      <td>0 days 00:02:10.182041</td>\n",
       "    </tr>\n",
       "    <tr>\n",
       "      <th>4</th>\n",
       "      <td>2019-10-07 13:45:30.917502</td>\n",
       "      <td>tips_show</td>\n",
       "      <td>0001b1d5-b74a-4cbf-aeb0-7df5947bf349</td>\n",
       "      <td>2019-10-07</td>\n",
       "      <td>4</td>\n",
       "      <td>0 days 00:02:10.182041</td>\n",
       "      <td>0</td>\n",
       "      <td>NaN</td>\n",
       "      <td>0</td>\n",
       "      <td>0 days 00:00:12.294838</td>\n",
       "    </tr>\n",
       "  </tbody>\n",
       "</table>\n",
       "</div>"
      ],
      "text/plain": [
       "                  event_time event_name                               user_id  \\\n",
       "0 2019-10-07 13:39:45.989359  tips_show  0001b1d5-b74a-4cbf-aeb0-7df5947bf349   \n",
       "1 2019-10-07 13:40:31.052909  tips_show  0001b1d5-b74a-4cbf-aeb0-7df5947bf349   \n",
       "2 2019-10-07 13:41:05.722489  tips_show  0001b1d5-b74a-4cbf-aeb0-7df5947bf349   \n",
       "3 2019-10-07 13:43:20.735461  tips_show  0001b1d5-b74a-4cbf-aeb0-7df5947bf349   \n",
       "4 2019-10-07 13:45:30.917502  tips_show  0001b1d5-b74a-4cbf-aeb0-7df5947bf349   \n",
       "\n",
       "   event_date  event_id                   diff  session_id  \\\n",
       "0  2019-10-07         0                    NaT           0   \n",
       "1  2019-10-07         1 0 days 00:00:45.063550           0   \n",
       "2  2019-10-07         2 0 days 00:00:34.669580           0   \n",
       "3  2019-10-07         3 0 days 00:02:15.012972           0   \n",
       "4  2019-10-07         4 0 days 00:02:10.182041           0   \n",
       "\n",
       "   number_show_contacts is_first_event_in_session           time_on_page  \n",
       "0                   NaN                         1 0 days 00:00:45.063550  \n",
       "1                   NaN                         0 0 days 00:00:34.669580  \n",
       "2                   NaN                         0 0 days 00:02:15.012972  \n",
       "3                   NaN                         0 0 days 00:02:10.182041  \n",
       "4                   NaN                         0 0 days 00:00:12.294838  "
      ]
     },
     "execution_count": 38,
     "metadata": {},
     "output_type": "execute_result"
    }
   ],
   "source": [
    "data['time_on_page'] = data.groupby(['session_id'])['time_on_page'].shift(-1)\n",
    "data.head()"
   ]
  },
  {
   "cell_type": "code",
   "execution_count": 39,
   "metadata": {},
   "outputs": [
    {
     "data": {
      "text/html": [
       "<div>\n",
       "<style scoped>\n",
       "    .dataframe tbody tr th:only-of-type {\n",
       "        vertical-align: middle;\n",
       "    }\n",
       "\n",
       "    .dataframe tbody tr th {\n",
       "        vertical-align: top;\n",
       "    }\n",
       "\n",
       "    .dataframe thead th {\n",
       "        text-align: right;\n",
       "    }\n",
       "</style>\n",
       "<table border=\"1\" class=\"dataframe\">\n",
       "  <thead>\n",
       "    <tr style=\"text-align: right;\">\n",
       "      <th></th>\n",
       "      <th>event_time</th>\n",
       "      <th>event_name</th>\n",
       "      <th>user_id</th>\n",
       "      <th>event_date</th>\n",
       "      <th>event_id</th>\n",
       "      <th>diff</th>\n",
       "      <th>session_id</th>\n",
       "      <th>number_show_contacts</th>\n",
       "      <th>is_first_event_in_session</th>\n",
       "      <th>time_on_page</th>\n",
       "    </tr>\n",
       "  </thead>\n",
       "  <tbody>\n",
       "    <tr>\n",
       "      <th>0</th>\n",
       "      <td>2019-10-07 13:39:45.989359</td>\n",
       "      <td>tips_show</td>\n",
       "      <td>0001b1d5-b74a-4cbf-aeb0-7df5947bf349</td>\n",
       "      <td>2019-10-07</td>\n",
       "      <td>0</td>\n",
       "      <td>NaT</td>\n",
       "      <td>0</td>\n",
       "      <td>NaN</td>\n",
       "      <td>1</td>\n",
       "      <td>45.063550</td>\n",
       "    </tr>\n",
       "    <tr>\n",
       "      <th>1</th>\n",
       "      <td>2019-10-07 13:40:31.052909</td>\n",
       "      <td>tips_show</td>\n",
       "      <td>0001b1d5-b74a-4cbf-aeb0-7df5947bf349</td>\n",
       "      <td>2019-10-07</td>\n",
       "      <td>1</td>\n",
       "      <td>0 days 00:00:45.063550</td>\n",
       "      <td>0</td>\n",
       "      <td>NaN</td>\n",
       "      <td>0</td>\n",
       "      <td>34.669580</td>\n",
       "    </tr>\n",
       "    <tr>\n",
       "      <th>2</th>\n",
       "      <td>2019-10-07 13:41:05.722489</td>\n",
       "      <td>tips_show</td>\n",
       "      <td>0001b1d5-b74a-4cbf-aeb0-7df5947bf349</td>\n",
       "      <td>2019-10-07</td>\n",
       "      <td>2</td>\n",
       "      <td>0 days 00:00:34.669580</td>\n",
       "      <td>0</td>\n",
       "      <td>NaN</td>\n",
       "      <td>0</td>\n",
       "      <td>135.012972</td>\n",
       "    </tr>\n",
       "    <tr>\n",
       "      <th>3</th>\n",
       "      <td>2019-10-07 13:43:20.735461</td>\n",
       "      <td>tips_show</td>\n",
       "      <td>0001b1d5-b74a-4cbf-aeb0-7df5947bf349</td>\n",
       "      <td>2019-10-07</td>\n",
       "      <td>3</td>\n",
       "      <td>0 days 00:02:15.012972</td>\n",
       "      <td>0</td>\n",
       "      <td>NaN</td>\n",
       "      <td>0</td>\n",
       "      <td>130.182041</td>\n",
       "    </tr>\n",
       "    <tr>\n",
       "      <th>4</th>\n",
       "      <td>2019-10-07 13:45:30.917502</td>\n",
       "      <td>tips_show</td>\n",
       "      <td>0001b1d5-b74a-4cbf-aeb0-7df5947bf349</td>\n",
       "      <td>2019-10-07</td>\n",
       "      <td>4</td>\n",
       "      <td>0 days 00:02:10.182041</td>\n",
       "      <td>0</td>\n",
       "      <td>NaN</td>\n",
       "      <td>0</td>\n",
       "      <td>12.294838</td>\n",
       "    </tr>\n",
       "  </tbody>\n",
       "</table>\n",
       "</div>"
      ],
      "text/plain": [
       "                  event_time event_name                               user_id  \\\n",
       "0 2019-10-07 13:39:45.989359  tips_show  0001b1d5-b74a-4cbf-aeb0-7df5947bf349   \n",
       "1 2019-10-07 13:40:31.052909  tips_show  0001b1d5-b74a-4cbf-aeb0-7df5947bf349   \n",
       "2 2019-10-07 13:41:05.722489  tips_show  0001b1d5-b74a-4cbf-aeb0-7df5947bf349   \n",
       "3 2019-10-07 13:43:20.735461  tips_show  0001b1d5-b74a-4cbf-aeb0-7df5947bf349   \n",
       "4 2019-10-07 13:45:30.917502  tips_show  0001b1d5-b74a-4cbf-aeb0-7df5947bf349   \n",
       "\n",
       "   event_date  event_id                   diff  session_id  \\\n",
       "0  2019-10-07         0                    NaT           0   \n",
       "1  2019-10-07         1 0 days 00:00:45.063550           0   \n",
       "2  2019-10-07         2 0 days 00:00:34.669580           0   \n",
       "3  2019-10-07         3 0 days 00:02:15.012972           0   \n",
       "4  2019-10-07         4 0 days 00:02:10.182041           0   \n",
       "\n",
       "   number_show_contacts is_first_event_in_session  time_on_page  \n",
       "0                   NaN                         1     45.063550  \n",
       "1                   NaN                         0     34.669580  \n",
       "2                   NaN                         0    135.012972  \n",
       "3                   NaN                         0    130.182041  \n",
       "4                   NaN                         0     12.294838  "
      ]
     },
     "execution_count": 39,
     "metadata": {},
     "output_type": "execute_result"
    }
   ],
   "source": [
    "# преобразуем 'time_on_page' в секунды.\n",
    "data['time_on_page'] = data['time_on_page'] / np.timedelta64(1, 's')\n",
    "data.head()"
   ]
  },
  {
   "cell_type": "markdown",
   "metadata": {},
   "source": [
    "Вычислим длительность каждой сессии."
   ]
  },
  {
   "cell_type": "code",
   "execution_count": 40,
   "metadata": {},
   "outputs": [
    {
     "data": {
      "text/html": [
       "<div>\n",
       "<style scoped>\n",
       "    .dataframe tbody tr th:only-of-type {\n",
       "        vertical-align: middle;\n",
       "    }\n",
       "\n",
       "    .dataframe tbody tr th {\n",
       "        vertical-align: top;\n",
       "    }\n",
       "\n",
       "    .dataframe thead th {\n",
       "        text-align: right;\n",
       "    }\n",
       "</style>\n",
       "<table border=\"1\" class=\"dataframe\">\n",
       "  <thead>\n",
       "    <tr style=\"text-align: right;\">\n",
       "      <th></th>\n",
       "      <th>event_time</th>\n",
       "      <th>event_name</th>\n",
       "      <th>user_id</th>\n",
       "      <th>event_date</th>\n",
       "      <th>event_id</th>\n",
       "      <th>diff</th>\n",
       "      <th>session_id</th>\n",
       "      <th>number_show_contacts</th>\n",
       "      <th>is_first_event_in_session</th>\n",
       "      <th>time_on_page</th>\n",
       "      <th>sum_time_session</th>\n",
       "    </tr>\n",
       "  </thead>\n",
       "  <tbody>\n",
       "    <tr>\n",
       "      <th>0</th>\n",
       "      <td>2019-10-07 13:39:45.989359</td>\n",
       "      <td>tips_show</td>\n",
       "      <td>0001b1d5-b74a-4cbf-aeb0-7df5947bf349</td>\n",
       "      <td>2019-10-07</td>\n",
       "      <td>0</td>\n",
       "      <td>NaT</td>\n",
       "      <td>0</td>\n",
       "      <td>NaN</td>\n",
       "      <td>1</td>\n",
       "      <td>45.063550</td>\n",
       "      <td>595.727258</td>\n",
       "    </tr>\n",
       "    <tr>\n",
       "      <th>1</th>\n",
       "      <td>2019-10-07 13:40:31.052909</td>\n",
       "      <td>tips_show</td>\n",
       "      <td>0001b1d5-b74a-4cbf-aeb0-7df5947bf349</td>\n",
       "      <td>2019-10-07</td>\n",
       "      <td>1</td>\n",
       "      <td>0 days 00:00:45.063550</td>\n",
       "      <td>0</td>\n",
       "      <td>NaN</td>\n",
       "      <td>0</td>\n",
       "      <td>34.669580</td>\n",
       "      <td>NaN</td>\n",
       "    </tr>\n",
       "    <tr>\n",
       "      <th>2</th>\n",
       "      <td>2019-10-07 13:41:05.722489</td>\n",
       "      <td>tips_show</td>\n",
       "      <td>0001b1d5-b74a-4cbf-aeb0-7df5947bf349</td>\n",
       "      <td>2019-10-07</td>\n",
       "      <td>2</td>\n",
       "      <td>0 days 00:00:34.669580</td>\n",
       "      <td>0</td>\n",
       "      <td>NaN</td>\n",
       "      <td>0</td>\n",
       "      <td>135.012972</td>\n",
       "      <td>NaN</td>\n",
       "    </tr>\n",
       "    <tr>\n",
       "      <th>3</th>\n",
       "      <td>2019-10-07 13:43:20.735461</td>\n",
       "      <td>tips_show</td>\n",
       "      <td>0001b1d5-b74a-4cbf-aeb0-7df5947bf349</td>\n",
       "      <td>2019-10-07</td>\n",
       "      <td>3</td>\n",
       "      <td>0 days 00:02:15.012972</td>\n",
       "      <td>0</td>\n",
       "      <td>NaN</td>\n",
       "      <td>0</td>\n",
       "      <td>130.182041</td>\n",
       "      <td>NaN</td>\n",
       "    </tr>\n",
       "    <tr>\n",
       "      <th>4</th>\n",
       "      <td>2019-10-07 13:45:30.917502</td>\n",
       "      <td>tips_show</td>\n",
       "      <td>0001b1d5-b74a-4cbf-aeb0-7df5947bf349</td>\n",
       "      <td>2019-10-07</td>\n",
       "      <td>4</td>\n",
       "      <td>0 days 00:02:10.182041</td>\n",
       "      <td>0</td>\n",
       "      <td>NaN</td>\n",
       "      <td>0</td>\n",
       "      <td>12.294838</td>\n",
       "      <td>NaN</td>\n",
       "    </tr>\n",
       "  </tbody>\n",
       "</table>\n",
       "</div>"
      ],
      "text/plain": [
       "                  event_time event_name                               user_id  \\\n",
       "0 2019-10-07 13:39:45.989359  tips_show  0001b1d5-b74a-4cbf-aeb0-7df5947bf349   \n",
       "1 2019-10-07 13:40:31.052909  tips_show  0001b1d5-b74a-4cbf-aeb0-7df5947bf349   \n",
       "2 2019-10-07 13:41:05.722489  tips_show  0001b1d5-b74a-4cbf-aeb0-7df5947bf349   \n",
       "3 2019-10-07 13:43:20.735461  tips_show  0001b1d5-b74a-4cbf-aeb0-7df5947bf349   \n",
       "4 2019-10-07 13:45:30.917502  tips_show  0001b1d5-b74a-4cbf-aeb0-7df5947bf349   \n",
       "\n",
       "   event_date  event_id                   diff  session_id  \\\n",
       "0  2019-10-07         0                    NaT           0   \n",
       "1  2019-10-07         1 0 days 00:00:45.063550           0   \n",
       "2  2019-10-07         2 0 days 00:00:34.669580           0   \n",
       "3  2019-10-07         3 0 days 00:02:15.012972           0   \n",
       "4  2019-10-07         4 0 days 00:02:10.182041           0   \n",
       "\n",
       "   number_show_contacts is_first_event_in_session  time_on_page  \\\n",
       "0                   NaN                         1     45.063550   \n",
       "1                   NaN                         0     34.669580   \n",
       "2                   NaN                         0    135.012972   \n",
       "3                   NaN                         0    130.182041   \n",
       "4                   NaN                         0     12.294838   \n",
       "\n",
       "   sum_time_session  \n",
       "0        595.727258  \n",
       "1               NaN  \n",
       "2               NaN  \n",
       "3               NaN  \n",
       "4               NaN  "
      ]
     },
     "execution_count": 40,
     "metadata": {},
     "output_type": "execute_result"
    }
   ],
   "source": [
    "data['sum_time_session'] = data.groupby(['session_id']).agg({'time_on_page':'sum'})\n",
    "data.head()"
   ]
  },
  {
   "cell_type": "markdown",
   "metadata": {},
   "source": [
    "Вычислим время до совершения целевого действия в разных сценариях."
   ]
  },
  {
   "cell_type": "code",
   "execution_count": 41,
   "metadata": {},
   "outputs": [
    {
     "data": {
      "text/html": [
       "<div>\n",
       "<style scoped>\n",
       "    .dataframe tbody tr th:only-of-type {\n",
       "        vertical-align: middle;\n",
       "    }\n",
       "\n",
       "    .dataframe tbody tr th {\n",
       "        vertical-align: top;\n",
       "    }\n",
       "\n",
       "    .dataframe thead th {\n",
       "        text-align: right;\n",
       "    }\n",
       "</style>\n",
       "<table border=\"1\" class=\"dataframe\">\n",
       "  <thead>\n",
       "    <tr style=\"text-align: right;\">\n",
       "      <th></th>\n",
       "      <th>date_show_contacts</th>\n",
       "    </tr>\n",
       "    <tr>\n",
       "      <th>session_id</th>\n",
       "      <th></th>\n",
       "    </tr>\n",
       "  </thead>\n",
       "  <tbody>\n",
       "    <tr>\n",
       "      <th>44</th>\n",
       "      <td>2019-10-20 19:17:18.659799</td>\n",
       "    </tr>\n",
       "    <tr>\n",
       "      <th>71</th>\n",
       "      <td>2019-10-29 21:26:40.258472</td>\n",
       "    </tr>\n",
       "    <tr>\n",
       "      <th>91</th>\n",
       "      <td>2019-10-30 08:01:05.420773</td>\n",
       "    </tr>\n",
       "    <tr>\n",
       "      <th>105</th>\n",
       "      <td>2019-11-03 17:12:09.708771</td>\n",
       "    </tr>\n",
       "    <tr>\n",
       "      <th>148</th>\n",
       "      <td>2019-10-25 16:44:41.263364</td>\n",
       "    </tr>\n",
       "  </tbody>\n",
       "</table>\n",
       "</div>"
      ],
      "text/plain": [
       "                   date_show_contacts\n",
       "session_id                           \n",
       "44         2019-10-20 19:17:18.659799\n",
       "71         2019-10-29 21:26:40.258472\n",
       "91         2019-10-30 08:01:05.420773\n",
       "105        2019-11-03 17:12:09.708771\n",
       "148        2019-10-25 16:44:41.263364"
      ]
     },
     "execution_count": 41,
     "metadata": {},
     "output_type": "execute_result"
    }
   ],
   "source": [
    "# найдем время первого встречающегося пункта 'show_contacts' в сессии и создадим новый датафрейм\n",
    "filtr_show_contacts = data[data.event_name=='show_contacts'].groupby(['session_id']).agg(date_show_contacts=('event_time','min'))\n",
    "filtr_show_contacts.head()"
   ]
  },
  {
   "cell_type": "code",
   "execution_count": 42,
   "metadata": {},
   "outputs": [
    {
     "data": {
      "text/html": [
       "<div>\n",
       "<style scoped>\n",
       "    .dataframe tbody tr th:only-of-type {\n",
       "        vertical-align: middle;\n",
       "    }\n",
       "\n",
       "    .dataframe tbody tr th {\n",
       "        vertical-align: top;\n",
       "    }\n",
       "\n",
       "    .dataframe thead th {\n",
       "        text-align: right;\n",
       "    }\n",
       "</style>\n",
       "<table border=\"1\" class=\"dataframe\">\n",
       "  <thead>\n",
       "    <tr style=\"text-align: right;\">\n",
       "      <th></th>\n",
       "      <th>event_time</th>\n",
       "      <th>event_name</th>\n",
       "      <th>user_id</th>\n",
       "      <th>event_date</th>\n",
       "      <th>event_id</th>\n",
       "      <th>diff</th>\n",
       "      <th>session_id</th>\n",
       "      <th>number_show_contacts</th>\n",
       "      <th>is_first_event_in_session</th>\n",
       "      <th>time_on_page</th>\n",
       "      <th>sum_time_session</th>\n",
       "      <th>date_show_contacts</th>\n",
       "    </tr>\n",
       "  </thead>\n",
       "  <tbody>\n",
       "    <tr>\n",
       "      <th>0</th>\n",
       "      <td>2019-10-07 13:39:45.989359</td>\n",
       "      <td>tips_show</td>\n",
       "      <td>0001b1d5-b74a-4cbf-aeb0-7df5947bf349</td>\n",
       "      <td>2019-10-07</td>\n",
       "      <td>0</td>\n",
       "      <td>NaT</td>\n",
       "      <td>0</td>\n",
       "      <td>NaN</td>\n",
       "      <td>1</td>\n",
       "      <td>45.063550</td>\n",
       "      <td>595.727258</td>\n",
       "      <td>NaT</td>\n",
       "    </tr>\n",
       "    <tr>\n",
       "      <th>1</th>\n",
       "      <td>2019-10-07 13:40:31.052909</td>\n",
       "      <td>tips_show</td>\n",
       "      <td>0001b1d5-b74a-4cbf-aeb0-7df5947bf349</td>\n",
       "      <td>2019-10-07</td>\n",
       "      <td>1</td>\n",
       "      <td>0 days 00:00:45.063550</td>\n",
       "      <td>0</td>\n",
       "      <td>NaN</td>\n",
       "      <td>0</td>\n",
       "      <td>34.669580</td>\n",
       "      <td>NaN</td>\n",
       "      <td>NaT</td>\n",
       "    </tr>\n",
       "    <tr>\n",
       "      <th>2</th>\n",
       "      <td>2019-10-07 13:41:05.722489</td>\n",
       "      <td>tips_show</td>\n",
       "      <td>0001b1d5-b74a-4cbf-aeb0-7df5947bf349</td>\n",
       "      <td>2019-10-07</td>\n",
       "      <td>2</td>\n",
       "      <td>0 days 00:00:34.669580</td>\n",
       "      <td>0</td>\n",
       "      <td>NaN</td>\n",
       "      <td>0</td>\n",
       "      <td>135.012972</td>\n",
       "      <td>NaN</td>\n",
       "      <td>NaT</td>\n",
       "    </tr>\n",
       "    <tr>\n",
       "      <th>3</th>\n",
       "      <td>2019-10-07 13:43:20.735461</td>\n",
       "      <td>tips_show</td>\n",
       "      <td>0001b1d5-b74a-4cbf-aeb0-7df5947bf349</td>\n",
       "      <td>2019-10-07</td>\n",
       "      <td>3</td>\n",
       "      <td>0 days 00:02:15.012972</td>\n",
       "      <td>0</td>\n",
       "      <td>NaN</td>\n",
       "      <td>0</td>\n",
       "      <td>130.182041</td>\n",
       "      <td>NaN</td>\n",
       "      <td>NaT</td>\n",
       "    </tr>\n",
       "    <tr>\n",
       "      <th>4</th>\n",
       "      <td>2019-10-07 13:45:30.917502</td>\n",
       "      <td>tips_show</td>\n",
       "      <td>0001b1d5-b74a-4cbf-aeb0-7df5947bf349</td>\n",
       "      <td>2019-10-07</td>\n",
       "      <td>4</td>\n",
       "      <td>0 days 00:02:10.182041</td>\n",
       "      <td>0</td>\n",
       "      <td>NaN</td>\n",
       "      <td>0</td>\n",
       "      <td>12.294838</td>\n",
       "      <td>NaN</td>\n",
       "      <td>NaT</td>\n",
       "    </tr>\n",
       "  </tbody>\n",
       "</table>\n",
       "</div>"
      ],
      "text/plain": [
       "                  event_time event_name                               user_id  \\\n",
       "0 2019-10-07 13:39:45.989359  tips_show  0001b1d5-b74a-4cbf-aeb0-7df5947bf349   \n",
       "1 2019-10-07 13:40:31.052909  tips_show  0001b1d5-b74a-4cbf-aeb0-7df5947bf349   \n",
       "2 2019-10-07 13:41:05.722489  tips_show  0001b1d5-b74a-4cbf-aeb0-7df5947bf349   \n",
       "3 2019-10-07 13:43:20.735461  tips_show  0001b1d5-b74a-4cbf-aeb0-7df5947bf349   \n",
       "4 2019-10-07 13:45:30.917502  tips_show  0001b1d5-b74a-4cbf-aeb0-7df5947bf349   \n",
       "\n",
       "   event_date  event_id                   diff  session_id  \\\n",
       "0  2019-10-07         0                    NaT           0   \n",
       "1  2019-10-07         1 0 days 00:00:45.063550           0   \n",
       "2  2019-10-07         2 0 days 00:00:34.669580           0   \n",
       "3  2019-10-07         3 0 days 00:02:15.012972           0   \n",
       "4  2019-10-07         4 0 days 00:02:10.182041           0   \n",
       "\n",
       "   number_show_contacts is_first_event_in_session  time_on_page  \\\n",
       "0                   NaN                         1     45.063550   \n",
       "1                   NaN                         0     34.669580   \n",
       "2                   NaN                         0    135.012972   \n",
       "3                   NaN                         0    130.182041   \n",
       "4                   NaN                         0     12.294838   \n",
       "\n",
       "   sum_time_session date_show_contacts  \n",
       "0        595.727258                NaT  \n",
       "1               NaN                NaT  \n",
       "2               NaN                NaT  \n",
       "3               NaN                NaT  \n",
       "4               NaN                NaT  "
      ]
     },
     "execution_count": 42,
     "metadata": {},
     "output_type": "execute_result"
    }
   ],
   "source": [
    "# присоединим получившийся датафрейм к основной таблице\n",
    "df_session = data.merge(filtr_show_contacts, on=['session_id'], how='left')\n",
    "df_session.head()"
   ]
  },
  {
   "cell_type": "code",
   "execution_count": 43,
   "metadata": {},
   "outputs": [
    {
     "data": {
      "text/html": [
       "<div>\n",
       "<style scoped>\n",
       "    .dataframe tbody tr th:only-of-type {\n",
       "        vertical-align: middle;\n",
       "    }\n",
       "\n",
       "    .dataframe tbody tr th {\n",
       "        vertical-align: top;\n",
       "    }\n",
       "\n",
       "    .dataframe thead th {\n",
       "        text-align: right;\n",
       "    }\n",
       "</style>\n",
       "<table border=\"1\" class=\"dataframe\">\n",
       "  <thead>\n",
       "    <tr style=\"text-align: right;\">\n",
       "      <th></th>\n",
       "      <th>event_time</th>\n",
       "      <th>event_name</th>\n",
       "      <th>user_id</th>\n",
       "      <th>event_date</th>\n",
       "      <th>event_id</th>\n",
       "      <th>diff</th>\n",
       "      <th>session_id</th>\n",
       "      <th>number_show_contacts</th>\n",
       "      <th>is_first_event_in_session</th>\n",
       "      <th>time_on_page</th>\n",
       "      <th>sum_time_session</th>\n",
       "      <th>date_show_contacts</th>\n",
       "    </tr>\n",
       "  </thead>\n",
       "  <tbody>\n",
       "    <tr>\n",
       "      <th>44</th>\n",
       "      <td>2019-10-20 18:49:24.115634</td>\n",
       "      <td>search_1</td>\n",
       "      <td>00157779-810c-4498-9e05-a1e9e3cedf93</td>\n",
       "      <td>2019-10-20</td>\n",
       "      <td>44</td>\n",
       "      <td>0 days 20:49:29.478536</td>\n",
       "      <td>44</td>\n",
       "      <td>1.0</td>\n",
       "      <td>1</td>\n",
       "      <td>598.425448</td>\n",
       "      <td>4572.118439</td>\n",
       "      <td>2019-10-20 19:17:18.659799</td>\n",
       "    </tr>\n",
       "    <tr>\n",
       "      <th>45</th>\n",
       "      <td>2019-10-20 18:59:22.541082</td>\n",
       "      <td>photos_show</td>\n",
       "      <td>00157779-810c-4498-9e05-a1e9e3cedf93</td>\n",
       "      <td>2019-10-20</td>\n",
       "      <td>45</td>\n",
       "      <td>0 days 00:09:58.425448</td>\n",
       "      <td>44</td>\n",
       "      <td>1.0</td>\n",
       "      <td>0</td>\n",
       "      <td>219.488922</td>\n",
       "      <td>NaN</td>\n",
       "      <td>2019-10-20 19:17:18.659799</td>\n",
       "    </tr>\n",
       "    <tr>\n",
       "      <th>46</th>\n",
       "      <td>2019-10-20 19:03:02.030004</td>\n",
       "      <td>favorites_add</td>\n",
       "      <td>00157779-810c-4498-9e05-a1e9e3cedf93</td>\n",
       "      <td>2019-10-20</td>\n",
       "      <td>46</td>\n",
       "      <td>0 days 00:03:39.488922</td>\n",
       "      <td>44</td>\n",
       "      <td>1.0</td>\n",
       "      <td>0</td>\n",
       "      <td>74.119730</td>\n",
       "      <td>NaN</td>\n",
       "      <td>2019-10-20 19:17:18.659799</td>\n",
       "    </tr>\n",
       "    <tr>\n",
       "      <th>47</th>\n",
       "      <td>2019-10-20 19:04:16.149734</td>\n",
       "      <td>search_1</td>\n",
       "      <td>00157779-810c-4498-9e05-a1e9e3cedf93</td>\n",
       "      <td>2019-10-20</td>\n",
       "      <td>47</td>\n",
       "      <td>0 days 00:01:14.119730</td>\n",
       "      <td>44</td>\n",
       "      <td>1.0</td>\n",
       "      <td>0</td>\n",
       "      <td>340.012830</td>\n",
       "      <td>NaN</td>\n",
       "      <td>2019-10-20 19:17:18.659799</td>\n",
       "    </tr>\n",
       "    <tr>\n",
       "      <th>48</th>\n",
       "      <td>2019-10-20 19:09:56.162564</td>\n",
       "      <td>search_1</td>\n",
       "      <td>00157779-810c-4498-9e05-a1e9e3cedf93</td>\n",
       "      <td>2019-10-20</td>\n",
       "      <td>48</td>\n",
       "      <td>0 days 00:05:40.012830</td>\n",
       "      <td>44</td>\n",
       "      <td>1.0</td>\n",
       "      <td>0</td>\n",
       "      <td>111.181732</td>\n",
       "      <td>NaN</td>\n",
       "      <td>2019-10-20 19:17:18.659799</td>\n",
       "    </tr>\n",
       "  </tbody>\n",
       "</table>\n",
       "</div>"
      ],
      "text/plain": [
       "                   event_time     event_name  \\\n",
       "44 2019-10-20 18:49:24.115634       search_1   \n",
       "45 2019-10-20 18:59:22.541082    photos_show   \n",
       "46 2019-10-20 19:03:02.030004  favorites_add   \n",
       "47 2019-10-20 19:04:16.149734       search_1   \n",
       "48 2019-10-20 19:09:56.162564       search_1   \n",
       "\n",
       "                                 user_id  event_date  event_id  \\\n",
       "44  00157779-810c-4498-9e05-a1e9e3cedf93  2019-10-20        44   \n",
       "45  00157779-810c-4498-9e05-a1e9e3cedf93  2019-10-20        45   \n",
       "46  00157779-810c-4498-9e05-a1e9e3cedf93  2019-10-20        46   \n",
       "47  00157779-810c-4498-9e05-a1e9e3cedf93  2019-10-20        47   \n",
       "48  00157779-810c-4498-9e05-a1e9e3cedf93  2019-10-20        48   \n",
       "\n",
       "                     diff  session_id  number_show_contacts  \\\n",
       "44 0 days 20:49:29.478536          44                   1.0   \n",
       "45 0 days 00:09:58.425448          44                   1.0   \n",
       "46 0 days 00:03:39.488922          44                   1.0   \n",
       "47 0 days 00:01:14.119730          44                   1.0   \n",
       "48 0 days 00:05:40.012830          44                   1.0   \n",
       "\n",
       "   is_first_event_in_session  time_on_page  sum_time_session  \\\n",
       "44                         1    598.425448       4572.118439   \n",
       "45                         0    219.488922               NaN   \n",
       "46                         0     74.119730               NaN   \n",
       "47                         0    340.012830               NaN   \n",
       "48                         0    111.181732               NaN   \n",
       "\n",
       "           date_show_contacts  \n",
       "44 2019-10-20 19:17:18.659799  \n",
       "45 2019-10-20 19:17:18.659799  \n",
       "46 2019-10-20 19:17:18.659799  \n",
       "47 2019-10-20 19:17:18.659799  \n",
       "48 2019-10-20 19:17:18.659799  "
      ]
     },
     "execution_count": 43,
     "metadata": {},
     "output_type": "execute_result"
    }
   ],
   "source": [
    "# отбросим данные, которые происходили после 'show_contacts'\n",
    "df_session=df_session[df_session.event_time<=df_session.date_show_contacts]\n",
    "df_session.head()"
   ]
  },
  {
   "cell_type": "code",
   "execution_count": 44,
   "metadata": {},
   "outputs": [
    {
     "data": {
      "text/html": [
       "<div>\n",
       "<style scoped>\n",
       "    .dataframe tbody tr th:only-of-type {\n",
       "        vertical-align: middle;\n",
       "    }\n",
       "\n",
       "    .dataframe tbody tr th {\n",
       "        vertical-align: top;\n",
       "    }\n",
       "\n",
       "    .dataframe thead th {\n",
       "        text-align: right;\n",
       "    }\n",
       "</style>\n",
       "<table border=\"1\" class=\"dataframe\">\n",
       "  <thead>\n",
       "    <tr style=\"text-align: right;\">\n",
       "      <th></th>\n",
       "      <th>event_time</th>\n",
       "      <th>event_name</th>\n",
       "      <th>user_id</th>\n",
       "      <th>event_date</th>\n",
       "      <th>event_id</th>\n",
       "      <th>diff</th>\n",
       "      <th>session_id</th>\n",
       "      <th>number_show_contacts</th>\n",
       "      <th>is_first_event_in_session</th>\n",
       "      <th>time_on_page</th>\n",
       "      <th>sum_time_session</th>\n",
       "      <th>date_show_contacts</th>\n",
       "      <th>session_start</th>\n",
       "    </tr>\n",
       "  </thead>\n",
       "  <tbody>\n",
       "    <tr>\n",
       "      <th>44</th>\n",
       "      <td>2019-10-20 18:49:24.115634</td>\n",
       "      <td>search_1</td>\n",
       "      <td>00157779-810c-4498-9e05-a1e9e3cedf93</td>\n",
       "      <td>2019-10-20</td>\n",
       "      <td>44</td>\n",
       "      <td>0 days 20:49:29.478536</td>\n",
       "      <td>44</td>\n",
       "      <td>1.0</td>\n",
       "      <td>1</td>\n",
       "      <td>598.425448</td>\n",
       "      <td>4572.118439</td>\n",
       "      <td>2019-10-20 19:17:18.659799</td>\n",
       "      <td>2019-10-20 18:49:24.115634</td>\n",
       "    </tr>\n",
       "    <tr>\n",
       "      <th>45</th>\n",
       "      <td>2019-10-20 18:59:22.541082</td>\n",
       "      <td>photos_show</td>\n",
       "      <td>00157779-810c-4498-9e05-a1e9e3cedf93</td>\n",
       "      <td>2019-10-20</td>\n",
       "      <td>45</td>\n",
       "      <td>0 days 00:09:58.425448</td>\n",
       "      <td>44</td>\n",
       "      <td>1.0</td>\n",
       "      <td>0</td>\n",
       "      <td>219.488922</td>\n",
       "      <td>NaN</td>\n",
       "      <td>2019-10-20 19:17:18.659799</td>\n",
       "      <td>NaT</td>\n",
       "    </tr>\n",
       "    <tr>\n",
       "      <th>46</th>\n",
       "      <td>2019-10-20 19:03:02.030004</td>\n",
       "      <td>favorites_add</td>\n",
       "      <td>00157779-810c-4498-9e05-a1e9e3cedf93</td>\n",
       "      <td>2019-10-20</td>\n",
       "      <td>46</td>\n",
       "      <td>0 days 00:03:39.488922</td>\n",
       "      <td>44</td>\n",
       "      <td>1.0</td>\n",
       "      <td>0</td>\n",
       "      <td>74.119730</td>\n",
       "      <td>NaN</td>\n",
       "      <td>2019-10-20 19:17:18.659799</td>\n",
       "      <td>NaT</td>\n",
       "    </tr>\n",
       "    <tr>\n",
       "      <th>47</th>\n",
       "      <td>2019-10-20 19:04:16.149734</td>\n",
       "      <td>search_1</td>\n",
       "      <td>00157779-810c-4498-9e05-a1e9e3cedf93</td>\n",
       "      <td>2019-10-20</td>\n",
       "      <td>47</td>\n",
       "      <td>0 days 00:01:14.119730</td>\n",
       "      <td>44</td>\n",
       "      <td>1.0</td>\n",
       "      <td>0</td>\n",
       "      <td>340.012830</td>\n",
       "      <td>NaN</td>\n",
       "      <td>2019-10-20 19:17:18.659799</td>\n",
       "      <td>NaT</td>\n",
       "    </tr>\n",
       "    <tr>\n",
       "      <th>48</th>\n",
       "      <td>2019-10-20 19:09:56.162564</td>\n",
       "      <td>search_1</td>\n",
       "      <td>00157779-810c-4498-9e05-a1e9e3cedf93</td>\n",
       "      <td>2019-10-20</td>\n",
       "      <td>48</td>\n",
       "      <td>0 days 00:05:40.012830</td>\n",
       "      <td>44</td>\n",
       "      <td>1.0</td>\n",
       "      <td>0</td>\n",
       "      <td>111.181732</td>\n",
       "      <td>NaN</td>\n",
       "      <td>2019-10-20 19:17:18.659799</td>\n",
       "      <td>NaT</td>\n",
       "    </tr>\n",
       "  </tbody>\n",
       "</table>\n",
       "</div>"
      ],
      "text/plain": [
       "                   event_time     event_name  \\\n",
       "44 2019-10-20 18:49:24.115634       search_1   \n",
       "45 2019-10-20 18:59:22.541082    photos_show   \n",
       "46 2019-10-20 19:03:02.030004  favorites_add   \n",
       "47 2019-10-20 19:04:16.149734       search_1   \n",
       "48 2019-10-20 19:09:56.162564       search_1   \n",
       "\n",
       "                                 user_id  event_date  event_id  \\\n",
       "44  00157779-810c-4498-9e05-a1e9e3cedf93  2019-10-20        44   \n",
       "45  00157779-810c-4498-9e05-a1e9e3cedf93  2019-10-20        45   \n",
       "46  00157779-810c-4498-9e05-a1e9e3cedf93  2019-10-20        46   \n",
       "47  00157779-810c-4498-9e05-a1e9e3cedf93  2019-10-20        47   \n",
       "48  00157779-810c-4498-9e05-a1e9e3cedf93  2019-10-20        48   \n",
       "\n",
       "                     diff  session_id  number_show_contacts  \\\n",
       "44 0 days 20:49:29.478536          44                   1.0   \n",
       "45 0 days 00:09:58.425448          44                   1.0   \n",
       "46 0 days 00:03:39.488922          44                   1.0   \n",
       "47 0 days 00:01:14.119730          44                   1.0   \n",
       "48 0 days 00:05:40.012830          44                   1.0   \n",
       "\n",
       "   is_first_event_in_session  time_on_page  sum_time_session  \\\n",
       "44                         1    598.425448       4572.118439   \n",
       "45                         0    219.488922               NaN   \n",
       "46                         0     74.119730               NaN   \n",
       "47                         0    340.012830               NaN   \n",
       "48                         0    111.181732               NaN   \n",
       "\n",
       "           date_show_contacts              session_start  \n",
       "44 2019-10-20 19:17:18.659799 2019-10-20 18:49:24.115634  \n",
       "45 2019-10-20 19:17:18.659799                        NaT  \n",
       "46 2019-10-20 19:17:18.659799                        NaT  \n",
       "47 2019-10-20 19:17:18.659799                        NaT  \n",
       "48 2019-10-20 19:17:18.659799                        NaT  "
      ]
     },
     "execution_count": 44,
     "metadata": {},
     "output_type": "execute_result"
    }
   ],
   "source": [
    "# добавим столбец с началом сессии\n",
    "df_session['session_start']=df_session.groupby('session_id')['event_time'].min()\n",
    "df_session.head()"
   ]
  },
  {
   "cell_type": "code",
   "execution_count": 45,
   "metadata": {},
   "outputs": [
    {
     "data": {
      "text/html": [
       "<div>\n",
       "<style scoped>\n",
       "    .dataframe tbody tr th:only-of-type {\n",
       "        vertical-align: middle;\n",
       "    }\n",
       "\n",
       "    .dataframe tbody tr th {\n",
       "        vertical-align: top;\n",
       "    }\n",
       "\n",
       "    .dataframe thead th {\n",
       "        text-align: right;\n",
       "    }\n",
       "</style>\n",
       "<table border=\"1\" class=\"dataframe\">\n",
       "  <thead>\n",
       "    <tr style=\"text-align: right;\">\n",
       "      <th></th>\n",
       "      <th>event_time</th>\n",
       "      <th>event_name</th>\n",
       "      <th>user_id</th>\n",
       "      <th>event_date</th>\n",
       "      <th>event_id</th>\n",
       "      <th>diff</th>\n",
       "      <th>session_id</th>\n",
       "      <th>number_show_contacts</th>\n",
       "      <th>is_first_event_in_session</th>\n",
       "      <th>time_on_page</th>\n",
       "      <th>sum_time_session</th>\n",
       "      <th>date_show_contacts</th>\n",
       "      <th>session_start</th>\n",
       "      <th>user_path</th>\n",
       "    </tr>\n",
       "  </thead>\n",
       "  <tbody>\n",
       "    <tr>\n",
       "      <th>44</th>\n",
       "      <td>2019-10-20 18:49:24.115634</td>\n",
       "      <td>search_1</td>\n",
       "      <td>00157779-810c-4498-9e05-a1e9e3cedf93</td>\n",
       "      <td>2019-10-20</td>\n",
       "      <td>44</td>\n",
       "      <td>0 days 20:49:29.478536</td>\n",
       "      <td>44</td>\n",
       "      <td>1.0</td>\n",
       "      <td>1</td>\n",
       "      <td>598.425448</td>\n",
       "      <td>4572.118439</td>\n",
       "      <td>2019-10-20 19:17:18.659799</td>\n",
       "      <td>2019-10-20 18:49:24.115634</td>\n",
       "      <td>[search_1, photos_show, favorites_add, search_...</td>\n",
       "    </tr>\n",
       "    <tr>\n",
       "      <th>45</th>\n",
       "      <td>2019-10-20 18:59:22.541082</td>\n",
       "      <td>photos_show</td>\n",
       "      <td>00157779-810c-4498-9e05-a1e9e3cedf93</td>\n",
       "      <td>2019-10-20</td>\n",
       "      <td>45</td>\n",
       "      <td>0 days 00:09:58.425448</td>\n",
       "      <td>44</td>\n",
       "      <td>1.0</td>\n",
       "      <td>0</td>\n",
       "      <td>219.488922</td>\n",
       "      <td>NaN</td>\n",
       "      <td>2019-10-20 19:17:18.659799</td>\n",
       "      <td>NaT</td>\n",
       "      <td>NaN</td>\n",
       "    </tr>\n",
       "    <tr>\n",
       "      <th>46</th>\n",
       "      <td>2019-10-20 19:03:02.030004</td>\n",
       "      <td>favorites_add</td>\n",
       "      <td>00157779-810c-4498-9e05-a1e9e3cedf93</td>\n",
       "      <td>2019-10-20</td>\n",
       "      <td>46</td>\n",
       "      <td>0 days 00:03:39.488922</td>\n",
       "      <td>44</td>\n",
       "      <td>1.0</td>\n",
       "      <td>0</td>\n",
       "      <td>74.119730</td>\n",
       "      <td>NaN</td>\n",
       "      <td>2019-10-20 19:17:18.659799</td>\n",
       "      <td>NaT</td>\n",
       "      <td>NaN</td>\n",
       "    </tr>\n",
       "    <tr>\n",
       "      <th>47</th>\n",
       "      <td>2019-10-20 19:04:16.149734</td>\n",
       "      <td>search_1</td>\n",
       "      <td>00157779-810c-4498-9e05-a1e9e3cedf93</td>\n",
       "      <td>2019-10-20</td>\n",
       "      <td>47</td>\n",
       "      <td>0 days 00:01:14.119730</td>\n",
       "      <td>44</td>\n",
       "      <td>1.0</td>\n",
       "      <td>0</td>\n",
       "      <td>340.012830</td>\n",
       "      <td>NaN</td>\n",
       "      <td>2019-10-20 19:17:18.659799</td>\n",
       "      <td>NaT</td>\n",
       "      <td>NaN</td>\n",
       "    </tr>\n",
       "    <tr>\n",
       "      <th>48</th>\n",
       "      <td>2019-10-20 19:09:56.162564</td>\n",
       "      <td>search_1</td>\n",
       "      <td>00157779-810c-4498-9e05-a1e9e3cedf93</td>\n",
       "      <td>2019-10-20</td>\n",
       "      <td>48</td>\n",
       "      <td>0 days 00:05:40.012830</td>\n",
       "      <td>44</td>\n",
       "      <td>1.0</td>\n",
       "      <td>0</td>\n",
       "      <td>111.181732</td>\n",
       "      <td>NaN</td>\n",
       "      <td>2019-10-20 19:17:18.659799</td>\n",
       "      <td>NaT</td>\n",
       "      <td>NaN</td>\n",
       "    </tr>\n",
       "  </tbody>\n",
       "</table>\n",
       "</div>"
      ],
      "text/plain": [
       "                   event_time     event_name  \\\n",
       "44 2019-10-20 18:49:24.115634       search_1   \n",
       "45 2019-10-20 18:59:22.541082    photos_show   \n",
       "46 2019-10-20 19:03:02.030004  favorites_add   \n",
       "47 2019-10-20 19:04:16.149734       search_1   \n",
       "48 2019-10-20 19:09:56.162564       search_1   \n",
       "\n",
       "                                 user_id  event_date  event_id  \\\n",
       "44  00157779-810c-4498-9e05-a1e9e3cedf93  2019-10-20        44   \n",
       "45  00157779-810c-4498-9e05-a1e9e3cedf93  2019-10-20        45   \n",
       "46  00157779-810c-4498-9e05-a1e9e3cedf93  2019-10-20        46   \n",
       "47  00157779-810c-4498-9e05-a1e9e3cedf93  2019-10-20        47   \n",
       "48  00157779-810c-4498-9e05-a1e9e3cedf93  2019-10-20        48   \n",
       "\n",
       "                     diff  session_id  number_show_contacts  \\\n",
       "44 0 days 20:49:29.478536          44                   1.0   \n",
       "45 0 days 00:09:58.425448          44                   1.0   \n",
       "46 0 days 00:03:39.488922          44                   1.0   \n",
       "47 0 days 00:01:14.119730          44                   1.0   \n",
       "48 0 days 00:05:40.012830          44                   1.0   \n",
       "\n",
       "   is_first_event_in_session  time_on_page  sum_time_session  \\\n",
       "44                         1    598.425448       4572.118439   \n",
       "45                         0    219.488922               NaN   \n",
       "46                         0     74.119730               NaN   \n",
       "47                         0    340.012830               NaN   \n",
       "48                         0    111.181732               NaN   \n",
       "\n",
       "           date_show_contacts              session_start  \\\n",
       "44 2019-10-20 19:17:18.659799 2019-10-20 18:49:24.115634   \n",
       "45 2019-10-20 19:17:18.659799                        NaT   \n",
       "46 2019-10-20 19:17:18.659799                        NaT   \n",
       "47 2019-10-20 19:17:18.659799                        NaT   \n",
       "48 2019-10-20 19:17:18.659799                        NaT   \n",
       "\n",
       "                                            user_path  \n",
       "44  [search_1, photos_show, favorites_add, search_...  \n",
       "45                                                NaN  \n",
       "46                                                NaN  \n",
       "47                                                NaN  \n",
       "48                                                NaN  "
      ]
     },
     "execution_count": 45,
     "metadata": {},
     "output_type": "execute_result"
    }
   ],
   "source": [
    "# добавим столбец с шагами, входящими в сессию\n",
    "df_session['user_path']=df_session.groupby('session_id')['event_name'].apply(list)\n",
    "df_session.head()"
   ]
  },
  {
   "cell_type": "code",
   "execution_count": 46,
   "metadata": {},
   "outputs": [
    {
     "data": {
      "text/html": [
       "<div>\n",
       "<style scoped>\n",
       "    .dataframe tbody tr th:only-of-type {\n",
       "        vertical-align: middle;\n",
       "    }\n",
       "\n",
       "    .dataframe tbody tr th {\n",
       "        vertical-align: top;\n",
       "    }\n",
       "\n",
       "    .dataframe thead th {\n",
       "        text-align: right;\n",
       "    }\n",
       "</style>\n",
       "<table border=\"1\" class=\"dataframe\">\n",
       "  <thead>\n",
       "    <tr style=\"text-align: right;\">\n",
       "      <th></th>\n",
       "      <th>event_time</th>\n",
       "      <th>event_name</th>\n",
       "      <th>user_id</th>\n",
       "      <th>event_date</th>\n",
       "      <th>event_id</th>\n",
       "      <th>diff</th>\n",
       "      <th>session_id</th>\n",
       "      <th>number_show_contacts</th>\n",
       "      <th>is_first_event_in_session</th>\n",
       "      <th>time_on_page</th>\n",
       "      <th>sum_time_session</th>\n",
       "      <th>date_show_contacts</th>\n",
       "      <th>session_start</th>\n",
       "      <th>user_path</th>\n",
       "    </tr>\n",
       "  </thead>\n",
       "  <tbody>\n",
       "    <tr>\n",
       "      <th>44</th>\n",
       "      <td>2019-10-20 18:49:24.115634</td>\n",
       "      <td>search_1</td>\n",
       "      <td>00157779-810c-4498-9e05-a1e9e3cedf93</td>\n",
       "      <td>2019-10-20</td>\n",
       "      <td>44</td>\n",
       "      <td>0 days 20:49:29.478536</td>\n",
       "      <td>44</td>\n",
       "      <td>1.0</td>\n",
       "      <td>1</td>\n",
       "      <td>598.425448</td>\n",
       "      <td>4572.118439</td>\n",
       "      <td>2019-10-20 19:17:18.659799</td>\n",
       "      <td>2019-10-20 18:49:24.115634</td>\n",
       "      <td>[search_1, photos_show, favorites_add, search_...</td>\n",
       "    </tr>\n",
       "    <tr>\n",
       "      <th>71</th>\n",
       "      <td>2019-10-29 21:18:24.850073</td>\n",
       "      <td>search_1</td>\n",
       "      <td>00157779-810c-4498-9e05-a1e9e3cedf93</td>\n",
       "      <td>2019-10-29</td>\n",
       "      <td>71</td>\n",
       "      <td>5 days 10:21:12.174963</td>\n",
       "      <td>71</td>\n",
       "      <td>1.0</td>\n",
       "      <td>1</td>\n",
       "      <td>70.539719</td>\n",
       "      <td>3120.862767</td>\n",
       "      <td>2019-10-29 21:26:40.258472</td>\n",
       "      <td>2019-10-29 21:18:24.850073</td>\n",
       "      <td>[search_1, photos_show, photos_show, search_1,...</td>\n",
       "    </tr>\n",
       "    <tr>\n",
       "      <th>91</th>\n",
       "      <td>2019-10-30 07:50:45.948358</td>\n",
       "      <td>search_1</td>\n",
       "      <td>00157779-810c-4498-9e05-a1e9e3cedf93</td>\n",
       "      <td>2019-10-30</td>\n",
       "      <td>91</td>\n",
       "      <td>0 days 09:40:20.235518</td>\n",
       "      <td>91</td>\n",
       "      <td>1.0</td>\n",
       "      <td>1</td>\n",
       "      <td>146.781695</td>\n",
       "      <td>2167.984818</td>\n",
       "      <td>2019-10-30 08:01:05.420773</td>\n",
       "      <td>2019-10-30 07:50:45.948358</td>\n",
       "      <td>[search_1, photos_show, photos_show, search_1,...</td>\n",
       "    </tr>\n",
       "    <tr>\n",
       "      <th>105</th>\n",
       "      <td>2019-11-03 17:12:09.708771</td>\n",
       "      <td>show_contacts</td>\n",
       "      <td>00157779-810c-4498-9e05-a1e9e3cedf93</td>\n",
       "      <td>2019-11-03</td>\n",
       "      <td>105</td>\n",
       "      <td>4 days 08:45:15.775595</td>\n",
       "      <td>105</td>\n",
       "      <td>1.0</td>\n",
       "      <td>1</td>\n",
       "      <td>NaN</td>\n",
       "      <td>0.000000</td>\n",
       "      <td>2019-11-03 17:12:09.708771</td>\n",
       "      <td>2019-11-03 17:12:09.708771</td>\n",
       "      <td>[show_contacts]</td>\n",
       "    </tr>\n",
       "    <tr>\n",
       "      <th>148</th>\n",
       "      <td>2019-10-25 16:44:41.263364</td>\n",
       "      <td>show_contacts</td>\n",
       "      <td>00551e79-152e-4441-9cf7-565d7eb04090</td>\n",
       "      <td>2019-10-25</td>\n",
       "      <td>148</td>\n",
       "      <td>NaT</td>\n",
       "      <td>148</td>\n",
       "      <td>1.0</td>\n",
       "      <td>1</td>\n",
       "      <td>3.523496</td>\n",
       "      <td>3.523496</td>\n",
       "      <td>2019-10-25 16:44:41.263364</td>\n",
       "      <td>2019-10-25 16:44:41.263364</td>\n",
       "      <td>[show_contacts]</td>\n",
       "    </tr>\n",
       "  </tbody>\n",
       "</table>\n",
       "</div>"
      ],
      "text/plain": [
       "                    event_time     event_name  \\\n",
       "44  2019-10-20 18:49:24.115634       search_1   \n",
       "71  2019-10-29 21:18:24.850073       search_1   \n",
       "91  2019-10-30 07:50:45.948358       search_1   \n",
       "105 2019-11-03 17:12:09.708771  show_contacts   \n",
       "148 2019-10-25 16:44:41.263364  show_contacts   \n",
       "\n",
       "                                  user_id  event_date  event_id  \\\n",
       "44   00157779-810c-4498-9e05-a1e9e3cedf93  2019-10-20        44   \n",
       "71   00157779-810c-4498-9e05-a1e9e3cedf93  2019-10-29        71   \n",
       "91   00157779-810c-4498-9e05-a1e9e3cedf93  2019-10-30        91   \n",
       "105  00157779-810c-4498-9e05-a1e9e3cedf93  2019-11-03       105   \n",
       "148  00551e79-152e-4441-9cf7-565d7eb04090  2019-10-25       148   \n",
       "\n",
       "                      diff  session_id  number_show_contacts  \\\n",
       "44  0 days 20:49:29.478536          44                   1.0   \n",
       "71  5 days 10:21:12.174963          71                   1.0   \n",
       "91  0 days 09:40:20.235518          91                   1.0   \n",
       "105 4 days 08:45:15.775595         105                   1.0   \n",
       "148                    NaT         148                   1.0   \n",
       "\n",
       "    is_first_event_in_session  time_on_page  sum_time_session  \\\n",
       "44                          1    598.425448       4572.118439   \n",
       "71                          1     70.539719       3120.862767   \n",
       "91                          1    146.781695       2167.984818   \n",
       "105                         1           NaN          0.000000   \n",
       "148                         1      3.523496          3.523496   \n",
       "\n",
       "            date_show_contacts              session_start  \\\n",
       "44  2019-10-20 19:17:18.659799 2019-10-20 18:49:24.115634   \n",
       "71  2019-10-29 21:26:40.258472 2019-10-29 21:18:24.850073   \n",
       "91  2019-10-30 08:01:05.420773 2019-10-30 07:50:45.948358   \n",
       "105 2019-11-03 17:12:09.708771 2019-11-03 17:12:09.708771   \n",
       "148 2019-10-25 16:44:41.263364 2019-10-25 16:44:41.263364   \n",
       "\n",
       "                                             user_path  \n",
       "44   [search_1, photos_show, favorites_add, search_...  \n",
       "71   [search_1, photos_show, photos_show, search_1,...  \n",
       "91   [search_1, photos_show, photos_show, search_1,...  \n",
       "105                                    [show_contacts]  \n",
       "148                                    [show_contacts]  "
      ]
     },
     "execution_count": 46,
     "metadata": {},
     "output_type": "execute_result"
    }
   ],
   "source": [
    "# оставим в таблице данные о первой странице\n",
    "df_session=df_session[df_session.is_first_event_in_session=='1']\n",
    "df_session.head()"
   ]
  },
  {
   "cell_type": "code",
   "execution_count": 47,
   "metadata": {},
   "outputs": [
    {
     "data": {
      "text/html": [
       "<div>\n",
       "<style scoped>\n",
       "    .dataframe tbody tr th:only-of-type {\n",
       "        vertical-align: middle;\n",
       "    }\n",
       "\n",
       "    .dataframe tbody tr th {\n",
       "        vertical-align: top;\n",
       "    }\n",
       "\n",
       "    .dataframe thead th {\n",
       "        text-align: right;\n",
       "    }\n",
       "</style>\n",
       "<table border=\"1\" class=\"dataframe\">\n",
       "  <thead>\n",
       "    <tr style=\"text-align: right;\">\n",
       "      <th></th>\n",
       "      <th>event_time</th>\n",
       "      <th>event_name</th>\n",
       "      <th>user_id</th>\n",
       "      <th>event_date</th>\n",
       "      <th>event_id</th>\n",
       "      <th>diff</th>\n",
       "      <th>session_id</th>\n",
       "      <th>number_show_contacts</th>\n",
       "      <th>is_first_event_in_session</th>\n",
       "      <th>time_on_page</th>\n",
       "      <th>sum_time_session</th>\n",
       "      <th>date_show_contacts</th>\n",
       "      <th>session_start</th>\n",
       "      <th>user_path</th>\n",
       "      <th>time_to_show_contacts</th>\n",
       "    </tr>\n",
       "  </thead>\n",
       "  <tbody>\n",
       "    <tr>\n",
       "      <th>44</th>\n",
       "      <td>2019-10-20 18:49:24.115634</td>\n",
       "      <td>search_1</td>\n",
       "      <td>00157779-810c-4498-9e05-a1e9e3cedf93</td>\n",
       "      <td>2019-10-20</td>\n",
       "      <td>44</td>\n",
       "      <td>0 days 20:49:29.478536</td>\n",
       "      <td>44</td>\n",
       "      <td>1.0</td>\n",
       "      <td>1</td>\n",
       "      <td>598.425448</td>\n",
       "      <td>4572.118439</td>\n",
       "      <td>2019-10-20 19:17:18.659799</td>\n",
       "      <td>2019-10-20 18:49:24.115634</td>\n",
       "      <td>[search_1, photos_show, favorites_add, search_...</td>\n",
       "      <td>0 days 00:27:54.544165</td>\n",
       "    </tr>\n",
       "    <tr>\n",
       "      <th>71</th>\n",
       "      <td>2019-10-29 21:18:24.850073</td>\n",
       "      <td>search_1</td>\n",
       "      <td>00157779-810c-4498-9e05-a1e9e3cedf93</td>\n",
       "      <td>2019-10-29</td>\n",
       "      <td>71</td>\n",
       "      <td>5 days 10:21:12.174963</td>\n",
       "      <td>71</td>\n",
       "      <td>1.0</td>\n",
       "      <td>1</td>\n",
       "      <td>70.539719</td>\n",
       "      <td>3120.862767</td>\n",
       "      <td>2019-10-29 21:26:40.258472</td>\n",
       "      <td>2019-10-29 21:18:24.850073</td>\n",
       "      <td>[search_1, photos_show, photos_show, search_1,...</td>\n",
       "      <td>0 days 00:08:15.408399</td>\n",
       "    </tr>\n",
       "    <tr>\n",
       "      <th>91</th>\n",
       "      <td>2019-10-30 07:50:45.948358</td>\n",
       "      <td>search_1</td>\n",
       "      <td>00157779-810c-4498-9e05-a1e9e3cedf93</td>\n",
       "      <td>2019-10-30</td>\n",
       "      <td>91</td>\n",
       "      <td>0 days 09:40:20.235518</td>\n",
       "      <td>91</td>\n",
       "      <td>1.0</td>\n",
       "      <td>1</td>\n",
       "      <td>146.781695</td>\n",
       "      <td>2167.984818</td>\n",
       "      <td>2019-10-30 08:01:05.420773</td>\n",
       "      <td>2019-10-30 07:50:45.948358</td>\n",
       "      <td>[search_1, photos_show, photos_show, search_1,...</td>\n",
       "      <td>0 days 00:10:19.472415</td>\n",
       "    </tr>\n",
       "    <tr>\n",
       "      <th>105</th>\n",
       "      <td>2019-11-03 17:12:09.708771</td>\n",
       "      <td>show_contacts</td>\n",
       "      <td>00157779-810c-4498-9e05-a1e9e3cedf93</td>\n",
       "      <td>2019-11-03</td>\n",
       "      <td>105</td>\n",
       "      <td>4 days 08:45:15.775595</td>\n",
       "      <td>105</td>\n",
       "      <td>1.0</td>\n",
       "      <td>1</td>\n",
       "      <td>NaN</td>\n",
       "      <td>0.000000</td>\n",
       "      <td>2019-11-03 17:12:09.708771</td>\n",
       "      <td>2019-11-03 17:12:09.708771</td>\n",
       "      <td>[show_contacts]</td>\n",
       "      <td>0 days 00:00:00</td>\n",
       "    </tr>\n",
       "    <tr>\n",
       "      <th>148</th>\n",
       "      <td>2019-10-25 16:44:41.263364</td>\n",
       "      <td>show_contacts</td>\n",
       "      <td>00551e79-152e-4441-9cf7-565d7eb04090</td>\n",
       "      <td>2019-10-25</td>\n",
       "      <td>148</td>\n",
       "      <td>NaT</td>\n",
       "      <td>148</td>\n",
       "      <td>1.0</td>\n",
       "      <td>1</td>\n",
       "      <td>3.523496</td>\n",
       "      <td>3.523496</td>\n",
       "      <td>2019-10-25 16:44:41.263364</td>\n",
       "      <td>2019-10-25 16:44:41.263364</td>\n",
       "      <td>[show_contacts]</td>\n",
       "      <td>0 days 00:00:00</td>\n",
       "    </tr>\n",
       "  </tbody>\n",
       "</table>\n",
       "</div>"
      ],
      "text/plain": [
       "                    event_time     event_name  \\\n",
       "44  2019-10-20 18:49:24.115634       search_1   \n",
       "71  2019-10-29 21:18:24.850073       search_1   \n",
       "91  2019-10-30 07:50:45.948358       search_1   \n",
       "105 2019-11-03 17:12:09.708771  show_contacts   \n",
       "148 2019-10-25 16:44:41.263364  show_contacts   \n",
       "\n",
       "                                  user_id  event_date  event_id  \\\n",
       "44   00157779-810c-4498-9e05-a1e9e3cedf93  2019-10-20        44   \n",
       "71   00157779-810c-4498-9e05-a1e9e3cedf93  2019-10-29        71   \n",
       "91   00157779-810c-4498-9e05-a1e9e3cedf93  2019-10-30        91   \n",
       "105  00157779-810c-4498-9e05-a1e9e3cedf93  2019-11-03       105   \n",
       "148  00551e79-152e-4441-9cf7-565d7eb04090  2019-10-25       148   \n",
       "\n",
       "                      diff  session_id  number_show_contacts  \\\n",
       "44  0 days 20:49:29.478536          44                   1.0   \n",
       "71  5 days 10:21:12.174963          71                   1.0   \n",
       "91  0 days 09:40:20.235518          91                   1.0   \n",
       "105 4 days 08:45:15.775595         105                   1.0   \n",
       "148                    NaT         148                   1.0   \n",
       "\n",
       "    is_first_event_in_session  time_on_page  sum_time_session  \\\n",
       "44                          1    598.425448       4572.118439   \n",
       "71                          1     70.539719       3120.862767   \n",
       "91                          1    146.781695       2167.984818   \n",
       "105                         1           NaN          0.000000   \n",
       "148                         1      3.523496          3.523496   \n",
       "\n",
       "            date_show_contacts              session_start  \\\n",
       "44  2019-10-20 19:17:18.659799 2019-10-20 18:49:24.115634   \n",
       "71  2019-10-29 21:26:40.258472 2019-10-29 21:18:24.850073   \n",
       "91  2019-10-30 08:01:05.420773 2019-10-30 07:50:45.948358   \n",
       "105 2019-11-03 17:12:09.708771 2019-11-03 17:12:09.708771   \n",
       "148 2019-10-25 16:44:41.263364 2019-10-25 16:44:41.263364   \n",
       "\n",
       "                                             user_path  time_to_show_contacts  \n",
       "44   [search_1, photos_show, favorites_add, search_... 0 days 00:27:54.544165  \n",
       "71   [search_1, photos_show, photos_show, search_1,... 0 days 00:08:15.408399  \n",
       "91   [search_1, photos_show, photos_show, search_1,... 0 days 00:10:19.472415  \n",
       "105                                    [show_contacts]        0 days 00:00:00  \n",
       "148                                    [show_contacts]        0 days 00:00:00  "
      ]
     },
     "execution_count": 47,
     "metadata": {},
     "output_type": "execute_result"
    }
   ],
   "source": [
    "# вычислим время до целевого действия в каждой сессии\n",
    "df_session['time_to_show_contacts']=df_session.date_show_contacts-df_session.session_start\n",
    "df_session.head()"
   ]
  },
  {
   "cell_type": "code",
   "execution_count": 48,
   "metadata": {},
   "outputs": [
    {
     "data": {
      "text/html": [
       "<div>\n",
       "<style scoped>\n",
       "    .dataframe tbody tr th:only-of-type {\n",
       "        vertical-align: middle;\n",
       "    }\n",
       "\n",
       "    .dataframe tbody tr th {\n",
       "        vertical-align: top;\n",
       "    }\n",
       "\n",
       "    .dataframe thead th {\n",
       "        text-align: right;\n",
       "    }\n",
       "</style>\n",
       "<table border=\"1\" class=\"dataframe\">\n",
       "  <thead>\n",
       "    <tr style=\"text-align: right;\">\n",
       "      <th></th>\n",
       "      <th>event_time</th>\n",
       "      <th>event_name</th>\n",
       "      <th>user_id</th>\n",
       "      <th>event_date</th>\n",
       "      <th>event_id</th>\n",
       "      <th>diff</th>\n",
       "      <th>session_id</th>\n",
       "      <th>number_show_contacts</th>\n",
       "      <th>is_first_event_in_session</th>\n",
       "      <th>time_on_page</th>\n",
       "      <th>sum_time_session</th>\n",
       "      <th>date_show_contacts</th>\n",
       "      <th>session_start</th>\n",
       "      <th>user_path</th>\n",
       "      <th>time_to_show_contacts</th>\n",
       "      <th>sec_to_show_contacts</th>\n",
       "    </tr>\n",
       "  </thead>\n",
       "  <tbody>\n",
       "    <tr>\n",
       "      <th>44</th>\n",
       "      <td>2019-10-20 18:49:24.115634</td>\n",
       "      <td>search_1</td>\n",
       "      <td>00157779-810c-4498-9e05-a1e9e3cedf93</td>\n",
       "      <td>2019-10-20</td>\n",
       "      <td>44</td>\n",
       "      <td>0 days 20:49:29.478536</td>\n",
       "      <td>44</td>\n",
       "      <td>1.0</td>\n",
       "      <td>1</td>\n",
       "      <td>598.425448</td>\n",
       "      <td>4572.118439</td>\n",
       "      <td>2019-10-20 19:17:18.659799</td>\n",
       "      <td>2019-10-20 18:49:24.115634</td>\n",
       "      <td>[search_1, photos_show, favorites_add, search_...</td>\n",
       "      <td>0 days 00:27:54.544165</td>\n",
       "      <td>1674.544165</td>\n",
       "    </tr>\n",
       "    <tr>\n",
       "      <th>71</th>\n",
       "      <td>2019-10-29 21:18:24.850073</td>\n",
       "      <td>search_1</td>\n",
       "      <td>00157779-810c-4498-9e05-a1e9e3cedf93</td>\n",
       "      <td>2019-10-29</td>\n",
       "      <td>71</td>\n",
       "      <td>5 days 10:21:12.174963</td>\n",
       "      <td>71</td>\n",
       "      <td>1.0</td>\n",
       "      <td>1</td>\n",
       "      <td>70.539719</td>\n",
       "      <td>3120.862767</td>\n",
       "      <td>2019-10-29 21:26:40.258472</td>\n",
       "      <td>2019-10-29 21:18:24.850073</td>\n",
       "      <td>[search_1, photos_show, photos_show, search_1,...</td>\n",
       "      <td>0 days 00:08:15.408399</td>\n",
       "      <td>495.408399</td>\n",
       "    </tr>\n",
       "    <tr>\n",
       "      <th>91</th>\n",
       "      <td>2019-10-30 07:50:45.948358</td>\n",
       "      <td>search_1</td>\n",
       "      <td>00157779-810c-4498-9e05-a1e9e3cedf93</td>\n",
       "      <td>2019-10-30</td>\n",
       "      <td>91</td>\n",
       "      <td>0 days 09:40:20.235518</td>\n",
       "      <td>91</td>\n",
       "      <td>1.0</td>\n",
       "      <td>1</td>\n",
       "      <td>146.781695</td>\n",
       "      <td>2167.984818</td>\n",
       "      <td>2019-10-30 08:01:05.420773</td>\n",
       "      <td>2019-10-30 07:50:45.948358</td>\n",
       "      <td>[search_1, photos_show, photos_show, search_1,...</td>\n",
       "      <td>0 days 00:10:19.472415</td>\n",
       "      <td>619.472415</td>\n",
       "    </tr>\n",
       "    <tr>\n",
       "      <th>105</th>\n",
       "      <td>2019-11-03 17:12:09.708771</td>\n",
       "      <td>show_contacts</td>\n",
       "      <td>00157779-810c-4498-9e05-a1e9e3cedf93</td>\n",
       "      <td>2019-11-03</td>\n",
       "      <td>105</td>\n",
       "      <td>4 days 08:45:15.775595</td>\n",
       "      <td>105</td>\n",
       "      <td>1.0</td>\n",
       "      <td>1</td>\n",
       "      <td>NaN</td>\n",
       "      <td>0.000000</td>\n",
       "      <td>2019-11-03 17:12:09.708771</td>\n",
       "      <td>2019-11-03 17:12:09.708771</td>\n",
       "      <td>[show_contacts]</td>\n",
       "      <td>0 days 00:00:00</td>\n",
       "      <td>0.000000</td>\n",
       "    </tr>\n",
       "    <tr>\n",
       "      <th>148</th>\n",
       "      <td>2019-10-25 16:44:41.263364</td>\n",
       "      <td>show_contacts</td>\n",
       "      <td>00551e79-152e-4441-9cf7-565d7eb04090</td>\n",
       "      <td>2019-10-25</td>\n",
       "      <td>148</td>\n",
       "      <td>NaT</td>\n",
       "      <td>148</td>\n",
       "      <td>1.0</td>\n",
       "      <td>1</td>\n",
       "      <td>3.523496</td>\n",
       "      <td>3.523496</td>\n",
       "      <td>2019-10-25 16:44:41.263364</td>\n",
       "      <td>2019-10-25 16:44:41.263364</td>\n",
       "      <td>[show_contacts]</td>\n",
       "      <td>0 days 00:00:00</td>\n",
       "      <td>0.000000</td>\n",
       "    </tr>\n",
       "  </tbody>\n",
       "</table>\n",
       "</div>"
      ],
      "text/plain": [
       "                    event_time     event_name  \\\n",
       "44  2019-10-20 18:49:24.115634       search_1   \n",
       "71  2019-10-29 21:18:24.850073       search_1   \n",
       "91  2019-10-30 07:50:45.948358       search_1   \n",
       "105 2019-11-03 17:12:09.708771  show_contacts   \n",
       "148 2019-10-25 16:44:41.263364  show_contacts   \n",
       "\n",
       "                                  user_id  event_date  event_id  \\\n",
       "44   00157779-810c-4498-9e05-a1e9e3cedf93  2019-10-20        44   \n",
       "71   00157779-810c-4498-9e05-a1e9e3cedf93  2019-10-29        71   \n",
       "91   00157779-810c-4498-9e05-a1e9e3cedf93  2019-10-30        91   \n",
       "105  00157779-810c-4498-9e05-a1e9e3cedf93  2019-11-03       105   \n",
       "148  00551e79-152e-4441-9cf7-565d7eb04090  2019-10-25       148   \n",
       "\n",
       "                      diff  session_id  number_show_contacts  \\\n",
       "44  0 days 20:49:29.478536          44                   1.0   \n",
       "71  5 days 10:21:12.174963          71                   1.0   \n",
       "91  0 days 09:40:20.235518          91                   1.0   \n",
       "105 4 days 08:45:15.775595         105                   1.0   \n",
       "148                    NaT         148                   1.0   \n",
       "\n",
       "    is_first_event_in_session  time_on_page  sum_time_session  \\\n",
       "44                          1    598.425448       4572.118439   \n",
       "71                          1     70.539719       3120.862767   \n",
       "91                          1    146.781695       2167.984818   \n",
       "105                         1           NaN          0.000000   \n",
       "148                         1      3.523496          3.523496   \n",
       "\n",
       "            date_show_contacts              session_start  \\\n",
       "44  2019-10-20 19:17:18.659799 2019-10-20 18:49:24.115634   \n",
       "71  2019-10-29 21:26:40.258472 2019-10-29 21:18:24.850073   \n",
       "91  2019-10-30 08:01:05.420773 2019-10-30 07:50:45.948358   \n",
       "105 2019-11-03 17:12:09.708771 2019-11-03 17:12:09.708771   \n",
       "148 2019-10-25 16:44:41.263364 2019-10-25 16:44:41.263364   \n",
       "\n",
       "                                             user_path  time_to_show_contacts  \\\n",
       "44   [search_1, photos_show, favorites_add, search_... 0 days 00:27:54.544165   \n",
       "71   [search_1, photos_show, photos_show, search_1,... 0 days 00:08:15.408399   \n",
       "91   [search_1, photos_show, photos_show, search_1,... 0 days 00:10:19.472415   \n",
       "105                                    [show_contacts]        0 days 00:00:00   \n",
       "148                                    [show_contacts]        0 days 00:00:00   \n",
       "\n",
       "     sec_to_show_contacts  \n",
       "44            1674.544165  \n",
       "71             495.408399  \n",
       "91             619.472415  \n",
       "105              0.000000  \n",
       "148              0.000000  "
      ]
     },
     "execution_count": 48,
     "metadata": {},
     "output_type": "execute_result"
    }
   ],
   "source": [
    "# переведем столбец'time_to_show_contacts' в секунды. Полученные данные сохраним в новый столбец. \n",
    "df_session['sec_to_show_contacts'] = df_session['time_to_show_contacts'] / np.timedelta64(1, 's')\n",
    "df_session.head()                                               "
   ]
  },
  {
   "cell_type": "code",
   "execution_count": 49,
   "metadata": {},
   "outputs": [
    {
     "data": {
      "text/plain": [
       "count     1618.000000\n",
       "mean       560.278548\n",
       "std       1101.490171\n",
       "min          0.000000\n",
       "25%          0.000000\n",
       "50%        118.888987\n",
       "75%        591.307681\n",
       "max      16364.139818\n",
       "Name: sec_to_show_contacts, dtype: float64"
      ]
     },
     "execution_count": 49,
     "metadata": {},
     "output_type": "execute_result"
    }
   ],
   "source": [
    "# изучим столбец с длительностью до целевого действия\n",
    "df_session['sec_to_show_contacts'].describe()"
   ]
  },
  {
   "cell_type": "code",
   "execution_count": 50,
   "metadata": {},
   "outputs": [
    {
     "data": {
      "image/png": "[encoded data removed]",
      "text/plain": [
       "<Figure size 432x288 with 1 Axes>"
      ]
     },
     "metadata": {
      "needs_background": "light"
     },
     "output_type": "display_data"
    }
   ],
   "source": [
    "df_session.boxplot(column='sec_to_show_contacts')\n",
    "plt.ylim(0, 16364.139818)\n",
    "plt.show()"
   ]
  },
  {
   "cell_type": "code",
   "execution_count": 51,
   "metadata": {},
   "outputs": [
    {
     "data": {
      "text/plain": [
       "array([[<AxesSubplot:title={'center':'sec_to_show_contacts'}>]],\n",
       "      dtype=object)"
      ]
     },
     "execution_count": 51,
     "metadata": {},
     "output_type": "execute_result"
    },
    {
     "data": {
      "image/png": "[encoded data removed]",
      "text/plain": [
       "<Figure size 432x288 with 1 Axes>"
      ]
     },
     "metadata": {
      "needs_background": "light"
     },
     "output_type": "display_data"
    }
   ],
   "source": [
    "df_session.hist('sec_to_show_contacts', range = (0, 6000))"
   ]
  },
  {
   "cell_type": "code",
   "execution_count": 52,
   "metadata": {},
   "outputs": [
    {
     "data": {
      "text/html": [
       "<div>\n",
       "<style scoped>\n",
       "    .dataframe tbody tr th:only-of-type {\n",
       "        vertical-align: middle;\n",
       "    }\n",
       "\n",
       "    .dataframe tbody tr th {\n",
       "        vertical-align: top;\n",
       "    }\n",
       "\n",
       "    .dataframe thead th {\n",
       "        text-align: right;\n",
       "    }\n",
       "</style>\n",
       "<table border=\"1\" class=\"dataframe\">\n",
       "  <thead>\n",
       "    <tr style=\"text-align: right;\">\n",
       "      <th></th>\n",
       "      <th>event_time</th>\n",
       "      <th>event_name</th>\n",
       "      <th>user_id</th>\n",
       "      <th>event_date</th>\n",
       "      <th>event_id</th>\n",
       "      <th>diff</th>\n",
       "      <th>session_id</th>\n",
       "      <th>number_show_contacts</th>\n",
       "      <th>is_first_event_in_session</th>\n",
       "      <th>time_on_page</th>\n",
       "      <th>sum_time_session</th>\n",
       "      <th>date_show_contacts</th>\n",
       "      <th>session_start</th>\n",
       "      <th>user_path</th>\n",
       "      <th>time_to_show_contacts</th>\n",
       "      <th>sec_to_show_contacts</th>\n",
       "      <th>unique_events_path</th>\n",
       "    </tr>\n",
       "  </thead>\n",
       "  <tbody>\n",
       "    <tr>\n",
       "      <th>44</th>\n",
       "      <td>2019-10-20 18:49:24.115634</td>\n",
       "      <td>search_1</td>\n",
       "      <td>00157779-810c-4498-9e05-a1e9e3cedf93</td>\n",
       "      <td>2019-10-20</td>\n",
       "      <td>44</td>\n",
       "      <td>0 days 20:49:29.478536</td>\n",
       "      <td>44</td>\n",
       "      <td>1.0</td>\n",
       "      <td>1</td>\n",
       "      <td>598.425448</td>\n",
       "      <td>4572.118439</td>\n",
       "      <td>2019-10-20 19:17:18.659799</td>\n",
       "      <td>2019-10-20 18:49:24.115634</td>\n",
       "      <td>[search_1, photos_show, favorites_add, search_...</td>\n",
       "      <td>0 days 00:27:54.544165</td>\n",
       "      <td>1674.544165</td>\n",
       "      <td>[search_1, photos_show, favorites_add, show_co...</td>\n",
       "    </tr>\n",
       "    <tr>\n",
       "      <th>71</th>\n",
       "      <td>2019-10-29 21:18:24.850073</td>\n",
       "      <td>search_1</td>\n",
       "      <td>00157779-810c-4498-9e05-a1e9e3cedf93</td>\n",
       "      <td>2019-10-29</td>\n",
       "      <td>71</td>\n",
       "      <td>5 days 10:21:12.174963</td>\n",
       "      <td>71</td>\n",
       "      <td>1.0</td>\n",
       "      <td>1</td>\n",
       "      <td>70.539719</td>\n",
       "      <td>3120.862767</td>\n",
       "      <td>2019-10-29 21:26:40.258472</td>\n",
       "      <td>2019-10-29 21:18:24.850073</td>\n",
       "      <td>[search_1, photos_show, photos_show, search_1,...</td>\n",
       "      <td>0 days 00:08:15.408399</td>\n",
       "      <td>495.408399</td>\n",
       "      <td>[search_1, photos_show, show_contacts]</td>\n",
       "    </tr>\n",
       "    <tr>\n",
       "      <th>91</th>\n",
       "      <td>2019-10-30 07:50:45.948358</td>\n",
       "      <td>search_1</td>\n",
       "      <td>00157779-810c-4498-9e05-a1e9e3cedf93</td>\n",
       "      <td>2019-10-30</td>\n",
       "      <td>91</td>\n",
       "      <td>0 days 09:40:20.235518</td>\n",
       "      <td>91</td>\n",
       "      <td>1.0</td>\n",
       "      <td>1</td>\n",
       "      <td>146.781695</td>\n",
       "      <td>2167.984818</td>\n",
       "      <td>2019-10-30 08:01:05.420773</td>\n",
       "      <td>2019-10-30 07:50:45.948358</td>\n",
       "      <td>[search_1, photos_show, photos_show, search_1,...</td>\n",
       "      <td>0 days 00:10:19.472415</td>\n",
       "      <td>619.472415</td>\n",
       "      <td>[search_1, photos_show, show_contacts]</td>\n",
       "    </tr>\n",
       "    <tr>\n",
       "      <th>105</th>\n",
       "      <td>2019-11-03 17:12:09.708771</td>\n",
       "      <td>show_contacts</td>\n",
       "      <td>00157779-810c-4498-9e05-a1e9e3cedf93</td>\n",
       "      <td>2019-11-03</td>\n",
       "      <td>105</td>\n",
       "      <td>4 days 08:45:15.775595</td>\n",
       "      <td>105</td>\n",
       "      <td>1.0</td>\n",
       "      <td>1</td>\n",
       "      <td>NaN</td>\n",
       "      <td>0.000000</td>\n",
       "      <td>2019-11-03 17:12:09.708771</td>\n",
       "      <td>2019-11-03 17:12:09.708771</td>\n",
       "      <td>[show_contacts]</td>\n",
       "      <td>0 days 00:00:00</td>\n",
       "      <td>0.000000</td>\n",
       "      <td>[show_contacts]</td>\n",
       "    </tr>\n",
       "    <tr>\n",
       "      <th>148</th>\n",
       "      <td>2019-10-25 16:44:41.263364</td>\n",
       "      <td>show_contacts</td>\n",
       "      <td>00551e79-152e-4441-9cf7-565d7eb04090</td>\n",
       "      <td>2019-10-25</td>\n",
       "      <td>148</td>\n",
       "      <td>NaT</td>\n",
       "      <td>148</td>\n",
       "      <td>1.0</td>\n",
       "      <td>1</td>\n",
       "      <td>3.523496</td>\n",
       "      <td>3.523496</td>\n",
       "      <td>2019-10-25 16:44:41.263364</td>\n",
       "      <td>2019-10-25 16:44:41.263364</td>\n",
       "      <td>[show_contacts]</td>\n",
       "      <td>0 days 00:00:00</td>\n",
       "      <td>0.000000</td>\n",
       "      <td>[show_contacts]</td>\n",
       "    </tr>\n",
       "  </tbody>\n",
       "</table>\n",
       "</div>"
      ],
      "text/plain": [
       "                    event_time     event_name  \\\n",
       "44  2019-10-20 18:49:24.115634       search_1   \n",
       "71  2019-10-29 21:18:24.850073       search_1   \n",
       "91  2019-10-30 07:50:45.948358       search_1   \n",
       "105 2019-11-03 17:12:09.708771  show_contacts   \n",
       "148 2019-10-25 16:44:41.263364  show_contacts   \n",
       "\n",
       "                                  user_id  event_date  event_id  \\\n",
       "44   00157779-810c-4498-9e05-a1e9e3cedf93  2019-10-20        44   \n",
       "71   00157779-810c-4498-9e05-a1e9e3cedf93  2019-10-29        71   \n",
       "91   00157779-810c-4498-9e05-a1e9e3cedf93  2019-10-30        91   \n",
       "105  00157779-810c-4498-9e05-a1e9e3cedf93  2019-11-03       105   \n",
       "148  00551e79-152e-4441-9cf7-565d7eb04090  2019-10-25       148   \n",
       "\n",
       "                      diff  session_id  number_show_contacts  \\\n",
       "44  0 days 20:49:29.478536          44                   1.0   \n",
       "71  5 days 10:21:12.174963          71                   1.0   \n",
       "91  0 days 09:40:20.235518          91                   1.0   \n",
       "105 4 days 08:45:15.775595         105                   1.0   \n",
       "148                    NaT         148                   1.0   \n",
       "\n",
       "    is_first_event_in_session  time_on_page  sum_time_session  \\\n",
       "44                          1    598.425448       4572.118439   \n",
       "71                          1     70.539719       3120.862767   \n",
       "91                          1    146.781695       2167.984818   \n",
       "105                         1           NaN          0.000000   \n",
       "148                         1      3.523496          3.523496   \n",
       "\n",
       "            date_show_contacts              session_start  \\\n",
       "44  2019-10-20 19:17:18.659799 2019-10-20 18:49:24.115634   \n",
       "71  2019-10-29 21:26:40.258472 2019-10-29 21:18:24.850073   \n",
       "91  2019-10-30 08:01:05.420773 2019-10-30 07:50:45.948358   \n",
       "105 2019-11-03 17:12:09.708771 2019-11-03 17:12:09.708771   \n",
       "148 2019-10-25 16:44:41.263364 2019-10-25 16:44:41.263364   \n",
       "\n",
       "                                             user_path  time_to_show_contacts  \\\n",
       "44   [search_1, photos_show, favorites_add, search_... 0 days 00:27:54.544165   \n",
       "71   [search_1, photos_show, photos_show, search_1,... 0 days 00:08:15.408399   \n",
       "91   [search_1, photos_show, photos_show, search_1,... 0 days 00:10:19.472415   \n",
       "105                                    [show_contacts]        0 days 00:00:00   \n",
       "148                                    [show_contacts]        0 days 00:00:00   \n",
       "\n",
       "     sec_to_show_contacts                                 unique_events_path  \n",
       "44            1674.544165  [search_1, photos_show, favorites_add, show_co...  \n",
       "71             495.408399             [search_1, photos_show, show_contacts]  \n",
       "91             619.472415             [search_1, photos_show, show_contacts]  \n",
       "105              0.000000                                    [show_contacts]  \n",
       "148              0.000000                                    [show_contacts]  "
      ]
     },
     "execution_count": 52,
     "metadata": {},
     "output_type": "execute_result"
    }
   ],
   "source": [
    "# выделим столбец сессий с уникальными шагами\n",
    "df_session['unique_events_path']=df_session['user_path'].apply(lambda x: list(dict.fromkeys(x)))\n",
    "df_session.head()"
   ]
  },
  {
   "cell_type": "code",
   "execution_count": 53,
   "metadata": {},
   "outputs": [
    {
     "data": {
      "text/html": [
       "<div>\n",
       "<style scoped>\n",
       "    .dataframe tbody tr th:only-of-type {\n",
       "        vertical-align: middle;\n",
       "    }\n",
       "\n",
       "    .dataframe tbody tr th {\n",
       "        vertical-align: top;\n",
       "    }\n",
       "\n",
       "    .dataframe thead th {\n",
       "        text-align: right;\n",
       "    }\n",
       "</style>\n",
       "<table border=\"1\" class=\"dataframe\">\n",
       "  <thead>\n",
       "    <tr style=\"text-align: right;\">\n",
       "      <th></th>\n",
       "      <th>event_time</th>\n",
       "      <th>event_name</th>\n",
       "      <th>user_id</th>\n",
       "      <th>event_date</th>\n",
       "      <th>event_id</th>\n",
       "      <th>diff</th>\n",
       "      <th>session_id</th>\n",
       "      <th>number_show_contacts</th>\n",
       "      <th>is_first_event_in_session</th>\n",
       "      <th>time_on_page</th>\n",
       "      <th>sum_time_session</th>\n",
       "      <th>date_show_contacts</th>\n",
       "      <th>session_start</th>\n",
       "      <th>user_path</th>\n",
       "      <th>time_to_show_contacts</th>\n",
       "      <th>sec_to_show_contacts</th>\n",
       "      <th>unique_events_path</th>\n",
       "    </tr>\n",
       "  </thead>\n",
       "  <tbody>\n",
       "    <tr>\n",
       "      <th>22021</th>\n",
       "      <td>2019-10-14 14:15:20.400785</td>\n",
       "      <td>favorites_add</td>\n",
       "      <td>4b496ab7-92be-42da-a932-6b0dd270edfa</td>\n",
       "      <td>2019-10-14</td>\n",
       "      <td>22021</td>\n",
       "      <td>0 days 01:37:17.334652</td>\n",
       "      <td>22021</td>\n",
       "      <td>1.0</td>\n",
       "      <td>1</td>\n",
       "      <td>0.158918</td>\n",
       "      <td>0.158918</td>\n",
       "      <td>2019-10-14 14:15:20.559703</td>\n",
       "      <td>2019-10-14 14:15:20.400785</td>\n",
       "      <td>[favorites_add, show_contacts]</td>\n",
       "      <td>0 days 00:00:00.158918</td>\n",
       "      <td>0.158918</td>\n",
       "      <td>[favorites_add, show_contacts]</td>\n",
       "    </tr>\n",
       "    <tr>\n",
       "      <th>72816</th>\n",
       "      <td>2019-10-19 15:49:38.635149</td>\n",
       "      <td>tips_show</td>\n",
       "      <td>fbdabf5f-ea95-47d5-96b3-75e136336477</td>\n",
       "      <td>2019-10-19</td>\n",
       "      <td>72816</td>\n",
       "      <td>0 days 06:03:46.830401</td>\n",
       "      <td>72816</td>\n",
       "      <td>1.0</td>\n",
       "      <td>1</td>\n",
       "      <td>0.263470</td>\n",
       "      <td>58.598365</td>\n",
       "      <td>2019-10-19 15:49:38.898619</td>\n",
       "      <td>2019-10-19 15:49:38.635149</td>\n",
       "      <td>[tips_show, show_contacts]</td>\n",
       "      <td>0 days 00:00:00.263470</td>\n",
       "      <td>0.263470</td>\n",
       "      <td>[tips_show, show_contacts]</td>\n",
       "    </tr>\n",
       "    <tr>\n",
       "      <th>70976</th>\n",
       "      <td>2019-10-17 11:38:26.471067</td>\n",
       "      <td>tips_show</td>\n",
       "      <td>f553a25f-67a7-4c5b-ab08-9f56a388cdb4</td>\n",
       "      <td>2019-10-17</td>\n",
       "      <td>70976</td>\n",
       "      <td>0 days 03:12:51.246472</td>\n",
       "      <td>70976</td>\n",
       "      <td>1.0</td>\n",
       "      <td>1</td>\n",
       "      <td>0.294110</td>\n",
       "      <td>0.294110</td>\n",
       "      <td>2019-10-17 11:38:26.765177</td>\n",
       "      <td>2019-10-17 11:38:26.471067</td>\n",
       "      <td>[tips_show, show_contacts]</td>\n",
       "      <td>0 days 00:00:00.294110</td>\n",
       "      <td>0.294110</td>\n",
       "      <td>[tips_show, show_contacts]</td>\n",
       "    </tr>\n",
       "    <tr>\n",
       "      <th>23114</th>\n",
       "      <td>2019-10-17 12:36:28.474307</td>\n",
       "      <td>tips_show</td>\n",
       "      <td>515e9d9f-a690-4a30-8b05-b948d267e538</td>\n",
       "      <td>2019-10-17</td>\n",
       "      <td>23114</td>\n",
       "      <td>0 days 18:53:23.656605</td>\n",
       "      <td>23114</td>\n",
       "      <td>1.0</td>\n",
       "      <td>1</td>\n",
       "      <td>0.728009</td>\n",
       "      <td>0.728009</td>\n",
       "      <td>2019-10-17 12:36:29.202316</td>\n",
       "      <td>2019-10-17 12:36:28.474307</td>\n",
       "      <td>[tips_show, show_contacts]</td>\n",
       "      <td>0 days 00:00:00.728009</td>\n",
       "      <td>0.728009</td>\n",
       "      <td>[tips_show, show_contacts]</td>\n",
       "    </tr>\n",
       "    <tr>\n",
       "      <th>53813</th>\n",
       "      <td>2019-10-25 13:06:37.627239</td>\n",
       "      <td>tips_show</td>\n",
       "      <td>be1449f6-ca45-4f94-93a7-ea4b079b8f0f</td>\n",
       "      <td>2019-10-25</td>\n",
       "      <td>53813</td>\n",
       "      <td>0 days 01:47:25.835264</td>\n",
       "      <td>53813</td>\n",
       "      <td>1.0</td>\n",
       "      <td>1</td>\n",
       "      <td>0.883446</td>\n",
       "      <td>0.883446</td>\n",
       "      <td>2019-10-25 13:06:38.510685</td>\n",
       "      <td>2019-10-25 13:06:37.627239</td>\n",
       "      <td>[tips_show, show_contacts]</td>\n",
       "      <td>0 days 00:00:00.883446</td>\n",
       "      <td>0.883446</td>\n",
       "      <td>[tips_show, show_contacts]</td>\n",
       "    </tr>\n",
       "  </tbody>\n",
       "</table>\n",
       "</div>"
      ],
      "text/plain": [
       "                      event_time     event_name  \\\n",
       "22021 2019-10-14 14:15:20.400785  favorites_add   \n",
       "72816 2019-10-19 15:49:38.635149      tips_show   \n",
       "70976 2019-10-17 11:38:26.471067      tips_show   \n",
       "23114 2019-10-17 12:36:28.474307      tips_show   \n",
       "53813 2019-10-25 13:06:37.627239      tips_show   \n",
       "\n",
       "                                    user_id  event_date  event_id  \\\n",
       "22021  4b496ab7-92be-42da-a932-6b0dd270edfa  2019-10-14     22021   \n",
       "72816  fbdabf5f-ea95-47d5-96b3-75e136336477  2019-10-19     72816   \n",
       "70976  f553a25f-67a7-4c5b-ab08-9f56a388cdb4  2019-10-17     70976   \n",
       "23114  515e9d9f-a690-4a30-8b05-b948d267e538  2019-10-17     23114   \n",
       "53813  be1449f6-ca45-4f94-93a7-ea4b079b8f0f  2019-10-25     53813   \n",
       "\n",
       "                        diff  session_id  number_show_contacts  \\\n",
       "22021 0 days 01:37:17.334652       22021                   1.0   \n",
       "72816 0 days 06:03:46.830401       72816                   1.0   \n",
       "70976 0 days 03:12:51.246472       70976                   1.0   \n",
       "23114 0 days 18:53:23.656605       23114                   1.0   \n",
       "53813 0 days 01:47:25.835264       53813                   1.0   \n",
       "\n",
       "      is_first_event_in_session  time_on_page  sum_time_session  \\\n",
       "22021                         1      0.158918          0.158918   \n",
       "72816                         1      0.263470         58.598365   \n",
       "70976                         1      0.294110          0.294110   \n",
       "23114                         1      0.728009          0.728009   \n",
       "53813                         1      0.883446          0.883446   \n",
       "\n",
       "              date_show_contacts              session_start  \\\n",
       "22021 2019-10-14 14:15:20.559703 2019-10-14 14:15:20.400785   \n",
       "72816 2019-10-19 15:49:38.898619 2019-10-19 15:49:38.635149   \n",
       "70976 2019-10-17 11:38:26.765177 2019-10-17 11:38:26.471067   \n",
       "23114 2019-10-17 12:36:29.202316 2019-10-17 12:36:28.474307   \n",
       "53813 2019-10-25 13:06:38.510685 2019-10-25 13:06:37.627239   \n",
       "\n",
       "                            user_path  time_to_show_contacts  \\\n",
       "22021  [favorites_add, show_contacts] 0 days 00:00:00.158918   \n",
       "72816      [tips_show, show_contacts] 0 days 00:00:00.263470   \n",
       "70976      [tips_show, show_contacts] 0 days 00:00:00.294110   \n",
       "23114      [tips_show, show_contacts] 0 days 00:00:00.728009   \n",
       "53813      [tips_show, show_contacts] 0 days 00:00:00.883446   \n",
       "\n",
       "       sec_to_show_contacts              unique_events_path  \n",
       "22021              0.158918  [favorites_add, show_contacts]  \n",
       "72816              0.263470      [tips_show, show_contacts]  \n",
       "70976              0.294110      [tips_show, show_contacts]  \n",
       "23114              0.728009      [tips_show, show_contacts]  \n",
       "53813              0.883446      [tips_show, show_contacts]  "
      ]
     },
     "execution_count": 53,
     "metadata": {},
     "output_type": "execute_result"
    }
   ],
   "source": [
    "# отбросим нулевые сессии\n",
    "df_session = df_session[df_session.time_to_show_contacts>'00:00:00'].sort_values(by='time_to_show_contacts')\n",
    "df_session.head()"
   ]
  },
  {
   "cell_type": "code",
   "execution_count": 54,
   "metadata": {},
   "outputs": [
    {
     "data": {
      "text/plain": [
       "1129"
      ]
     },
     "execution_count": 54,
     "metadata": {},
     "output_type": "execute_result"
    }
   ],
   "source": [
    "df_session['session_id'].nunique()"
   ]
  },
  {
   "cell_type": "code",
   "execution_count": 55,
   "metadata": {},
   "outputs": [
    {
     "data": {
      "text/html": [
       "<div>\n",
       "<style scoped>\n",
       "    .dataframe tbody tr th:only-of-type {\n",
       "        vertical-align: middle;\n",
       "    }\n",
       "\n",
       "    .dataframe tbody tr th {\n",
       "        vertical-align: top;\n",
       "    }\n",
       "\n",
       "    .dataframe thead th {\n",
       "        text-align: right;\n",
       "    }\n",
       "</style>\n",
       "<table border=\"1\" class=\"dataframe\">\n",
       "  <thead>\n",
       "    <tr style=\"text-align: right;\">\n",
       "      <th></th>\n",
       "      <th>event_time</th>\n",
       "      <th>event_name</th>\n",
       "      <th>user_id</th>\n",
       "      <th>event_date</th>\n",
       "      <th>event_id</th>\n",
       "      <th>diff</th>\n",
       "      <th>session_id</th>\n",
       "      <th>number_show_contacts</th>\n",
       "      <th>is_first_event_in_session</th>\n",
       "      <th>time_on_page</th>\n",
       "      <th>sum_time_session</th>\n",
       "      <th>date_show_contacts</th>\n",
       "      <th>session_start</th>\n",
       "      <th>user_path</th>\n",
       "      <th>time_to_show_contacts</th>\n",
       "      <th>sec_to_show_contacts</th>\n",
       "      <th>unique_events_path</th>\n",
       "      <th>user_path_new</th>\n",
       "    </tr>\n",
       "  </thead>\n",
       "  <tbody>\n",
       "    <tr>\n",
       "      <th>22021</th>\n",
       "      <td>2019-10-14 14:15:20.400785</td>\n",
       "      <td>favorites_add</td>\n",
       "      <td>4b496ab7-92be-42da-a932-6b0dd270edfa</td>\n",
       "      <td>2019-10-14</td>\n",
       "      <td>22021</td>\n",
       "      <td>0 days 01:37:17.334652</td>\n",
       "      <td>22021</td>\n",
       "      <td>1.0</td>\n",
       "      <td>1</td>\n",
       "      <td>0.158918</td>\n",
       "      <td>0.158918</td>\n",
       "      <td>2019-10-14 14:15:20.559703</td>\n",
       "      <td>2019-10-14 14:15:20.400785</td>\n",
       "      <td>[favorites_add, show_contacts]</td>\n",
       "      <td>0 days 00:00:00.158918</td>\n",
       "      <td>0.158918</td>\n",
       "      <td>[favorites_add, show_contacts]</td>\n",
       "      <td>favorites_add, show_contacts</td>\n",
       "    </tr>\n",
       "    <tr>\n",
       "      <th>72816</th>\n",
       "      <td>2019-10-19 15:49:38.635149</td>\n",
       "      <td>tips_show</td>\n",
       "      <td>fbdabf5f-ea95-47d5-96b3-75e136336477</td>\n",
       "      <td>2019-10-19</td>\n",
       "      <td>72816</td>\n",
       "      <td>0 days 06:03:46.830401</td>\n",
       "      <td>72816</td>\n",
       "      <td>1.0</td>\n",
       "      <td>1</td>\n",
       "      <td>0.263470</td>\n",
       "      <td>58.598365</td>\n",
       "      <td>2019-10-19 15:49:38.898619</td>\n",
       "      <td>2019-10-19 15:49:38.635149</td>\n",
       "      <td>[tips_show, show_contacts]</td>\n",
       "      <td>0 days 00:00:00.263470</td>\n",
       "      <td>0.263470</td>\n",
       "      <td>[tips_show, show_contacts]</td>\n",
       "      <td>tips_show, show_contacts</td>\n",
       "    </tr>\n",
       "    <tr>\n",
       "      <th>70976</th>\n",
       "      <td>2019-10-17 11:38:26.471067</td>\n",
       "      <td>tips_show</td>\n",
       "      <td>f553a25f-67a7-4c5b-ab08-9f56a388cdb4</td>\n",
       "      <td>2019-10-17</td>\n",
       "      <td>70976</td>\n",
       "      <td>0 days 03:12:51.246472</td>\n",
       "      <td>70976</td>\n",
       "      <td>1.0</td>\n",
       "      <td>1</td>\n",
       "      <td>0.294110</td>\n",
       "      <td>0.294110</td>\n",
       "      <td>2019-10-17 11:38:26.765177</td>\n",
       "      <td>2019-10-17 11:38:26.471067</td>\n",
       "      <td>[tips_show, show_contacts]</td>\n",
       "      <td>0 days 00:00:00.294110</td>\n",
       "      <td>0.294110</td>\n",
       "      <td>[tips_show, show_contacts]</td>\n",
       "      <td>tips_show, show_contacts</td>\n",
       "    </tr>\n",
       "    <tr>\n",
       "      <th>23114</th>\n",
       "      <td>2019-10-17 12:36:28.474307</td>\n",
       "      <td>tips_show</td>\n",
       "      <td>515e9d9f-a690-4a30-8b05-b948d267e538</td>\n",
       "      <td>2019-10-17</td>\n",
       "      <td>23114</td>\n",
       "      <td>0 days 18:53:23.656605</td>\n",
       "      <td>23114</td>\n",
       "      <td>1.0</td>\n",
       "      <td>1</td>\n",
       "      <td>0.728009</td>\n",
       "      <td>0.728009</td>\n",
       "      <td>2019-10-17 12:36:29.202316</td>\n",
       "      <td>2019-10-17 12:36:28.474307</td>\n",
       "      <td>[tips_show, show_contacts]</td>\n",
       "      <td>0 days 00:00:00.728009</td>\n",
       "      <td>0.728009</td>\n",
       "      <td>[tips_show, show_contacts]</td>\n",
       "      <td>tips_show, show_contacts</td>\n",
       "    </tr>\n",
       "    <tr>\n",
       "      <th>53813</th>\n",
       "      <td>2019-10-25 13:06:37.627239</td>\n",
       "      <td>tips_show</td>\n",
       "      <td>be1449f6-ca45-4f94-93a7-ea4b079b8f0f</td>\n",
       "      <td>2019-10-25</td>\n",
       "      <td>53813</td>\n",
       "      <td>0 days 01:47:25.835264</td>\n",
       "      <td>53813</td>\n",
       "      <td>1.0</td>\n",
       "      <td>1</td>\n",
       "      <td>0.883446</td>\n",
       "      <td>0.883446</td>\n",
       "      <td>2019-10-25 13:06:38.510685</td>\n",
       "      <td>2019-10-25 13:06:37.627239</td>\n",
       "      <td>[tips_show, show_contacts]</td>\n",
       "      <td>0 days 00:00:00.883446</td>\n",
       "      <td>0.883446</td>\n",
       "      <td>[tips_show, show_contacts]</td>\n",
       "      <td>tips_show, show_contacts</td>\n",
       "    </tr>\n",
       "  </tbody>\n",
       "</table>\n",
       "</div>"
      ],
      "text/plain": [
       "                      event_time     event_name  \\\n",
       "22021 2019-10-14 14:15:20.400785  favorites_add   \n",
       "72816 2019-10-19 15:49:38.635149      tips_show   \n",
       "70976 2019-10-17 11:38:26.471067      tips_show   \n",
       "23114 2019-10-17 12:36:28.474307      tips_show   \n",
       "53813 2019-10-25 13:06:37.627239      tips_show   \n",
       "\n",
       "                                    user_id  event_date  event_id  \\\n",
       "22021  4b496ab7-92be-42da-a932-6b0dd270edfa  2019-10-14     22021   \n",
       "72816  fbdabf5f-ea95-47d5-96b3-75e136336477  2019-10-19     72816   \n",
       "70976  f553a25f-67a7-4c5b-ab08-9f56a388cdb4  2019-10-17     70976   \n",
       "23114  515e9d9f-a690-4a30-8b05-b948d267e538  2019-10-17     23114   \n",
       "53813  be1449f6-ca45-4f94-93a7-ea4b079b8f0f  2019-10-25     53813   \n",
       "\n",
       "                        diff  session_id  number_show_contacts  \\\n",
       "22021 0 days 01:37:17.334652       22021                   1.0   \n",
       "72816 0 days 06:03:46.830401       72816                   1.0   \n",
       "70976 0 days 03:12:51.246472       70976                   1.0   \n",
       "23114 0 days 18:53:23.656605       23114                   1.0   \n",
       "53813 0 days 01:47:25.835264       53813                   1.0   \n",
       "\n",
       "      is_first_event_in_session  time_on_page  sum_time_session  \\\n",
       "22021                         1      0.158918          0.158918   \n",
       "72816                         1      0.263470         58.598365   \n",
       "70976                         1      0.294110          0.294110   \n",
       "23114                         1      0.728009          0.728009   \n",
       "53813                         1      0.883446          0.883446   \n",
       "\n",
       "              date_show_contacts              session_start  \\\n",
       "22021 2019-10-14 14:15:20.559703 2019-10-14 14:15:20.400785   \n",
       "72816 2019-10-19 15:49:38.898619 2019-10-19 15:49:38.635149   \n",
       "70976 2019-10-17 11:38:26.765177 2019-10-17 11:38:26.471067   \n",
       "23114 2019-10-17 12:36:29.202316 2019-10-17 12:36:28.474307   \n",
       "53813 2019-10-25 13:06:38.510685 2019-10-25 13:06:37.627239   \n",
       "\n",
       "                            user_path  time_to_show_contacts  \\\n",
       "22021  [favorites_add, show_contacts] 0 days 00:00:00.158918   \n",
       "72816      [tips_show, show_contacts] 0 days 00:00:00.263470   \n",
       "70976      [tips_show, show_contacts] 0 days 00:00:00.294110   \n",
       "23114      [tips_show, show_contacts] 0 days 00:00:00.728009   \n",
       "53813      [tips_show, show_contacts] 0 days 00:00:00.883446   \n",
       "\n",
       "       sec_to_show_contacts              unique_events_path  \\\n",
       "22021              0.158918  [favorites_add, show_contacts]   \n",
       "72816              0.263470      [tips_show, show_contacts]   \n",
       "70976              0.294110      [tips_show, show_contacts]   \n",
       "23114              0.728009      [tips_show, show_contacts]   \n",
       "53813              0.883446      [tips_show, show_contacts]   \n",
       "\n",
       "                      user_path_new  \n",
       "22021  favorites_add, show_contacts  \n",
       "72816      tips_show, show_contacts  \n",
       "70976      tips_show, show_contacts  \n",
       "23114      tips_show, show_contacts  \n",
       "53813      tips_show, show_contacts  "
      ]
     },
     "execution_count": 55,
     "metadata": {},
     "output_type": "execute_result"
    }
   ],
   "source": [
    "# изменим тип данных столбца 'unique_events_path'\n",
    "df_session['user_path_new'] = [', '.join(map(str, l)) for l in df_session['unique_events_path']]\n",
    "df_session.head()"
   ]
  },
  {
   "cell_type": "markdown",
   "metadata": {},
   "source": [
    "#### Построение воронок"
   ]
  },
  {
   "cell_type": "code",
   "execution_count": 56,
   "metadata": {},
   "outputs": [
    {
     "data": {
      "text/html": [
       "<div>\n",
       "<style scoped>\n",
       "    .dataframe tbody tr th:only-of-type {\n",
       "        vertical-align: middle;\n",
       "    }\n",
       "\n",
       "    .dataframe tbody tr th {\n",
       "        vertical-align: top;\n",
       "    }\n",
       "\n",
       "    .dataframe thead th {\n",
       "        text-align: right;\n",
       "    }\n",
       "</style>\n",
       "<table border=\"1\" class=\"dataframe\">\n",
       "  <thead>\n",
       "    <tr style=\"text-align: right;\">\n",
       "      <th></th>\n",
       "      <th>user_path_new</th>\n",
       "      <th>sec_to_show_contacts</th>\n",
       "      <th>count_session</th>\n",
       "    </tr>\n",
       "  </thead>\n",
       "  <tbody>\n",
       "    <tr>\n",
       "      <th>85</th>\n",
       "      <td>search_6, search_5, show_contacts</td>\n",
       "      <td>18.376852</td>\n",
       "      <td>4</td>\n",
       "    </tr>\n",
       "    <tr>\n",
       "      <th>15</th>\n",
       "      <td>favorites_add, show_contacts</td>\n",
       "      <td>27.377070</td>\n",
       "      <td>10</td>\n",
       "    </tr>\n",
       "    <tr>\n",
       "      <th>5</th>\n",
       "      <td>advert_open, show_contacts</td>\n",
       "      <td>41.794021</td>\n",
       "      <td>14</td>\n",
       "    </tr>\n",
       "    <tr>\n",
       "      <th>83</th>\n",
       "      <td>search_6, search_4, search_5, show_contacts</td>\n",
       "      <td>49.014948</td>\n",
       "      <td>2</td>\n",
       "    </tr>\n",
       "    <tr>\n",
       "      <th>65</th>\n",
       "      <td>search_4, search_5, show_contacts</td>\n",
       "      <td>49.227703</td>\n",
       "      <td>2</td>\n",
       "    </tr>\n",
       "  </tbody>\n",
       "</table>\n",
       "</div>"
      ],
      "text/plain": [
       "                                  user_path_new  sec_to_show_contacts  \\\n",
       "85            search_6, search_5, show_contacts             18.376852   \n",
       "15                 favorites_add, show_contacts             27.377070   \n",
       "5                    advert_open, show_contacts             41.794021   \n",
       "83  search_6, search_4, search_5, show_contacts             49.014948   \n",
       "65            search_4, search_5, show_contacts             49.227703   \n",
       "\n",
       "    count_session  \n",
       "85              4  \n",
       "15             10  \n",
       "5              14  \n",
       "83              2  \n",
       "65              2  "
      ]
     },
     "execution_count": 56,
     "metadata": {},
     "output_type": "execute_result"
    }
   ],
   "source": [
    "# получим воронки событий и сохраним в новый датафрейм, отсортируем по времени и сделаем подсчет сессий, входящих в каждую воронку\n",
    "session_short = df_session.groupby(['user_path_new']).agg({'sec_to_show_contacts': 'median', 'session_id':'count'}).reset_index().sort_values('sec_to_show_contacts')\n",
    "session_short = session_short.rename(columns={'session_id':'count_session'})\n",
    "session_short.head()\n"
   ]
  },
  {
   "cell_type": "markdown",
   "metadata": {},
   "source": [
    "Самымые быстрые пути до наступления целевого действия:\n",
    "1. search_6, search_5, show_contacts (18.38 сек.)\n",
    "2. favorites_add, show_contacts (27.38 сек.)\n",
    "3. advert_open, show_contacts (41.79 сек.)"
   ]
  },
  {
   "cell_type": "code",
   "execution_count": 57,
   "metadata": {},
   "outputs": [
    {
     "data": {
      "text/html": [
       "<div>\n",
       "<style scoped>\n",
       "    .dataframe tbody tr th:only-of-type {\n",
       "        vertical-align: middle;\n",
       "    }\n",
       "\n",
       "    .dataframe tbody tr th {\n",
       "        vertical-align: top;\n",
       "    }\n",
       "\n",
       "    .dataframe thead th {\n",
       "        text-align: right;\n",
       "    }\n",
       "</style>\n",
       "<table border=\"1\" class=\"dataframe\">\n",
       "  <thead>\n",
       "    <tr style=\"text-align: right;\">\n",
       "      <th></th>\n",
       "      <th>user_path_new</th>\n",
       "      <th>sec_to_show_contacts</th>\n",
       "      <th>count_session</th>\n",
       "    </tr>\n",
       "  </thead>\n",
       "  <tbody>\n",
       "    <tr>\n",
       "      <th>106</th>\n",
       "      <td>tips_show, show_contacts</td>\n",
       "      <td>292.595393</td>\n",
       "      <td>377</td>\n",
       "    </tr>\n",
       "    <tr>\n",
       "      <th>39</th>\n",
       "      <td>photos_show, show_contacts</td>\n",
       "      <td>248.879069</td>\n",
       "      <td>132</td>\n",
       "    </tr>\n",
       "    <tr>\n",
       "      <th>46</th>\n",
       "      <td>search_1, show_contacts</td>\n",
       "      <td>136.298599</td>\n",
       "      <td>122</td>\n",
       "    </tr>\n",
       "    <tr>\n",
       "      <th>32</th>\n",
       "      <td>map, tips_show, show_contacts</td>\n",
       "      <td>343.847802</td>\n",
       "      <td>101</td>\n",
       "    </tr>\n",
       "    <tr>\n",
       "      <th>45</th>\n",
       "      <td>search_1, photos_show, show_contacts</td>\n",
       "      <td>602.335051</td>\n",
       "      <td>65</td>\n",
       "    </tr>\n",
       "    <tr>\n",
       "      <th>27</th>\n",
       "      <td>map, show_contacts</td>\n",
       "      <td>56.915191</td>\n",
       "      <td>34</td>\n",
       "    </tr>\n",
       "    <tr>\n",
       "      <th>99</th>\n",
       "      <td>tips_show, map, show_contacts</td>\n",
       "      <td>1177.465818</td>\n",
       "      <td>30</td>\n",
       "    </tr>\n",
       "    <tr>\n",
       "      <th>108</th>\n",
       "      <td>tips_show, tips_click, show_contacts</td>\n",
       "      <td>1096.181021</td>\n",
       "      <td>19</td>\n",
       "    </tr>\n",
       "    <tr>\n",
       "      <th>5</th>\n",
       "      <td>advert_open, show_contacts</td>\n",
       "      <td>41.794021</td>\n",
       "      <td>14</td>\n",
       "    </tr>\n",
       "    <tr>\n",
       "      <th>38</th>\n",
       "      <td>photos_show, search_1, show_contacts</td>\n",
       "      <td>893.230941</td>\n",
       "      <td>13</td>\n",
       "    </tr>\n",
       "    <tr>\n",
       "      <th>19</th>\n",
       "      <td>map, advert_open, tips_show, show_contacts</td>\n",
       "      <td>331.441885</td>\n",
       "      <td>12</td>\n",
       "    </tr>\n",
       "    <tr>\n",
       "      <th>15</th>\n",
       "      <td>favorites_add, show_contacts</td>\n",
       "      <td>27.377070</td>\n",
       "      <td>10</td>\n",
       "    </tr>\n",
       "    <tr>\n",
       "      <th>67</th>\n",
       "      <td>search_4, search_5, tips_show, show_contacts</td>\n",
       "      <td>281.424174</td>\n",
       "      <td>9</td>\n",
       "    </tr>\n",
       "    <tr>\n",
       "      <th>7</th>\n",
       "      <td>advert_open, tips_show, show_contacts</td>\n",
       "      <td>143.094925</td>\n",
       "      <td>8</td>\n",
       "    </tr>\n",
       "    <tr>\n",
       "      <th>81</th>\n",
       "      <td>search_5, tips_show, show_contacts</td>\n",
       "      <td>422.458636</td>\n",
       "      <td>7</td>\n",
       "    </tr>\n",
       "    <tr>\n",
       "      <th>93</th>\n",
       "      <td>tips_show, advert_open, show_contacts</td>\n",
       "      <td>830.816749</td>\n",
       "      <td>6</td>\n",
       "    </tr>\n",
       "    <tr>\n",
       "      <th>61</th>\n",
       "      <td>search_4, search_2, search_5, tips_show, show_...</td>\n",
       "      <td>627.255494</td>\n",
       "      <td>6</td>\n",
       "    </tr>\n",
       "    <tr>\n",
       "      <th>2</th>\n",
       "      <td>advert_open, photos_show, show_contacts</td>\n",
       "      <td>121.877578</td>\n",
       "      <td>5</td>\n",
       "    </tr>\n",
       "    <tr>\n",
       "      <th>28</th>\n",
       "      <td>map, tips_show, advert_open, show_contacts</td>\n",
       "      <td>1653.085192</td>\n",
       "      <td>5</td>\n",
       "    </tr>\n",
       "    <tr>\n",
       "      <th>36</th>\n",
       "      <td>photos_show, favorites_add, show_contacts</td>\n",
       "      <td>1189.372694</td>\n",
       "      <td>5</td>\n",
       "    </tr>\n",
       "    <tr>\n",
       "      <th>29</th>\n",
       "      <td>map, tips_show, favorites_add, show_contacts</td>\n",
       "      <td>634.469076</td>\n",
       "      <td>5</td>\n",
       "    </tr>\n",
       "    <tr>\n",
       "      <th>95</th>\n",
       "      <td>tips_show, map, advert_open, show_contacts</td>\n",
       "      <td>1595.236847</td>\n",
       "      <td>5</td>\n",
       "    </tr>\n",
       "    <tr>\n",
       "      <th>17</th>\n",
       "      <td>map, advert_open, show_contacts</td>\n",
       "      <td>383.666613</td>\n",
       "      <td>4</td>\n",
       "    </tr>\n",
       "    <tr>\n",
       "      <th>42</th>\n",
       "      <td>search_1, favorites_add, show_contacts</td>\n",
       "      <td>778.292353</td>\n",
       "      <td>4</td>\n",
       "    </tr>\n",
       "    <tr>\n",
       "      <th>85</th>\n",
       "      <td>search_6, search_5, show_contacts</td>\n",
       "      <td>18.376852</td>\n",
       "      <td>4</td>\n",
       "    </tr>\n",
       "    <tr>\n",
       "      <th>78</th>\n",
       "      <td>search_5, map, tips_show, show_contacts</td>\n",
       "      <td>561.481019</td>\n",
       "      <td>4</td>\n",
       "    </tr>\n",
       "    <tr>\n",
       "      <th>86</th>\n",
       "      <td>search_6, search_5, tips_show, show_contacts</td>\n",
       "      <td>157.920344</td>\n",
       "      <td>4</td>\n",
       "    </tr>\n",
       "    <tr>\n",
       "      <th>89</th>\n",
       "      <td>search_7, search_5, show_contacts</td>\n",
       "      <td>1186.358917</td>\n",
       "      <td>4</td>\n",
       "    </tr>\n",
       "    <tr>\n",
       "      <th>94</th>\n",
       "      <td>tips_show, favorites_add, show_contacts</td>\n",
       "      <td>1592.492101</td>\n",
       "      <td>4</td>\n",
       "    </tr>\n",
       "    <tr>\n",
       "      <th>92</th>\n",
       "      <td>tips_click, show_contacts</td>\n",
       "      <td>1125.321893</td>\n",
       "      <td>3</td>\n",
       "    </tr>\n",
       "    <tr>\n",
       "      <th>23</th>\n",
       "      <td>map, search_3, advert_open, tips_show, show_co...</td>\n",
       "      <td>810.531662</td>\n",
       "      <td>3</td>\n",
       "    </tr>\n",
       "    <tr>\n",
       "      <th>16</th>\n",
       "      <td>favorites_add, tips_show, show_contacts</td>\n",
       "      <td>678.929820</td>\n",
       "      <td>3</td>\n",
       "    </tr>\n",
       "    <tr>\n",
       "      <th>97</th>\n",
       "      <td>tips_show, map, search_3, advert_open, show_co...</td>\n",
       "      <td>2251.383973</td>\n",
       "      <td>3</td>\n",
       "    </tr>\n",
       "    <tr>\n",
       "      <th>69</th>\n",
       "      <td>search_4, search_6, search_2, search_5, show_c...</td>\n",
       "      <td>244.832226</td>\n",
       "      <td>3</td>\n",
       "    </tr>\n",
       "    <tr>\n",
       "      <th>90</th>\n",
       "      <td>search_7, search_5, tips_show, show_contacts</td>\n",
       "      <td>1242.307225</td>\n",
       "      <td>3</td>\n",
       "    </tr>\n",
       "    <tr>\n",
       "      <th>72</th>\n",
       "      <td>search_4, search_6, search_2, search_5, tips_s...</td>\n",
       "      <td>214.834435</td>\n",
       "      <td>3</td>\n",
       "    </tr>\n",
       "    <tr>\n",
       "      <th>75</th>\n",
       "      <td>search_4, search_6, search_5, tips_show, show_...</td>\n",
       "      <td>1435.754625</td>\n",
       "      <td>2</td>\n",
       "    </tr>\n",
       "    <tr>\n",
       "      <th>33</th>\n",
       "      <td>map, tips_show, tips_click, show_contacts</td>\n",
       "      <td>2062.166737</td>\n",
       "      <td>2</td>\n",
       "    </tr>\n",
       "    <tr>\n",
       "      <th>3</th>\n",
       "      <td>advert_open, search_1, favorites_add, photos_s...</td>\n",
       "      <td>768.417981</td>\n",
       "      <td>2</td>\n",
       "    </tr>\n",
       "    <tr>\n",
       "      <th>8</th>\n",
       "      <td>advert_open, tips_show, tips_click, show_contacts</td>\n",
       "      <td>2119.733425</td>\n",
       "      <td>2</td>\n",
       "    </tr>\n",
       "    <tr>\n",
       "      <th>10</th>\n",
       "      <td>favorites_add, photos_show, advert_open, show_...</td>\n",
       "      <td>4549.833346</td>\n",
       "      <td>2</td>\n",
       "    </tr>\n",
       "    <tr>\n",
       "      <th>54</th>\n",
       "      <td>search_3, advert_open, tips_show, show_contacts</td>\n",
       "      <td>4939.346395</td>\n",
       "      <td>2</td>\n",
       "    </tr>\n",
       "    <tr>\n",
       "      <th>96</th>\n",
       "      <td>tips_show, map, favorites_add, show_contacts</td>\n",
       "      <td>1711.037466</td>\n",
       "      <td>2</td>\n",
       "    </tr>\n",
       "    <tr>\n",
       "      <th>35</th>\n",
       "      <td>photos_show, favorites_add, advert_open, show_...</td>\n",
       "      <td>8563.897730</td>\n",
       "      <td>2</td>\n",
       "    </tr>\n",
       "    <tr>\n",
       "      <th>73</th>\n",
       "      <td>search_4, search_6, search_5, map, tips_show, ...</td>\n",
       "      <td>305.957207</td>\n",
       "      <td>2</td>\n",
       "    </tr>\n",
       "    <tr>\n",
       "      <th>58</th>\n",
       "      <td>search_4, search_2, map, search_3, tips_show, ...</td>\n",
       "      <td>106.691657</td>\n",
       "      <td>2</td>\n",
       "    </tr>\n",
       "    <tr>\n",
       "      <th>52</th>\n",
       "      <td>search_2, search_5, tips_show, show_contacts</td>\n",
       "      <td>507.953221</td>\n",
       "      <td>2</td>\n",
       "    </tr>\n",
       "    <tr>\n",
       "      <th>83</th>\n",
       "      <td>search_6, search_4, search_5, show_contacts</td>\n",
       "      <td>49.014948</td>\n",
       "      <td>2</td>\n",
       "    </tr>\n",
       "    <tr>\n",
       "      <th>65</th>\n",
       "      <td>search_4, search_5, show_contacts</td>\n",
       "      <td>49.227703</td>\n",
       "      <td>2</td>\n",
       "    </tr>\n",
       "    <tr>\n",
       "      <th>37</th>\n",
       "      <td>photos_show, search_1, favorites_add, show_con...</td>\n",
       "      <td>462.045556</td>\n",
       "      <td>2</td>\n",
       "    </tr>\n",
       "  </tbody>\n",
       "</table>\n",
       "</div>"
      ],
      "text/plain": [
       "                                         user_path_new  sec_to_show_contacts  \\\n",
       "106                           tips_show, show_contacts            292.595393   \n",
       "39                          photos_show, show_contacts            248.879069   \n",
       "46                             search_1, show_contacts            136.298599   \n",
       "32                       map, tips_show, show_contacts            343.847802   \n",
       "45                search_1, photos_show, show_contacts            602.335051   \n",
       "27                                  map, show_contacts             56.915191   \n",
       "99                       tips_show, map, show_contacts           1177.465818   \n",
       "108               tips_show, tips_click, show_contacts           1096.181021   \n",
       "5                           advert_open, show_contacts             41.794021   \n",
       "38                photos_show, search_1, show_contacts            893.230941   \n",
       "19          map, advert_open, tips_show, show_contacts            331.441885   \n",
       "15                        favorites_add, show_contacts             27.377070   \n",
       "67        search_4, search_5, tips_show, show_contacts            281.424174   \n",
       "7                advert_open, tips_show, show_contacts            143.094925   \n",
       "81                  search_5, tips_show, show_contacts            422.458636   \n",
       "93               tips_show, advert_open, show_contacts            830.816749   \n",
       "61   search_4, search_2, search_5, tips_show, show_...            627.255494   \n",
       "2              advert_open, photos_show, show_contacts            121.877578   \n",
       "28          map, tips_show, advert_open, show_contacts           1653.085192   \n",
       "36           photos_show, favorites_add, show_contacts           1189.372694   \n",
       "29        map, tips_show, favorites_add, show_contacts            634.469076   \n",
       "95          tips_show, map, advert_open, show_contacts           1595.236847   \n",
       "17                     map, advert_open, show_contacts            383.666613   \n",
       "42              search_1, favorites_add, show_contacts            778.292353   \n",
       "85                   search_6, search_5, show_contacts             18.376852   \n",
       "78             search_5, map, tips_show, show_contacts            561.481019   \n",
       "86        search_6, search_5, tips_show, show_contacts            157.920344   \n",
       "89                   search_7, search_5, show_contacts           1186.358917   \n",
       "94             tips_show, favorites_add, show_contacts           1592.492101   \n",
       "92                           tips_click, show_contacts           1125.321893   \n",
       "23   map, search_3, advert_open, tips_show, show_co...            810.531662   \n",
       "16             favorites_add, tips_show, show_contacts            678.929820   \n",
       "97   tips_show, map, search_3, advert_open, show_co...           2251.383973   \n",
       "69   search_4, search_6, search_2, search_5, show_c...            244.832226   \n",
       "90        search_7, search_5, tips_show, show_contacts           1242.307225   \n",
       "72   search_4, search_6, search_2, search_5, tips_s...            214.834435   \n",
       "75   search_4, search_6, search_5, tips_show, show_...           1435.754625   \n",
       "33           map, tips_show, tips_click, show_contacts           2062.166737   \n",
       "3    advert_open, search_1, favorites_add, photos_s...            768.417981   \n",
       "8    advert_open, tips_show, tips_click, show_contacts           2119.733425   \n",
       "10   favorites_add, photos_show, advert_open, show_...           4549.833346   \n",
       "54     search_3, advert_open, tips_show, show_contacts           4939.346395   \n",
       "96        tips_show, map, favorites_add, show_contacts           1711.037466   \n",
       "35   photos_show, favorites_add, advert_open, show_...           8563.897730   \n",
       "73   search_4, search_6, search_5, map, tips_show, ...            305.957207   \n",
       "58   search_4, search_2, map, search_3, tips_show, ...            106.691657   \n",
       "52        search_2, search_5, tips_show, show_contacts            507.953221   \n",
       "83         search_6, search_4, search_5, show_contacts             49.014948   \n",
       "65                   search_4, search_5, show_contacts             49.227703   \n",
       "37   photos_show, search_1, favorites_add, show_con...            462.045556   \n",
       "\n",
       "     count_session  \n",
       "106            377  \n",
       "39             132  \n",
       "46             122  \n",
       "32             101  \n",
       "45              65  \n",
       "27              34  \n",
       "99              30  \n",
       "108             19  \n",
       "5               14  \n",
       "38              13  \n",
       "19              12  \n",
       "15              10  \n",
       "67               9  \n",
       "7                8  \n",
       "81               7  \n",
       "93               6  \n",
       "61               6  \n",
       "2                5  \n",
       "28               5  \n",
       "36               5  \n",
       "29               5  \n",
       "95               5  \n",
       "17               4  \n",
       "42               4  \n",
       "85               4  \n",
       "78               4  \n",
       "86               4  \n",
       "89               4  \n",
       "94               4  \n",
       "92               3  \n",
       "23               3  \n",
       "16               3  \n",
       "97               3  \n",
       "69               3  \n",
       "90               3  \n",
       "72               3  \n",
       "75               2  \n",
       "33               2  \n",
       "3                2  \n",
       "8                2  \n",
       "10               2  \n",
       "54               2  \n",
       "96               2  \n",
       "35               2  \n",
       "73               2  \n",
       "58               2  \n",
       "52               2  \n",
       "83               2  \n",
       "65               2  \n",
       "37               2  "
      ]
     },
     "execution_count": 57,
     "metadata": {},
     "output_type": "execute_result"
    }
   ],
   "source": [
    "# отсортируем таблицу по количеству сессий\n",
    "session_short.sort_values('count_session', ascending=False).head(50)"
   ]
  },
  {
   "cell_type": "markdown",
   "metadata": {},
   "source": [
    "Тройка наиболее популярных воронок кардинально отличается от лидеров быстрых воронок:\n",
    "1. tips_show, show_contacts (292.59 сек.)\n",
    "2. photos_show, show_contacts (248.88 сек.)\n",
    "3. search_1, show_contacts (136.30 сек.)"
   ]
  },
  {
   "cell_type": "markdown",
   "metadata": {},
   "source": [
    "Ниже посмотрим какой процент занимают воронки с наиболее популярными событиями."
   ]
  },
  {
   "cell_type": "code",
   "execution_count": 58,
   "metadata": {},
   "outputs": [
    {
     "data": {
      "text/plain": [
       "86.7139061116032"
      ]
     },
     "execution_count": 58,
     "metadata": {},
     "output_type": "execute_result"
    }
   ],
   "source": [
    "sum([session_short[session_short.user_path_new.str.startswith(h)].count_session.sum() \\\n",
    " for h in ['tips_show', 'photos_show', 'search_1', 'map']])/session_short.count_session.sum() * 100"
   ]
  },
  {
   "cell_type": "markdown",
   "metadata": {},
   "source": [
    "Воронки с наиболее популярными событиями занимают 86,7%. Пользователи чаще начинают свой путь с просмотра рекомендованных объявлений, просмотра фотографий и поиска."
   ]
  },
  {
   "cell_type": "markdown",
   "metadata": {},
   "source": [
    "### Проверка первой гипотезы"
   ]
  },
  {
   "cell_type": "markdown",
   "metadata": {},
   "source": [
    "H0 - конверсия в просмотры контактов не различается у двух групп(одни пользователи совершают действия 'tips_show' и 'tips_click', другие — только 'tips_show').\n",
    "\n",
    "H1 - конверсия в просмотры контактов различается у двух групп(одни пользователи совершают действия 'tips_show' и 'tips_click',\n",
    "другие — только 'tips_show')."
   ]
  },
  {
   "cell_type": "markdown",
   "metadata": {},
   "source": [
    "#### Деление пользователей на две группы"
   ]
  },
  {
   "cell_type": "code",
   "execution_count": 59,
   "metadata": {},
   "outputs": [],
   "source": [
    "def split_into_groups(data):\n",
    "    filtr_data1 = data[(data.event_name=='tips_show')|(data.event_name=='tips_click')].groupby(['user_id'])\\\n",
    "        .agg(count_events_tips=('event_name','nunique')).reset_index()\n",
    "    filtr_data1=filtr_data1[filtr_data1.count_events_tips==2]\n",
    "    filtr_data2 = data[(data.event_name=='tips_show')&(~data.user_id.isin(filtr_data1.user_id.tolist()))].groupby(['user_id'])\\\n",
    "        .agg(count_events_tips=('event_name','nunique')).reset_index()\n",
    "    filtr_users=pd.concat([filtr_data1, filtr_data2])\n",
    "    users_show_contacts=data[(data.event_name=='show_contacts')].groupby(['user_id'])\\\n",
    "        .agg(event_show_contacts=('event_name','nunique')).reset_index()\n",
    " \n",
    "    df_groups=filtr_users.merge(users_show_contacts, how='left', on='user_id')\n",
    "    df_groups[['event_show_contacts']] = df_groups[['event_show_contacts']].fillna(value=0)\n",
    "    \n",
    "    return df_groups"
   ]
  },
  {
   "cell_type": "code",
   "execution_count": 60,
   "metadata": {},
   "outputs": [
    {
     "data": {
      "text/html": [
       "<div>\n",
       "<style scoped>\n",
       "    .dataframe tbody tr th:only-of-type {\n",
       "        vertical-align: middle;\n",
       "    }\n",
       "\n",
       "    .dataframe tbody tr th {\n",
       "        vertical-align: top;\n",
       "    }\n",
       "\n",
       "    .dataframe thead th {\n",
       "        text-align: right;\n",
       "    }\n",
       "</style>\n",
       "<table border=\"1\" class=\"dataframe\">\n",
       "  <thead>\n",
       "    <tr style=\"text-align: right;\">\n",
       "      <th></th>\n",
       "      <th>user_id</th>\n",
       "      <th>count_events_tips</th>\n",
       "      <th>event_show_contacts</th>\n",
       "    </tr>\n",
       "  </thead>\n",
       "  <tbody>\n",
       "    <tr>\n",
       "      <th>0</th>\n",
       "      <td>01147bf8-cd48-49c0-a5af-3f6eb45f8262</td>\n",
       "      <td>2</td>\n",
       "      <td>0.0</td>\n",
       "    </tr>\n",
       "    <tr>\n",
       "      <th>1</th>\n",
       "      <td>01b4ca51-930d-4518-aa09-8a8c35e1d9cc</td>\n",
       "      <td>2</td>\n",
       "      <td>0.0</td>\n",
       "    </tr>\n",
       "    <tr>\n",
       "      <th>2</th>\n",
       "      <td>02e7c193-842b-4995-b67a-8c87ac0f29bb</td>\n",
       "      <td>2</td>\n",
       "      <td>0.0</td>\n",
       "    </tr>\n",
       "    <tr>\n",
       "      <th>3</th>\n",
       "      <td>04ee0c31-3c77-49f8-81d2-bbfe9fe2cde8</td>\n",
       "      <td>2</td>\n",
       "      <td>0.0</td>\n",
       "    </tr>\n",
       "    <tr>\n",
       "      <th>4</th>\n",
       "      <td>0656a1d1-9032-43ae-b936-11e41526eeff</td>\n",
       "      <td>2</td>\n",
       "      <td>0.0</td>\n",
       "    </tr>\n",
       "  </tbody>\n",
       "</table>\n",
       "</div>"
      ],
      "text/plain": [
       "                                user_id  count_events_tips  \\\n",
       "0  01147bf8-cd48-49c0-a5af-3f6eb45f8262                  2   \n",
       "1  01b4ca51-930d-4518-aa09-8a8c35e1d9cc                  2   \n",
       "2  02e7c193-842b-4995-b67a-8c87ac0f29bb                  2   \n",
       "3  04ee0c31-3c77-49f8-81d2-bbfe9fe2cde8                  2   \n",
       "4  0656a1d1-9032-43ae-b936-11e41526eeff                  2   \n",
       "\n",
       "   event_show_contacts  \n",
       "0                  0.0  \n",
       "1                  0.0  \n",
       "2                  0.0  \n",
       "3                  0.0  \n",
       "4                  0.0  "
      ]
     },
     "execution_count": 60,
     "metadata": {},
     "output_type": "execute_result"
    }
   ],
   "source": [
    "df_groups=split_into_groups(data)\n",
    "df_groups.head()"
   ]
  },
  {
   "cell_type": "code",
   "execution_count": 61,
   "metadata": {},
   "outputs": [
    {
     "name": "stdout",
     "output_type": "stream",
     "text": [
      "(0.17, 0.31) - статистически значимая разница конверсий обнаружна. Нулевую гипотезу отвергаем.\n"
     ]
    }
   ],
   "source": [
    "trials1=df_groups[df_groups.count_events_tips==1].user_id.count()\n",
    "trials2=df_groups[df_groups.count_events_tips==2].user_id.count()\n",
    "successes1=df_groups[(df_groups.count_events_tips==1)&(df_groups.event_show_contacts==1)].user_id.count()\n",
    "successes2=df_groups[(df_groups.count_events_tips==2)&(df_groups.event_show_contacts==1)].user_id.count()\n",
    "chi2stat, pval, table=proportion.proportions_chisquare([successes1,successes2],[trials1,trials2])\n",
    "alpha=0.05\n",
    "if pval<alpha:\n",
    "    print(f\"{round(successes1/trials1, 2), round(successes2/trials2,2)} - статистически значимая разница конверсий обнаружна. Нулевую гипотезу отвергаем.\")\n",
    "else:\n",
    "    print(f\"{round(successes1/trials1, 2), round(successes2/trials2,2)} - статистически значимой разницы конверсий не обнаружно. Нулевую гипотезу не отвергаем.\")"
   ]
  },
  {
   "cell_type": "markdown",
   "metadata": {},
   "source": [
    "#### Посчет числа пользователей, совершивших целевое событие в каждой из контрольных групп"
   ]
  },
  {
   "cell_type": "code",
   "execution_count": 62,
   "metadata": {},
   "outputs": [
    {
     "data": {
      "text/plain": [
       "425"
      ]
     },
     "execution_count": 62,
     "metadata": {},
     "output_type": "execute_result"
    }
   ],
   "source": [
    "df_groups[(df_groups.count_events_tips==1)&(df_groups.event_show_contacts==1)]['user_id'].count()"
   ]
  },
  {
   "cell_type": "code",
   "execution_count": 63,
   "metadata": {},
   "outputs": [
    {
     "data": {
      "text/plain": [
       "91"
      ]
     },
     "execution_count": 63,
     "metadata": {},
     "output_type": "execute_result"
    }
   ],
   "source": [
    "df_groups[(df_groups.count_events_tips==2)&(df_groups.event_show_contacts==1)]['user_id'].count()"
   ]
  },
  {
   "cell_type": "markdown",
   "metadata": {},
   "source": [
    "#### Посчет доли пользователей, совершивших целевое событие "
   ]
  },
  {
   "cell_type": "code",
   "execution_count": 64,
   "metadata": {},
   "outputs": [
    {
     "data": {
      "text/plain": [
       "16.972843450479232"
      ]
     },
     "execution_count": 64,
     "metadata": {},
     "output_type": "execute_result"
    }
   ],
   "source": [
    "df_groups[(df_groups.count_events_tips==1)&(df_groups.event_show_contacts==1)]['user_id'].count() / df_groups[df_groups.count_events_tips==1]['user_id'].count() * 100"
   ]
  },
  {
   "cell_type": "code",
   "execution_count": 65,
   "metadata": {},
   "outputs": [
    {
     "data": {
      "text/plain": [
       "30.63973063973064"
      ]
     },
     "execution_count": 65,
     "metadata": {},
     "output_type": "execute_result"
    }
   ],
   "source": [
    "df_groups[(df_groups.count_events_tips==2)&(df_groups.event_show_contacts==1)]['user_id'].count() / df_groups[df_groups.count_events_tips==2]['user_id'].count() * 100"
   ]
  },
  {
   "cell_type": "markdown",
   "metadata": {},
   "source": [
    "### Проверка второй гипотезы"
   ]
  },
  {
   "cell_type": "markdown",
   "metadata": {},
   "source": [
    "H0 - конверсия в просмотры контактов не различается у двух групп(одни пользователи совершают действия 'photos_show',  другие — нет).\n",
    "\n",
    "H1 - конверсия в просмотры контактов различается у двух групп(одни пользователи совершают действия 'photos_show', другие — нет)."
   ]
  },
  {
   "cell_type": "markdown",
   "metadata": {},
   "source": [
    "#### Разделим пользователей на две группы"
   ]
  },
  {
   "cell_type": "code",
   "execution_count": 66,
   "metadata": {},
   "outputs": [],
   "source": [
    "def split_groups(data):\n",
    "    group_a = data[data.event_name=='photos_show'].groupby(['user_id'])\\\n",
    "        .agg(count_tips=('event_name','nunique')).reset_index()\n",
    "    group_a['groups_ab']=\"a\"\n",
    "    group_b = data[(data.event_name!='photos_show')&(~data.user_id.isin(group_a.user_id.tolist()))].groupby(['user_id'])\\\n",
    "        .agg(count_tips=('event_name','nunique')).reset_index()\n",
    "    group_b['groups_ab']=\"b\"\n",
    "    groups=pd.concat([group_a, group_b])\n",
    "    users_contacts=data[(data.event_name=='show_contacts')].groupby(['user_id'])\\\n",
    "        .agg(event_contacts=('event_name','nunique')).reset_index()\n",
    " \n",
    "    groups_a_b=groups.merge(users_contacts, how='left', on='user_id')\n",
    "    groups_a_b[['event_contacts']] = groups_a_b[['event_contacts']].fillna(value=0)\n",
    "    \n",
    "    return groups_a_b"
   ]
  },
  {
   "cell_type": "code",
   "execution_count": 67,
   "metadata": {},
   "outputs": [
    {
     "data": {
      "text/html": [
       "<div>\n",
       "<style scoped>\n",
       "    .dataframe tbody tr th:only-of-type {\n",
       "        vertical-align: middle;\n",
       "    }\n",
       "\n",
       "    .dataframe tbody tr th {\n",
       "        vertical-align: top;\n",
       "    }\n",
       "\n",
       "    .dataframe thead th {\n",
       "        text-align: right;\n",
       "    }\n",
       "</style>\n",
       "<table border=\"1\" class=\"dataframe\">\n",
       "  <thead>\n",
       "    <tr style=\"text-align: right;\">\n",
       "      <th></th>\n",
       "      <th>user_id</th>\n",
       "      <th>count_tips</th>\n",
       "      <th>groups_ab</th>\n",
       "      <th>event_contacts</th>\n",
       "    </tr>\n",
       "  </thead>\n",
       "  <tbody>\n",
       "    <tr>\n",
       "      <th>0</th>\n",
       "      <td>00157779-810c-4498-9e05-a1e9e3cedf93</td>\n",
       "      <td>1</td>\n",
       "      <td>a</td>\n",
       "      <td>1.0</td>\n",
       "    </tr>\n",
       "    <tr>\n",
       "      <th>1</th>\n",
       "      <td>00463033-5717-4bf1-91b4-09183923b9df</td>\n",
       "      <td>1</td>\n",
       "      <td>a</td>\n",
       "      <td>0.0</td>\n",
       "    </tr>\n",
       "    <tr>\n",
       "      <th>2</th>\n",
       "      <td>00551e79-152e-4441-9cf7-565d7eb04090</td>\n",
       "      <td>1</td>\n",
       "      <td>a</td>\n",
       "      <td>1.0</td>\n",
       "    </tr>\n",
       "    <tr>\n",
       "      <th>3</th>\n",
       "      <td>00653802-5ff1-4071-bc17-347fc4cef569</td>\n",
       "      <td>1</td>\n",
       "      <td>a</td>\n",
       "      <td>0.0</td>\n",
       "    </tr>\n",
       "    <tr>\n",
       "      <th>4</th>\n",
       "      <td>006a32d4-ee10-40dc-b237-11e0fde81cbc</td>\n",
       "      <td>1</td>\n",
       "      <td>a</td>\n",
       "      <td>0.0</td>\n",
       "    </tr>\n",
       "  </tbody>\n",
       "</table>\n",
       "</div>"
      ],
      "text/plain": [
       "                                user_id  count_tips groups_ab  event_contacts\n",
       "0  00157779-810c-4498-9e05-a1e9e3cedf93           1         a             1.0\n",
       "1  00463033-5717-4bf1-91b4-09183923b9df           1         a             0.0\n",
       "2  00551e79-152e-4441-9cf7-565d7eb04090           1         a             1.0\n",
       "3  00653802-5ff1-4071-bc17-347fc4cef569           1         a             0.0\n",
       "4  006a32d4-ee10-40dc-b237-11e0fde81cbc           1         a             0.0"
      ]
     },
     "execution_count": 67,
     "metadata": {},
     "output_type": "execute_result"
    }
   ],
   "source": [
    "groups_a_b=split_groups(data)\n",
    "groups_a_b.head()"
   ]
  },
  {
   "cell_type": "code",
   "execution_count": 68,
   "metadata": {},
   "outputs": [
    {
     "data": {
      "text/plain": [
       "array(['a', 'b'], dtype=object)"
      ]
     },
     "execution_count": 68,
     "metadata": {},
     "output_type": "execute_result"
    }
   ],
   "source": [
    "groups_a_b['groups_ab'].unique()"
   ]
  },
  {
   "cell_type": "code",
   "execution_count": 69,
   "metadata": {},
   "outputs": [
    {
     "name": "stdout",
     "output_type": "stream",
     "text": [
      "(0.31, 0.2) - статистически значимая разница конверсий обнаружна. Нулевую гипотезу отвергаем.\n"
     ]
    }
   ],
   "source": [
    "trials1=groups_a_b[groups_a_b.groups_ab=='a'].user_id.count()\n",
    "trials2=groups_a_b[groups_a_b.groups_ab=='b'].user_id.count()\n",
    "successes1=groups_a_b[(groups_a_b.groups_ab=='a')&(groups_a_b.event_contacts==1)].user_id.count()\n",
    "successes2=groups_a_b[(groups_a_b.groups_ab=='b')&(groups_a_b.event_contacts==1)].user_id.count()\n",
    "chi2stat, pval, table=proportion.proportions_chisquare([successes1,successes2],[trials1,trials2])\n",
    "alpha=0.05\n",
    "if pval<alpha:\n",
    "    print(f\"{round(successes1/trials1, 2), round(successes2/trials2,2)} - статистически значимая разница конверсий обнаружна. Нулевую гипотезу отвергаем.\")\n",
    "else:\n",
    "    print(f\"{round(successes1/trials1, 2), round(successes2/trials2,2)} - статистически значимой разницы конверсий не обнаружно. Нулевую гипотезу не отвергаем.\")"
   ]
  },
  {
   "cell_type": "markdown",
   "metadata": {},
   "source": [
    "#### Посчет доли пользователей, совершивших целевое событие"
   ]
  },
  {
   "cell_type": "code",
   "execution_count": 70,
   "metadata": {},
   "outputs": [
    {
     "data": {
      "text/plain": [
       "30.958904109589042"
      ]
     },
     "execution_count": 70,
     "metadata": {},
     "output_type": "execute_result"
    }
   ],
   "source": [
    "groups_a_b[(groups_a_b.groups_ab=='a')&(groups_a_b.event_contacts==1)].user_id.count() / groups_a_b[groups_a_b.groups_ab=='a'].user_id.count() * 100"
   ]
  },
  {
   "cell_type": "code",
   "execution_count": 71,
   "metadata": {},
   "outputs": [
    {
     "data": {
      "text/plain": [
       "20.075046904315197"
      ]
     },
     "execution_count": 71,
     "metadata": {},
     "output_type": "execute_result"
    }
   ],
   "source": [
    "groups_a_b[(groups_a_b.groups_ab=='b')&(groups_a_b.event_contacts==1)].user_id.count() / groups_a_b[groups_a_b.groups_ab=='b'].user_id.count() * 100"
   ]
  },
  {
   "cell_type": "markdown",
   "metadata": {},
   "source": [
    "#### Посчет числа пользователей, совершивших целевое событие в каждой из контрольных групп"
   ]
  },
  {
   "cell_type": "code",
   "execution_count": 72,
   "metadata": {},
   "outputs": [
    {
     "data": {
      "text/plain": [
       "339"
      ]
     },
     "execution_count": 72,
     "metadata": {},
     "output_type": "execute_result"
    }
   ],
   "source": [
    "groups_a_b[(groups_a_b.groups_ab=='a')&(groups_a_b.event_contacts==1)].user_id.count()"
   ]
  },
  {
   "cell_type": "code",
   "execution_count": 73,
   "metadata": {},
   "outputs": [
    {
     "data": {
      "text/plain": [
       "642"
      ]
     },
     "execution_count": 73,
     "metadata": {},
     "output_type": "execute_result"
    }
   ],
   "source": [
    "groups_a_b[(groups_a_b.groups_ab=='b')&(groups_a_b.event_contacts==1)].user_id.count()"
   ]
  },
  {
   "cell_type": "markdown",
   "metadata": {},
   "source": [
    "### Выводы и рекомендации."
   ]
  },
  {
   "cell_type": "markdown",
   "metadata": {},
   "source": [
    "  Для построения воронок событий, сначала мы выделили сессии пользователей. Оставили сессии в которых есть целевое действие 'show_contacts'. Вычислили время до наступления целевого действия. Отбросили нулевые сессии. Создали список шагов, входящих в каждую сессию.\n",
    "  \n",
    "  Для построения воронок сгруппировали датафрейм по столбцу, содержащего списки шагов. Отсортировали полученую таблицу по времени, и получили воронки с минимальным временем до наступления целевого действия. Тройка лидеров воронок:\n",
    "  \n",
    "  1.search_6, search_5, show_contacts (18.38 сек.)\n",
    "  \n",
    "  2.favorites_add, show_contacts (27.38 сек.)\n",
    "  \n",
    "  3.advert_open, show_contacts (41.79 сек.)\n",
    "  \n",
    "  Следующим шагом была проверка наиболее популярных воронок. Получилась следующая тройка лидеров:\n",
    "  \n",
    "  1. tips_show, show_contacts (292.59 сек.)\n",
    "  \n",
    "  2. photos_show, show_contacts (248.88 сек.)\n",
    "  \n",
    "  3. search_1, show_contacts (136.30 сек.)\n",
    "  \n",
    "  Данная проверка показала, что самые быстрые воронки не являются самыми популярными.\n",
    "  \n",
    "  Дальше мы посмотрели какой процент занимают воронки с наиболее популярными событиями. И получили результат - 86,7%, т.е пользователи, которые просматривают контакты, чаще совершают данные действия. \n",
    "  \n",
    "  Чаще всего пользователи начинают свой путь с просмотра рекомендованных объявлений, просмотра фото и поиска.\n",
    "  \n",
    "  Следующим шагом была проверка гипотез. Результатом проверки гипотезы о равенстве конверсий в просмотры контактов у двух групп(одни пользователи совершают действия 'tips_show' и 'tips_click', другие — только 'tips_show'): статистически значимая разница конверсий обнаружна.\n",
    "  \n",
    "  Также было выявлено, что конверсия в просмотры контактов у группы пользователей совершивших два действия('tips_show' и 'tips_click') выше(30.64%), чем у группы, которая совершила одно действие 'tips_show' - 16.97%. Значит рекомендованные объявления нужно показывать более персонализировано.\n",
    "  \n",
    "  Результатом проверки гипотезы о равенстве конверсий в просмотры контактов у двух групп(одни пользователи совершают действия 'photos_show', другие — нет): статистически значимая разница конверсий обнаружна.\n",
    "  \n",
    "  Также было выявлено, что конверсия в просмотры контактов у группы пользователей совершивших действие 'photos_show' выше(30.95%), чем у группы пользователей не совершавших данное действие(20.07%). Нужно уделить внимание этому этапу: проверить скорость загрузки фото; желательно, чтобы объявление содержало фото; удобство просмотра фото.\n",
    "  \n",
    "  Рекомендации:\n",
    "  \n",
    "  Мы выяснили какие воронки и шаги, входящие в них, являются наиболее быстрыми до наступления целевого действия. Но они не являются популярными. Быстрый результат дают такие действия, как search_6, search_5 - это шаги поиска, 'favorites_add'  и 'advert_open' значит можно рекомендовать предпринять действия для их популяризации у пользователей:\n",
    "  \n",
    "  - может следует сделать всплывающее окно поиска \n",
    "  \n",
    "  - изменить интерфейс поиска \n",
    "  \n",
    "  - сделать поиск более точным\n",
    "  \n",
    "  - предлагать добавить объявление в 'избранное'\n",
    "  \n",
    "  Также мы получили наиболее популярные варианты воронок для достижения целевого действия. В них входят следующие действия: 'tips_show', 'photos_show', 'search_1'. Но данные воронки не являются быстрыми.\n",
    "  \n",
    "  Рекомендации:\n",
    "  \n",
    "  - проверить скорость поиска, загрузки объявлений, фото\n",
    "  \n",
    "  - проверить интерфейс поиска 'search_1'\n",
    "  \n",
    "  - уменьшить количество рекомендованных объявлений, но сделать их наиболее точно отвечающими потребностям пользователя.\n",
    "  \n",
    " \n",
    " \n",
    "  \n",
    "  \n",
    "  "
   ]
  },
  {
   "cell_type": "markdown",
   "metadata": {},
   "source": [
    "https://drive.google.com/file/d/1tuyWdhgs3SGpgg_Uu93T4hOw4CxELXno/view?usp=sharing"
   ]
  },
  {
   "cell_type": "code",
   "execution_count": null,
   "metadata": {},
   "outputs": [],
   "source": []
  }
 ],
 "metadata": {
  "ExecuteTimeLog": [
   {
    "duration": 3,
    "start_time": "2022-07-04T09:46:46.460Z"
   },
   {
    "duration": 1468,
    "start_time": "2022-07-04T09:48:34.034Z"
   },
   {
    "duration": 115,
    "start_time": "2022-07-04T09:48:46.450Z"
   },
   {
    "duration": 104,
    "start_time": "2022-07-04T09:49:03.237Z"
   },
   {
    "duration": 327,
    "start_time": "2022-07-04T09:49:21.433Z"
   },
   {
    "duration": 10,
    "start_time": "2022-07-04T09:50:07.247Z"
   },
   {
    "duration": 8,
    "start_time": "2022-07-04T09:50:25.324Z"
   },
   {
    "duration": 22,
    "start_time": "2022-07-04T09:50:49.441Z"
   },
   {
    "duration": 28,
    "start_time": "2022-07-04T09:51:01.791Z"
   },
   {
    "duration": 35,
    "start_time": "2022-07-04T09:51:27.498Z"
   },
   {
    "duration": 45,
    "start_time": "2022-07-04T09:51:43.233Z"
   },
   {
    "duration": 15,
    "start_time": "2022-07-04T09:52:11.118Z"
   },
   {
    "duration": 30,
    "start_time": "2022-07-04T09:52:34.427Z"
   },
   {
    "duration": 7,
    "start_time": "2022-07-04T09:53:15.011Z"
   },
   {
    "duration": 8,
    "start_time": "2022-07-04T09:53:24.834Z"
   },
   {
    "duration": 13,
    "start_time": "2022-07-04T09:53:49.095Z"
   },
   {
    "duration": 23,
    "start_time": "2022-07-04T09:54:12.742Z"
   },
   {
    "duration": 6,
    "start_time": "2022-07-04T09:54:25.109Z"
   },
   {
    "duration": 8,
    "start_time": "2022-07-04T09:54:50.903Z"
   },
   {
    "duration": 8,
    "start_time": "2022-07-04T09:55:05.616Z"
   },
   {
    "duration": 455,
    "start_time": "2022-07-04T09:55:30.903Z"
   },
   {
    "duration": 12,
    "start_time": "2022-07-04T09:56:28.430Z"
   },
   {
    "duration": 20,
    "start_time": "2022-07-04T09:56:39.507Z"
   },
   {
    "duration": 26,
    "start_time": "2022-07-04T09:57:09.738Z"
   },
   {
    "duration": 34,
    "start_time": "2022-07-04T09:58:33.514Z"
   },
   {
    "duration": 29,
    "start_time": "2022-07-04T09:59:06.814Z"
   },
   {
    "duration": 11,
    "start_time": "2022-07-04T09:59:24.034Z"
   },
   {
    "duration": 519,
    "start_time": "2022-07-04T09:59:54.420Z"
   },
   {
    "duration": 46,
    "start_time": "2022-07-04T10:00:35.117Z"
   },
   {
    "duration": 77,
    "start_time": "2022-07-04T10:02:08.546Z"
   },
   {
    "duration": 6,
    "start_time": "2022-07-04T10:02:40.130Z"
   },
   {
    "duration": 70,
    "start_time": "2022-07-04T10:03:05.963Z"
   },
   {
    "duration": 12,
    "start_time": "2022-07-04T10:03:17.631Z"
   },
   {
    "duration": 1201,
    "start_time": "2022-07-04T10:03:29.017Z"
   },
   {
    "duration": 29,
    "start_time": "2022-07-04T10:03:55.609Z"
   },
   {
    "duration": 49,
    "start_time": "2022-07-04T10:04:22.717Z"
   },
   {
    "duration": 24,
    "start_time": "2022-07-04T10:04:34.942Z"
   },
   {
    "duration": 29,
    "start_time": "2022-07-04T10:04:45.515Z"
   },
   {
    "duration": 7,
    "start_time": "2022-07-04T10:05:08.811Z"
   },
   {
    "duration": 1806,
    "start_time": "2022-07-04T10:05:18.713Z"
   },
   {
    "duration": 2234,
    "start_time": "2022-07-04T10:05:47.024Z"
   },
   {
    "duration": 18,
    "start_time": "2022-07-04T10:06:14.920Z"
   },
   {
    "duration": 15,
    "start_time": "2022-07-04T10:06:26.719Z"
   },
   {
    "duration": 30,
    "start_time": "2022-07-04T10:06:54.813Z"
   },
   {
    "duration": 191,
    "start_time": "2022-07-04T10:07:06.324Z"
   },
   {
    "duration": 33,
    "start_time": "2022-07-04T10:07:21.635Z"
   },
   {
    "duration": 46,
    "start_time": "2022-07-04T10:07:32.512Z"
   },
   {
    "duration": 39,
    "start_time": "2022-07-04T10:07:50.124Z"
   },
   {
    "duration": 39,
    "start_time": "2022-07-04T10:08:03.023Z"
   },
   {
    "duration": 22,
    "start_time": "2022-07-04T10:08:14.113Z"
   },
   {
    "duration": 68,
    "start_time": "2022-07-04T10:08:26.621Z"
   },
   {
    "duration": 31,
    "start_time": "2022-07-04T10:08:37.498Z"
   },
   {
    "duration": 25,
    "start_time": "2022-07-04T10:08:47.110Z"
   },
   {
    "duration": 36,
    "start_time": "2022-07-04T10:09:03.817Z"
   },
   {
    "duration": 22,
    "start_time": "2022-07-04T10:09:35.120Z"
   },
   {
    "duration": 23,
    "start_time": "2022-07-04T10:09:51.615Z"
   },
   {
    "duration": 12,
    "start_time": "2022-07-04T10:10:04.699Z"
   },
   {
    "duration": 143,
    "start_time": "2022-07-04T10:10:19.805Z"
   },
   {
    "duration": 183,
    "start_time": "2022-07-04T10:10:34.699Z"
   },
   {
    "duration": 5,
    "start_time": "2022-07-04T10:11:25.030Z"
   },
   {
    "duration": 94,
    "start_time": "2022-07-04T10:11:36.145Z"
   },
   {
    "duration": 12,
    "start_time": "2022-07-04T10:11:54.206Z"
   },
   {
    "duration": 7,
    "start_time": "2022-07-04T10:12:25.905Z"
   },
   {
    "duration": 6,
    "start_time": "2022-07-04T10:12:35.244Z"
   },
   {
    "duration": 10,
    "start_time": "2022-07-04T10:13:04.108Z"
   },
   {
    "duration": 11,
    "start_time": "2022-07-04T10:13:22.903Z"
   },
   {
    "duration": 5,
    "start_time": "2022-07-04T10:14:17.414Z"
   },
   {
    "duration": 89,
    "start_time": "2022-07-04T10:14:26.708Z"
   },
   {
    "duration": 5,
    "start_time": "2022-07-04T10:14:43.651Z"
   },
   {
    "duration": 13,
    "start_time": "2022-07-04T10:15:11.820Z"
   },
   {
    "duration": 9,
    "start_time": "2022-07-04T10:15:42.604Z"
   },
   {
    "duration": 11,
    "start_time": "2022-07-04T10:15:58.033Z"
   },
   {
    "duration": 6,
    "start_time": "2022-07-04T10:16:23.107Z"
   },
   {
    "duration": 7,
    "start_time": "2022-07-04T10:16:33.612Z"
   },
   {
    "duration": 62,
    "start_time": "2022-07-04T10:17:16.812Z"
   },
   {
    "duration": 5,
    "start_time": "2022-07-04T10:17:50.819Z"
   },
   {
    "duration": 66,
    "start_time": "2022-07-04T10:17:50.826Z"
   },
   {
    "duration": 253,
    "start_time": "2022-07-04T10:17:50.895Z"
   },
   {
    "duration": 9,
    "start_time": "2022-07-04T10:17:51.150Z"
   },
   {
    "duration": 57,
    "start_time": "2022-07-04T10:17:51.162Z"
   },
   {
    "duration": 21,
    "start_time": "2022-07-04T10:17:51.221Z"
   },
   {
    "duration": 33,
    "start_time": "2022-07-04T10:17:51.244Z"
   },
   {
    "duration": 169,
    "start_time": "2022-07-04T10:17:51.278Z"
   },
   {
    "duration": 12,
    "start_time": "2022-07-04T10:17:51.448Z"
   },
   {
    "duration": 72,
    "start_time": "2022-07-04T10:17:51.461Z"
   },
   {
    "duration": 10,
    "start_time": "2022-07-04T10:17:51.535Z"
   },
   {
    "duration": 32,
    "start_time": "2022-07-04T10:17:51.547Z"
   },
   {
    "duration": 63,
    "start_time": "2022-07-04T10:17:51.582Z"
   },
   {
    "duration": 37,
    "start_time": "2022-07-04T10:17:51.647Z"
   },
   {
    "duration": 40,
    "start_time": "2022-07-04T10:17:51.686Z"
   },
   {
    "duration": 13,
    "start_time": "2022-07-04T10:17:51.728Z"
   },
   {
    "duration": 10,
    "start_time": "2022-07-04T10:17:51.743Z"
   },
   {
    "duration": 435,
    "start_time": "2022-07-04T10:17:51.755Z"
   },
   {
    "duration": 27,
    "start_time": "2022-07-04T10:17:52.192Z"
   },
   {
    "duration": 15,
    "start_time": "2022-07-04T10:17:53.916Z"
   },
   {
    "duration": 26,
    "start_time": "2022-07-04T10:17:53.933Z"
   },
   {
    "duration": 43,
    "start_time": "2022-07-04T10:17:53.961Z"
   },
   {
    "duration": 54,
    "start_time": "2022-07-04T10:17:54.008Z"
   },
   {
    "duration": 37,
    "start_time": "2022-07-04T10:17:54.064Z"
   },
   {
    "duration": 79,
    "start_time": "2022-07-04T10:17:54.247Z"
   },
   {
    "duration": 52,
    "start_time": "2022-07-04T10:17:54.329Z"
   },
   {
    "duration": 8,
    "start_time": "2022-07-04T10:17:54.383Z"
   },
   {
    "duration": 80,
    "start_time": "2022-07-04T10:17:54.393Z"
   },
   {
    "duration": 12,
    "start_time": "2022-07-04T10:17:54.475Z"
   },
   {
    "duration": 1037,
    "start_time": "2022-07-04T10:17:54.489Z"
   },
   {
    "duration": 16,
    "start_time": "2022-07-04T10:17:55.528Z"
   },
   {
    "duration": 89,
    "start_time": "2022-07-04T10:17:55.546Z"
   },
   {
    "duration": 52,
    "start_time": "2022-07-04T10:17:55.638Z"
   },
   {
    "duration": 31,
    "start_time": "2022-07-04T10:17:55.702Z"
   },
   {
    "duration": 3,
    "start_time": "2022-07-04T10:17:55.734Z"
   },
   {
    "duration": 1593,
    "start_time": "2022-07-04T10:17:55.739Z"
   },
   {
    "duration": 2208,
    "start_time": "2022-07-04T10:17:57.333Z"
   },
   {
    "duration": 47,
    "start_time": "2022-07-04T10:17:59.544Z"
   },
   {
    "duration": 33,
    "start_time": "2022-07-04T10:17:59.593Z"
   },
   {
    "duration": 29,
    "start_time": "2022-07-04T10:17:59.628Z"
   },
   {
    "duration": 49,
    "start_time": "2022-07-04T10:17:59.659Z"
   },
   {
    "duration": 67,
    "start_time": "2022-07-04T10:17:59.710Z"
   },
   {
    "duration": 45,
    "start_time": "2022-07-04T10:17:59.781Z"
   },
   {
    "duration": 22,
    "start_time": "2022-07-04T10:17:59.828Z"
   },
   {
    "duration": 87,
    "start_time": "2022-07-04T10:17:59.851Z"
   },
   {
    "duration": 19,
    "start_time": "2022-07-04T10:17:59.940Z"
   },
   {
    "duration": 52,
    "start_time": "2022-07-04T10:17:59.977Z"
   },
   {
    "duration": 23,
    "start_time": "2022-07-04T10:18:00.031Z"
   },
   {
    "duration": 47,
    "start_time": "2022-07-04T10:18:00.056Z"
   },
   {
    "duration": 26,
    "start_time": "2022-07-04T10:18:00.109Z"
   },
   {
    "duration": 153,
    "start_time": "2022-07-04T10:18:00.137Z"
   },
   {
    "duration": 205,
    "start_time": "2022-07-04T10:18:00.298Z"
   },
   {
    "duration": 16,
    "start_time": "2022-07-04T10:18:00.506Z"
   },
   {
    "duration": 119,
    "start_time": "2022-07-04T10:18:00.525Z"
   },
   {
    "duration": 12,
    "start_time": "2022-07-04T10:18:00.646Z"
   },
   {
    "duration": 38,
    "start_time": "2022-07-04T10:18:00.667Z"
   },
   {
    "duration": 41,
    "start_time": "2022-07-04T10:18:00.708Z"
   },
   {
    "duration": 90,
    "start_time": "2022-07-04T10:18:00.751Z"
   },
   {
    "duration": 73,
    "start_time": "2022-07-04T10:18:00.843Z"
   },
   {
    "duration": 13,
    "start_time": "2022-07-04T10:18:00.919Z"
   },
   {
    "duration": 108,
    "start_time": "2022-07-04T10:18:00.934Z"
   },
   {
    "duration": 6,
    "start_time": "2022-07-04T10:18:01.043Z"
   },
   {
    "duration": 62,
    "start_time": "2022-07-04T10:18:01.051Z"
   },
   {
    "duration": 43,
    "start_time": "2022-07-04T10:18:01.116Z"
   },
   {
    "duration": 70,
    "start_time": "2022-07-04T10:18:01.161Z"
   },
   {
    "duration": 8,
    "start_time": "2022-07-04T10:18:01.233Z"
   },
   {
    "duration": 61,
    "start_time": "2022-07-04T10:18:01.243Z"
   },
   {
    "duration": 1308,
    "start_time": "2022-07-05T09:18:47.237Z"
   },
   {
    "duration": 45,
    "start_time": "2022-07-05T09:18:48.547Z"
   },
   {
    "duration": 256,
    "start_time": "2022-07-05T09:18:48.593Z"
   },
   {
    "duration": 8,
    "start_time": "2022-07-05T09:18:48.851Z"
   },
   {
    "duration": 20,
    "start_time": "2022-07-05T09:18:48.861Z"
   },
   {
    "duration": 24,
    "start_time": "2022-07-05T09:18:48.882Z"
   },
   {
    "duration": 36,
    "start_time": "2022-07-05T09:18:48.907Z"
   },
   {
    "duration": 42,
    "start_time": "2022-07-05T09:18:48.944Z"
   },
   {
    "duration": 13,
    "start_time": "2022-07-05T09:18:48.988Z"
   },
   {
    "duration": 38,
    "start_time": "2022-07-05T09:18:49.003Z"
   },
   {
    "duration": 6,
    "start_time": "2022-07-05T09:18:49.042Z"
   },
   {
    "duration": 10,
    "start_time": "2022-07-05T09:18:49.052Z"
   },
   {
    "duration": 13,
    "start_time": "2022-07-05T09:18:49.064Z"
   },
   {
    "duration": 23,
    "start_time": "2022-07-05T09:18:49.080Z"
   },
   {
    "duration": 13,
    "start_time": "2022-07-05T09:18:49.124Z"
   },
   {
    "duration": 17,
    "start_time": "2022-07-05T09:18:49.138Z"
   },
   {
    "duration": 14,
    "start_time": "2022-07-05T09:18:49.157Z"
   },
   {
    "duration": 311,
    "start_time": "2022-07-05T09:18:49.172Z"
   },
   {
    "duration": 8,
    "start_time": "2022-07-05T09:18:49.485Z"
   },
   {
    "duration": 21,
    "start_time": "2022-07-05T09:18:49.495Z"
   },
   {
    "duration": 30,
    "start_time": "2022-07-05T09:18:49.524Z"
   },
   {
    "duration": 33,
    "start_time": "2022-07-05T09:18:49.556Z"
   },
   {
    "duration": 45,
    "start_time": "2022-07-05T09:18:49.590Z"
   },
   {
    "duration": 9,
    "start_time": "2022-07-05T09:18:49.637Z"
   },
   {
    "duration": 435,
    "start_time": "2022-07-05T09:18:49.648Z"
   },
   {
    "duration": 79,
    "start_time": "2022-07-05T09:18:50.085Z"
   },
   {
    "duration": 5,
    "start_time": "2022-07-05T09:18:50.166Z"
   },
   {
    "duration": 109,
    "start_time": "2022-07-05T09:18:50.173Z"
   },
   {
    "duration": 9,
    "start_time": "2022-07-05T09:18:50.284Z"
   },
   {
    "duration": 746,
    "start_time": "2022-07-05T09:18:50.295Z"
   },
   {
    "duration": 16,
    "start_time": "2022-07-05T09:18:51.042Z"
   },
   {
    "duration": 44,
    "start_time": "2022-07-05T09:18:51.059Z"
   },
   {
    "duration": 39,
    "start_time": "2022-07-05T09:18:51.104Z"
   },
   {
    "duration": 25,
    "start_time": "2022-07-05T09:18:51.144Z"
   },
   {
    "duration": 3,
    "start_time": "2022-07-05T09:18:51.171Z"
   },
   {
    "duration": 1265,
    "start_time": "2022-07-05T09:18:51.175Z"
   },
   {
    "duration": 1594,
    "start_time": "2022-07-05T09:18:52.442Z"
   },
   {
    "duration": 15,
    "start_time": "2022-07-05T09:18:54.038Z"
   },
   {
    "duration": 11,
    "start_time": "2022-07-05T09:18:54.055Z"
   },
   {
    "duration": 22,
    "start_time": "2022-07-05T09:18:54.067Z"
   },
   {
    "duration": 45,
    "start_time": "2022-07-05T09:18:54.093Z"
   },
   {
    "duration": 43,
    "start_time": "2022-07-05T09:18:54.140Z"
   },
   {
    "duration": 28,
    "start_time": "2022-07-05T09:18:54.185Z"
   },
   {
    "duration": 22,
    "start_time": "2022-07-05T09:18:54.215Z"
   },
   {
    "duration": 56,
    "start_time": "2022-07-05T09:18:54.240Z"
   },
   {
    "duration": 44,
    "start_time": "2022-07-05T09:18:54.298Z"
   },
   {
    "duration": 22,
    "start_time": "2022-07-05T09:18:54.344Z"
   },
   {
    "duration": 27,
    "start_time": "2022-07-05T09:18:54.367Z"
   },
   {
    "duration": 39,
    "start_time": "2022-07-05T09:18:54.396Z"
   },
   {
    "duration": 10,
    "start_time": "2022-07-05T09:18:54.441Z"
   },
   {
    "duration": 129,
    "start_time": "2022-07-05T09:18:54.453Z"
   },
   {
    "duration": 165,
    "start_time": "2022-07-05T09:18:54.584Z"
   },
   {
    "duration": 5,
    "start_time": "2022-07-05T09:18:54.750Z"
   },
   {
    "duration": 95,
    "start_time": "2022-07-05T09:18:54.757Z"
   },
   {
    "duration": 10,
    "start_time": "2022-07-05T09:18:54.854Z"
   },
   {
    "duration": 9,
    "start_time": "2022-07-05T09:18:54.866Z"
   },
   {
    "duration": 31,
    "start_time": "2022-07-05T09:18:54.877Z"
   },
   {
    "duration": 21,
    "start_time": "2022-07-05T09:18:54.910Z"
   },
   {
    "duration": 33,
    "start_time": "2022-07-05T09:18:54.933Z"
   },
   {
    "duration": 10,
    "start_time": "2022-07-05T09:18:54.968Z"
   },
   {
    "duration": 86,
    "start_time": "2022-07-05T09:18:54.980Z"
   },
   {
    "duration": 4,
    "start_time": "2022-07-05T09:18:55.068Z"
   },
   {
    "duration": 32,
    "start_time": "2022-07-05T09:18:55.073Z"
   },
   {
    "duration": 44,
    "start_time": "2022-07-05T09:18:55.106Z"
   },
   {
    "duration": 14,
    "start_time": "2022-07-05T09:18:55.152Z"
   },
   {
    "duration": 18,
    "start_time": "2022-07-05T09:18:55.168Z"
   },
   {
    "duration": 31,
    "start_time": "2022-07-05T09:18:55.188Z"
   },
   {
    "duration": 1526,
    "start_time": "2022-07-05T11:45:42.742Z"
   },
   {
    "duration": 75,
    "start_time": "2022-07-05T11:45:44.270Z"
   },
   {
    "duration": 330,
    "start_time": "2022-07-05T11:45:44.347Z"
   },
   {
    "duration": 10,
    "start_time": "2022-07-05T11:45:44.679Z"
   },
   {
    "duration": 10,
    "start_time": "2022-07-05T11:45:44.690Z"
   },
   {
    "duration": 28,
    "start_time": "2022-07-05T11:45:44.702Z"
   },
   {
    "duration": 23,
    "start_time": "2022-07-05T11:45:44.732Z"
   },
   {
    "duration": 40,
    "start_time": "2022-07-05T11:45:44.757Z"
   },
   {
    "duration": 37,
    "start_time": "2022-07-05T11:45:44.799Z"
   },
   {
    "duration": 29,
    "start_time": "2022-07-05T11:45:44.840Z"
   },
   {
    "duration": 7,
    "start_time": "2022-07-05T11:45:44.871Z"
   },
   {
    "duration": 17,
    "start_time": "2022-07-05T11:45:44.880Z"
   },
   {
    "duration": 35,
    "start_time": "2022-07-05T11:45:44.898Z"
   },
   {
    "duration": 26,
    "start_time": "2022-07-05T11:45:44.935Z"
   },
   {
    "duration": 5,
    "start_time": "2022-07-05T11:45:44.963Z"
   },
   {
    "duration": 8,
    "start_time": "2022-07-05T11:45:44.969Z"
   },
   {
    "duration": 6,
    "start_time": "2022-07-05T11:45:44.979Z"
   },
   {
    "duration": 355,
    "start_time": "2022-07-05T11:45:44.987Z"
   },
   {
    "duration": 7,
    "start_time": "2022-07-05T11:45:45.344Z"
   },
   {
    "duration": 14,
    "start_time": "2022-07-05T11:45:45.353Z"
   },
   {
    "duration": 27,
    "start_time": "2022-07-05T11:45:45.369Z"
   },
   {
    "duration": 35,
    "start_time": "2022-07-05T11:45:45.423Z"
   },
   {
    "duration": 28,
    "start_time": "2022-07-05T11:45:45.460Z"
   },
   {
    "duration": 9,
    "start_time": "2022-07-05T11:45:45.490Z"
   },
   {
    "duration": 466,
    "start_time": "2022-07-05T11:45:45.523Z"
   },
   {
    "duration": 66,
    "start_time": "2022-07-05T11:45:45.991Z"
   },
   {
    "duration": 7,
    "start_time": "2022-07-05T11:45:46.058Z"
   },
   {
    "duration": 53,
    "start_time": "2022-07-05T11:45:46.125Z"
   },
   {
    "duration": 50,
    "start_time": "2022-07-05T11:45:46.180Z"
   },
   {
    "duration": 774,
    "start_time": "2022-07-05T11:45:46.233Z"
   },
   {
    "duration": 21,
    "start_time": "2022-07-05T11:45:47.009Z"
   },
   {
    "duration": 47,
    "start_time": "2022-07-05T11:45:47.032Z"
   },
   {
    "duration": 20,
    "start_time": "2022-07-05T11:45:47.081Z"
   },
   {
    "duration": 47,
    "start_time": "2022-07-05T11:45:47.103Z"
   },
   {
    "duration": 3,
    "start_time": "2022-07-05T11:45:47.152Z"
   },
   {
    "duration": 1343,
    "start_time": "2022-07-05T11:45:47.157Z"
   },
   {
    "duration": 1795,
    "start_time": "2022-07-05T11:45:48.502Z"
   },
   {
    "duration": 27,
    "start_time": "2022-07-05T11:45:50.298Z"
   },
   {
    "duration": 14,
    "start_time": "2022-07-05T11:45:50.326Z"
   },
   {
    "duration": 26,
    "start_time": "2022-07-05T11:45:50.341Z"
   },
   {
    "duration": 30,
    "start_time": "2022-07-05T11:45:50.368Z"
   },
   {
    "duration": 58,
    "start_time": "2022-07-05T11:45:50.400Z"
   },
   {
    "duration": 33,
    "start_time": "2022-07-05T11:45:50.460Z"
   },
   {
    "duration": 41,
    "start_time": "2022-07-05T11:45:50.495Z"
   },
   {
    "duration": 54,
    "start_time": "2022-07-05T11:45:50.538Z"
   },
   {
    "duration": 35,
    "start_time": "2022-07-05T11:45:50.593Z"
   },
   {
    "duration": 21,
    "start_time": "2022-07-05T11:45:50.630Z"
   },
   {
    "duration": 29,
    "start_time": "2022-07-05T11:45:50.653Z"
   },
   {
    "duration": 20,
    "start_time": "2022-07-05T11:45:50.683Z"
   },
   {
    "duration": 29,
    "start_time": "2022-07-05T11:45:50.705Z"
   },
   {
    "duration": 129,
    "start_time": "2022-07-05T11:45:50.736Z"
   },
   {
    "duration": 170,
    "start_time": "2022-07-05T11:45:50.867Z"
   },
   {
    "duration": 5,
    "start_time": "2022-07-05T11:45:51.039Z"
   },
   {
    "duration": 92,
    "start_time": "2022-07-05T11:45:51.045Z"
   },
   {
    "duration": 12,
    "start_time": "2022-07-05T11:45:51.140Z"
   },
   {
    "duration": 10,
    "start_time": "2022-07-05T11:45:51.154Z"
   },
   {
    "duration": 7,
    "start_time": "2022-07-05T11:45:51.166Z"
   },
   {
    "duration": 12,
    "start_time": "2022-07-05T11:45:51.174Z"
   },
   {
    "duration": 36,
    "start_time": "2022-07-05T11:45:51.188Z"
   },
   {
    "duration": 6,
    "start_time": "2022-07-05T11:45:51.226Z"
   },
   {
    "duration": 96,
    "start_time": "2022-07-05T11:45:51.233Z"
   },
   {
    "duration": 5,
    "start_time": "2022-07-05T11:45:51.331Z"
   },
   {
    "duration": 13,
    "start_time": "2022-07-05T11:45:51.337Z"
   },
   {
    "duration": 9,
    "start_time": "2022-07-05T11:45:51.352Z"
   },
   {
    "duration": 15,
    "start_time": "2022-07-05T11:45:51.362Z"
   },
   {
    "duration": 15,
    "start_time": "2022-07-05T11:45:51.378Z"
   },
   {
    "duration": 34,
    "start_time": "2022-07-05T11:45:51.394Z"
   },
   {
    "duration": 4,
    "start_time": "2022-07-05T13:32:10.337Z"
   },
   {
    "duration": 839,
    "start_time": "2022-07-05T13:33:44.321Z"
   },
   {
    "duration": 7,
    "start_time": "2022-07-05T13:45:55.598Z"
   },
   {
    "duration": 633,
    "start_time": "2022-07-05T13:46:08.730Z"
   },
   {
    "duration": 19,
    "start_time": "2022-07-05T13:46:59.880Z"
   },
   {
    "duration": 13,
    "start_time": "2022-07-05T13:54:18.757Z"
   },
   {
    "duration": 45,
    "start_time": "2022-07-05T14:01:28.205Z"
   },
   {
    "duration": 5,
    "start_time": "2022-07-05T14:01:37.202Z"
   },
   {
    "duration": 64,
    "start_time": "2022-07-05T14:02:57.170Z"
   },
   {
    "duration": 5,
    "start_time": "2022-07-05T15:36:49.261Z"
   },
   {
    "duration": 50,
    "start_time": "2022-07-05T15:36:49.271Z"
   },
   {
    "duration": 251,
    "start_time": "2022-07-05T15:36:49.324Z"
   },
   {
    "duration": 10,
    "start_time": "2022-07-05T15:36:49.577Z"
   },
   {
    "duration": 15,
    "start_time": "2022-07-05T15:36:49.589Z"
   },
   {
    "duration": 30,
    "start_time": "2022-07-05T15:36:49.605Z"
   },
   {
    "duration": 22,
    "start_time": "2022-07-05T15:36:49.637Z"
   },
   {
    "duration": 70,
    "start_time": "2022-07-05T15:36:49.660Z"
   },
   {
    "duration": 16,
    "start_time": "2022-07-05T15:36:49.732Z"
   },
   {
    "duration": 35,
    "start_time": "2022-07-05T15:36:49.750Z"
   },
   {
    "duration": 38,
    "start_time": "2022-07-05T15:36:49.788Z"
   },
   {
    "duration": 15,
    "start_time": "2022-07-05T15:36:49.829Z"
   },
   {
    "duration": 14,
    "start_time": "2022-07-05T15:36:49.846Z"
   },
   {
    "duration": 23,
    "start_time": "2022-07-05T15:36:49.862Z"
   },
   {
    "duration": 4,
    "start_time": "2022-07-05T15:36:49.887Z"
   },
   {
    "duration": 34,
    "start_time": "2022-07-05T15:36:49.893Z"
   },
   {
    "duration": 4,
    "start_time": "2022-07-05T15:36:49.929Z"
   },
   {
    "duration": 332,
    "start_time": "2022-07-05T15:36:49.935Z"
   },
   {
    "duration": 8,
    "start_time": "2022-07-05T15:36:50.269Z"
   },
   {
    "duration": 16,
    "start_time": "2022-07-05T15:36:50.279Z"
   },
   {
    "duration": 46,
    "start_time": "2022-07-05T15:36:50.297Z"
   },
   {
    "duration": 35,
    "start_time": "2022-07-05T15:36:50.345Z"
   },
   {
    "duration": 50,
    "start_time": "2022-07-05T15:36:50.382Z"
   },
   {
    "duration": 11,
    "start_time": "2022-07-05T15:36:50.434Z"
   },
   {
    "duration": 158,
    "start_time": "2022-07-05T15:36:50.447Z"
   },
   {
    "duration": 67,
    "start_time": "2022-07-05T15:36:50.606Z"
   },
   {
    "duration": 6,
    "start_time": "2022-07-05T15:36:50.674Z"
   },
   {
    "duration": 68,
    "start_time": "2022-07-05T15:36:50.682Z"
   },
   {
    "duration": 10,
    "start_time": "2022-07-05T15:36:50.754Z"
   },
   {
    "duration": 755,
    "start_time": "2022-07-05T15:36:50.765Z"
   },
   {
    "duration": 17,
    "start_time": "2022-07-05T15:36:51.523Z"
   },
   {
    "duration": 49,
    "start_time": "2022-07-05T15:36:51.542Z"
   },
   {
    "duration": 43,
    "start_time": "2022-07-05T15:36:51.593Z"
   },
   {
    "duration": 25,
    "start_time": "2022-07-05T15:36:51.638Z"
   },
   {
    "duration": 3,
    "start_time": "2022-07-05T15:36:51.665Z"
   },
   {
    "duration": 1420,
    "start_time": "2022-07-05T15:36:51.669Z"
   },
   {
    "duration": 1751,
    "start_time": "2022-07-05T15:36:53.091Z"
   },
   {
    "duration": 20,
    "start_time": "2022-07-05T15:36:54.844Z"
   },
   {
    "duration": 14,
    "start_time": "2022-07-05T15:36:54.866Z"
   },
   {
    "duration": 21,
    "start_time": "2022-07-05T15:36:54.882Z"
   },
   {
    "duration": 60,
    "start_time": "2022-07-05T15:36:54.905Z"
   },
   {
    "duration": 41,
    "start_time": "2022-07-05T15:36:54.967Z"
   },
   {
    "duration": 43,
    "start_time": "2022-07-05T15:36:55.010Z"
   },
   {
    "duration": 22,
    "start_time": "2022-07-05T15:36:55.055Z"
   },
   {
    "duration": 72,
    "start_time": "2022-07-05T15:36:55.079Z"
   },
   {
    "duration": 20,
    "start_time": "2022-07-05T15:36:55.152Z"
   },
   {
    "duration": 28,
    "start_time": "2022-07-05T15:36:55.174Z"
   },
   {
    "duration": 37,
    "start_time": "2022-07-05T15:36:55.204Z"
   },
   {
    "duration": 23,
    "start_time": "2022-07-05T15:36:55.243Z"
   },
   {
    "duration": 29,
    "start_time": "2022-07-05T15:36:55.267Z"
   },
   {
    "duration": 15,
    "start_time": "2022-07-05T15:36:55.298Z"
   },
   {
    "duration": 67,
    "start_time": "2022-07-05T15:36:55.315Z"
   },
   {
    "duration": 26,
    "start_time": "2022-07-05T15:36:55.384Z"
   },
   {
    "duration": 128936,
    "start_time": "2022-07-05T15:47:42.337Z"
   },
   {
    "duration": 47,
    "start_time": "2022-07-06T14:53:25.535Z"
   },
   {
    "duration": 1591,
    "start_time": "2022-07-06T14:53:30.839Z"
   },
   {
    "duration": 67,
    "start_time": "2022-07-06T14:53:32.431Z"
   },
   {
    "duration": 342,
    "start_time": "2022-07-06T14:53:32.499Z"
   },
   {
    "duration": 9,
    "start_time": "2022-07-06T14:53:32.844Z"
   },
   {
    "duration": 13,
    "start_time": "2022-07-06T14:53:32.855Z"
   },
   {
    "duration": 20,
    "start_time": "2022-07-06T14:53:32.870Z"
   },
   {
    "duration": 38,
    "start_time": "2022-07-06T14:53:32.892Z"
   },
   {
    "duration": 49,
    "start_time": "2022-07-06T14:53:32.932Z"
   },
   {
    "duration": 13,
    "start_time": "2022-07-06T14:53:32.983Z"
   },
   {
    "duration": 28,
    "start_time": "2022-07-06T14:53:32.998Z"
   },
   {
    "duration": 6,
    "start_time": "2022-07-06T14:53:33.028Z"
   },
   {
    "duration": 35,
    "start_time": "2022-07-06T14:53:33.036Z"
   },
   {
    "duration": 16,
    "start_time": "2022-07-06T14:53:33.073Z"
   },
   {
    "duration": 23,
    "start_time": "2022-07-06T14:53:33.091Z"
   },
   {
    "duration": 4,
    "start_time": "2022-07-06T14:53:33.116Z"
   },
   {
    "duration": 7,
    "start_time": "2022-07-06T14:53:33.122Z"
   },
   {
    "duration": 35,
    "start_time": "2022-07-06T14:53:33.130Z"
   },
   {
    "duration": 321,
    "start_time": "2022-07-06T14:53:33.166Z"
   },
   {
    "duration": 7,
    "start_time": "2022-07-06T14:53:33.489Z"
   },
   {
    "duration": 14,
    "start_time": "2022-07-06T14:53:33.498Z"
   },
   {
    "duration": 25,
    "start_time": "2022-07-06T14:53:33.513Z"
   },
   {
    "duration": 53,
    "start_time": "2022-07-06T14:53:33.539Z"
   },
   {
    "duration": 25,
    "start_time": "2022-07-06T14:53:33.594Z"
   },
   {
    "duration": 8,
    "start_time": "2022-07-06T14:53:33.621Z"
   },
   {
    "duration": 503,
    "start_time": "2022-07-06T14:53:33.631Z"
   },
   {
    "duration": 47,
    "start_time": "2022-07-06T14:53:34.135Z"
   },
   {
    "duration": 8,
    "start_time": "2022-07-06T14:53:34.184Z"
   },
   {
    "duration": 102,
    "start_time": "2022-07-06T14:53:34.195Z"
   },
   {
    "duration": 10,
    "start_time": "2022-07-06T14:53:34.298Z"
   },
   {
    "duration": 826,
    "start_time": "2022-07-06T14:53:34.310Z"
   },
   {
    "duration": 15,
    "start_time": "2022-07-06T14:53:35.137Z"
   },
   {
    "duration": 53,
    "start_time": "2022-07-06T14:53:35.154Z"
   },
   {
    "duration": 20,
    "start_time": "2022-07-06T14:53:35.209Z"
   },
   {
    "duration": 51,
    "start_time": "2022-07-06T14:53:35.230Z"
   },
   {
    "duration": 2,
    "start_time": "2022-07-06T14:53:35.283Z"
   },
   {
    "duration": 1223,
    "start_time": "2022-07-06T14:53:35.287Z"
   },
   {
    "duration": 1693,
    "start_time": "2022-07-06T14:53:36.512Z"
   },
   {
    "duration": 15,
    "start_time": "2022-07-06T14:53:38.207Z"
   },
   {
    "duration": 12,
    "start_time": "2022-07-06T14:53:38.224Z"
   },
   {
    "duration": 35,
    "start_time": "2022-07-06T14:53:38.237Z"
   },
   {
    "duration": 26,
    "start_time": "2022-07-06T14:53:38.273Z"
   },
   {
    "duration": 37,
    "start_time": "2022-07-06T14:53:38.301Z"
   },
   {
    "duration": 55,
    "start_time": "2022-07-06T14:53:38.340Z"
   },
   {
    "duration": 19,
    "start_time": "2022-07-06T14:53:38.397Z"
   },
   {
    "duration": 65,
    "start_time": "2022-07-06T14:53:38.417Z"
   },
   {
    "duration": 18,
    "start_time": "2022-07-06T14:53:38.484Z"
   },
   {
    "duration": 19,
    "start_time": "2022-07-06T14:53:38.504Z"
   },
   {
    "duration": 41,
    "start_time": "2022-07-06T14:53:38.525Z"
   },
   {
    "duration": 18,
    "start_time": "2022-07-06T14:53:38.568Z"
   },
   {
    "duration": 15,
    "start_time": "2022-07-06T14:53:38.587Z"
   },
   {
    "duration": 7,
    "start_time": "2022-07-06T14:53:38.603Z"
   },
   {
    "duration": 84,
    "start_time": "2022-07-06T14:53:38.611Z"
   },
   {
    "duration": 15,
    "start_time": "2022-07-06T14:53:38.697Z"
   },
   {
    "duration": 3,
    "start_time": "2022-07-06T14:58:09.736Z"
   },
   {
    "duration": 4,
    "start_time": "2022-07-06T14:58:58.386Z"
   },
   {
    "duration": 49,
    "start_time": "2022-07-06T14:58:59.419Z"
   },
   {
    "duration": 338,
    "start_time": "2022-07-06T14:59:00.237Z"
   },
   {
    "duration": 10,
    "start_time": "2022-07-06T14:59:05.931Z"
   },
   {
    "duration": 7,
    "start_time": "2022-07-06T14:59:09.892Z"
   },
   {
    "duration": 32,
    "start_time": "2022-07-06T14:59:09.901Z"
   },
   {
    "duration": 20,
    "start_time": "2022-07-06T14:59:12.482Z"
   },
   {
    "duration": 39,
    "start_time": "2022-07-06T14:59:14.739Z"
   },
   {
    "duration": 16,
    "start_time": "2022-07-06T14:59:17.047Z"
   },
   {
    "duration": 36,
    "start_time": "2022-07-06T14:59:20.439Z"
   },
   {
    "duration": 8,
    "start_time": "2022-07-06T14:59:24.560Z"
   },
   {
    "duration": 8,
    "start_time": "2022-07-06T14:59:25.490Z"
   },
   {
    "duration": 9,
    "start_time": "2022-07-06T14:59:27.406Z"
   },
   {
    "duration": 21,
    "start_time": "2022-07-06T14:59:29.132Z"
   },
   {
    "duration": 5,
    "start_time": "2022-07-06T14:59:30.015Z"
   },
   {
    "duration": 5,
    "start_time": "2022-07-06T14:59:31.385Z"
   },
   {
    "duration": 5,
    "start_time": "2022-07-06T14:59:32.126Z"
   },
   {
    "duration": 293,
    "start_time": "2022-07-06T14:59:34.243Z"
   },
   {
    "duration": 8,
    "start_time": "2022-07-06T14:59:39.370Z"
   },
   {
    "duration": 14,
    "start_time": "2022-07-06T14:59:39.493Z"
   },
   {
    "duration": 27,
    "start_time": "2022-07-06T14:59:40.974Z"
   },
   {
    "duration": 34,
    "start_time": "2022-07-06T14:59:43.143Z"
   },
   {
    "duration": 27,
    "start_time": "2022-07-06T14:59:44.436Z"
   },
   {
    "duration": 10,
    "start_time": "2022-07-06T14:59:45.122Z"
   },
   {
    "duration": 44,
    "start_time": "2022-07-06T14:59:45.751Z"
   },
   {
    "duration": 40,
    "start_time": "2022-07-06T14:59:47.163Z"
   },
   {
    "duration": 6,
    "start_time": "2022-07-06T15:00:02.175Z"
   },
   {
    "duration": 46,
    "start_time": "2022-07-06T15:00:04.375Z"
   },
   {
    "duration": 10,
    "start_time": "2022-07-06T15:00:12.135Z"
   },
   {
    "duration": 827,
    "start_time": "2022-07-06T15:00:13.123Z"
   },
   {
    "duration": 18,
    "start_time": "2022-07-06T15:00:15.507Z"
   },
   {
    "duration": 49,
    "start_time": "2022-07-06T15:00:16.882Z"
   },
   {
    "duration": 22,
    "start_time": "2022-07-06T15:00:17.677Z"
   },
   {
    "duration": 27,
    "start_time": "2022-07-06T15:00:18.652Z"
   },
   {
    "duration": 3,
    "start_time": "2022-07-06T15:00:19.803Z"
   },
   {
    "duration": 1341,
    "start_time": "2022-07-06T15:00:20.515Z"
   },
   {
    "duration": 1570,
    "start_time": "2022-07-06T15:00:23.390Z"
   },
   {
    "duration": 17,
    "start_time": "2022-07-06T15:00:25.862Z"
   },
   {
    "duration": 15,
    "start_time": "2022-07-06T15:00:26.739Z"
   },
   {
    "duration": 20,
    "start_time": "2022-07-06T15:00:30.802Z"
   },
   {
    "duration": 29,
    "start_time": "2022-07-06T15:00:32.335Z"
   },
   {
    "duration": 37,
    "start_time": "2022-07-06T15:00:35.249Z"
   },
   {
    "duration": 34,
    "start_time": "2022-07-06T15:00:37.956Z"
   },
   {
    "duration": 19,
    "start_time": "2022-07-06T15:00:39.399Z"
   },
   {
    "duration": 51,
    "start_time": "2022-07-06T15:00:41.285Z"
   },
   {
    "duration": 20,
    "start_time": "2022-07-06T15:00:43.910Z"
   },
   {
    "duration": 20,
    "start_time": "2022-07-06T15:00:44.610Z"
   },
   {
    "duration": 18,
    "start_time": "2022-07-06T15:00:45.355Z"
   },
   {
    "duration": 19,
    "start_time": "2022-07-06T15:00:46.075Z"
   },
   {
    "duration": 13,
    "start_time": "2022-07-06T15:00:46.758Z"
   },
   {
    "duration": 5,
    "start_time": "2022-07-06T15:00:48.044Z"
   },
   {
    "duration": 77,
    "start_time": "2022-07-06T15:00:50.023Z"
   },
   {
    "duration": 14,
    "start_time": "2022-07-06T15:00:52.759Z"
   },
   {
    "duration": 2101,
    "start_time": "2022-07-06T15:00:54.295Z"
   },
   {
    "duration": 71,
    "start_time": "2022-07-06T15:05:04.341Z"
   },
   {
    "duration": 1323,
    "start_time": "2022-07-06T15:07:48.470Z"
   },
   {
    "duration": 53,
    "start_time": "2022-07-06T15:07:49.795Z"
   },
   {
    "duration": 230,
    "start_time": "2022-07-06T15:07:49.849Z"
   },
   {
    "duration": 8,
    "start_time": "2022-07-06T15:07:50.081Z"
   },
   {
    "duration": 21,
    "start_time": "2022-07-06T15:07:50.091Z"
   },
   {
    "duration": 23,
    "start_time": "2022-07-06T15:07:50.114Z"
   },
   {
    "duration": 22,
    "start_time": "2022-07-06T15:07:50.139Z"
   },
   {
    "duration": 35,
    "start_time": "2022-07-06T15:07:50.164Z"
   },
   {
    "duration": 15,
    "start_time": "2022-07-06T15:07:50.201Z"
   },
   {
    "duration": 50,
    "start_time": "2022-07-06T15:07:50.219Z"
   },
   {
    "duration": 6,
    "start_time": "2022-07-06T15:07:50.271Z"
   },
   {
    "duration": 14,
    "start_time": "2022-07-06T15:07:50.279Z"
   },
   {
    "duration": 12,
    "start_time": "2022-07-06T15:07:50.295Z"
   },
   {
    "duration": 28,
    "start_time": "2022-07-06T15:07:50.308Z"
   },
   {
    "duration": 4,
    "start_time": "2022-07-06T15:07:50.338Z"
   },
   {
    "duration": 6,
    "start_time": "2022-07-06T15:07:50.364Z"
   },
   {
    "duration": 9,
    "start_time": "2022-07-06T15:07:50.372Z"
   },
   {
    "duration": 341,
    "start_time": "2022-07-06T15:07:50.382Z"
   },
   {
    "duration": 9,
    "start_time": "2022-07-06T15:07:50.726Z"
   },
   {
    "duration": 27,
    "start_time": "2022-07-06T15:07:50.737Z"
   },
   {
    "duration": 27,
    "start_time": "2022-07-06T15:07:50.766Z"
   },
   {
    "duration": 33,
    "start_time": "2022-07-06T15:07:50.794Z"
   },
   {
    "duration": 42,
    "start_time": "2022-07-06T15:07:50.829Z"
   },
   {
    "duration": 8,
    "start_time": "2022-07-06T15:07:50.873Z"
   },
   {
    "duration": 474,
    "start_time": "2022-07-06T15:07:50.883Z"
   },
   {
    "duration": 52,
    "start_time": "2022-07-06T15:07:51.359Z"
   },
   {
    "duration": 55,
    "start_time": "2022-07-06T15:07:51.412Z"
   },
   {
    "duration": 45,
    "start_time": "2022-07-06T15:07:51.471Z"
   },
   {
    "duration": 53,
    "start_time": "2022-07-06T15:07:51.517Z"
   },
   {
    "duration": 760,
    "start_time": "2022-07-06T15:07:51.572Z"
   },
   {
    "duration": 15,
    "start_time": "2022-07-06T15:07:52.334Z"
   },
   {
    "duration": 58,
    "start_time": "2022-07-06T15:07:52.350Z"
   },
   {
    "duration": 21,
    "start_time": "2022-07-06T15:07:52.409Z"
   },
   {
    "duration": 46,
    "start_time": "2022-07-06T15:07:52.431Z"
   },
   {
    "duration": 2,
    "start_time": "2022-07-06T15:07:52.479Z"
   },
   {
    "duration": 1253,
    "start_time": "2022-07-06T15:07:52.483Z"
   },
   {
    "duration": 1615,
    "start_time": "2022-07-06T15:07:53.738Z"
   },
   {
    "duration": 15,
    "start_time": "2022-07-06T15:07:55.355Z"
   },
   {
    "duration": 12,
    "start_time": "2022-07-06T15:07:55.372Z"
   },
   {
    "duration": 20,
    "start_time": "2022-07-06T15:07:55.386Z"
   },
   {
    "duration": 57,
    "start_time": "2022-07-06T15:07:55.408Z"
   },
   {
    "duration": 42,
    "start_time": "2022-07-06T15:07:55.467Z"
   },
   {
    "duration": 31,
    "start_time": "2022-07-06T15:07:55.510Z"
   },
   {
    "duration": 34,
    "start_time": "2022-07-06T15:07:55.543Z"
   },
   {
    "duration": 46,
    "start_time": "2022-07-06T15:07:55.579Z"
   },
   {
    "duration": 37,
    "start_time": "2022-07-06T15:07:55.627Z"
   },
   {
    "duration": 19,
    "start_time": "2022-07-06T15:07:55.666Z"
   },
   {
    "duration": 23,
    "start_time": "2022-07-06T15:07:55.687Z"
   },
   {
    "duration": 18,
    "start_time": "2022-07-06T15:07:55.711Z"
   },
   {
    "duration": 37,
    "start_time": "2022-07-06T15:07:55.731Z"
   },
   {
    "duration": 22,
    "start_time": "2022-07-06T15:07:55.770Z"
   },
   {
    "duration": 54,
    "start_time": "2022-07-06T15:07:55.793Z"
   },
   {
    "duration": 0,
    "start_time": "2022-07-06T15:07:55.849Z"
   },
   {
    "duration": 0,
    "start_time": "2022-07-06T15:07:55.851Z"
   },
   {
    "duration": 0,
    "start_time": "2022-07-06T15:07:55.852Z"
   },
   {
    "duration": 0,
    "start_time": "2022-07-06T15:07:55.853Z"
   },
   {
    "duration": 0,
    "start_time": "2022-07-06T15:07:55.854Z"
   },
   {
    "duration": 0,
    "start_time": "2022-07-06T15:07:55.856Z"
   },
   {
    "duration": 0,
    "start_time": "2022-07-06T15:07:55.857Z"
   },
   {
    "duration": 0,
    "start_time": "2022-07-06T15:07:55.859Z"
   },
   {
    "duration": 0,
    "start_time": "2022-07-06T15:07:55.860Z"
   },
   {
    "duration": 0,
    "start_time": "2022-07-06T15:07:55.862Z"
   },
   {
    "duration": 0,
    "start_time": "2022-07-06T15:07:55.863Z"
   },
   {
    "duration": 0,
    "start_time": "2022-07-06T15:07:55.864Z"
   },
   {
    "duration": 0,
    "start_time": "2022-07-06T15:07:55.865Z"
   },
   {
    "duration": 0,
    "start_time": "2022-07-06T15:07:55.866Z"
   },
   {
    "duration": 0,
    "start_time": "2022-07-06T15:07:55.867Z"
   },
   {
    "duration": 0,
    "start_time": "2022-07-06T15:07:55.868Z"
   },
   {
    "duration": 0,
    "start_time": "2022-07-06T15:07:55.869Z"
   },
   {
    "duration": 0,
    "start_time": "2022-07-06T15:07:55.871Z"
   },
   {
    "duration": 0,
    "start_time": "2022-07-06T15:07:55.871Z"
   },
   {
    "duration": 0,
    "start_time": "2022-07-06T15:07:55.873Z"
   },
   {
    "duration": 0,
    "start_time": "2022-07-06T15:07:55.874Z"
   },
   {
    "duration": 15,
    "start_time": "2022-07-06T15:08:43.112Z"
   },
   {
    "duration": 22,
    "start_time": "2022-07-06T15:11:15.214Z"
   },
   {
    "duration": 14,
    "start_time": "2022-07-06T15:11:25.107Z"
   },
   {
    "duration": 22,
    "start_time": "2022-07-06T15:12:40.625Z"
   },
   {
    "duration": 13,
    "start_time": "2022-07-06T15:12:51.530Z"
   },
   {
    "duration": 8,
    "start_time": "2022-07-06T15:16:12.293Z"
   },
   {
    "duration": 23,
    "start_time": "2022-07-06T15:18:32.672Z"
   },
   {
    "duration": 13,
    "start_time": "2022-07-06T15:20:57.475Z"
   },
   {
    "duration": 161,
    "start_time": "2022-07-06T15:21:45.604Z"
   },
   {
    "duration": 14,
    "start_time": "2022-07-06T15:22:13.085Z"
   },
   {
    "duration": 13,
    "start_time": "2022-07-06T15:23:53.720Z"
   },
   {
    "duration": 15,
    "start_time": "2022-07-06T15:26:20.360Z"
   },
   {
    "duration": 21,
    "start_time": "2022-07-06T15:27:04.925Z"
   },
   {
    "duration": 13,
    "start_time": "2022-07-06T15:27:17.083Z"
   },
   {
    "duration": 9,
    "start_time": "2022-07-06T15:27:41.019Z"
   },
   {
    "duration": 36,
    "start_time": "2022-07-06T15:42:07.542Z"
   },
   {
    "duration": 205,
    "start_time": "2022-07-06T15:57:22.345Z"
   },
   {
    "duration": 13,
    "start_time": "2022-07-06T15:57:31.528Z"
   },
   {
    "duration": 5,
    "start_time": "2022-07-06T15:57:38.247Z"
   },
   {
    "duration": 37,
    "start_time": "2022-07-06T15:57:45.755Z"
   },
   {
    "duration": 22,
    "start_time": "2022-07-06T15:58:40.016Z"
   },
   {
    "duration": 13,
    "start_time": "2022-07-06T15:58:57.682Z"
   },
   {
    "duration": 40,
    "start_time": "2022-07-06T16:00:02.407Z"
   },
   {
    "duration": 11,
    "start_time": "2022-07-06T16:02:29.299Z"
   },
   {
    "duration": 5,
    "start_time": "2022-07-06T16:03:26.512Z"
   },
   {
    "duration": 34,
    "start_time": "2022-07-06T16:03:38.744Z"
   },
   {
    "duration": 23,
    "start_time": "2022-07-06T16:04:03.824Z"
   },
   {
    "duration": 12,
    "start_time": "2022-07-06T16:04:07.218Z"
   },
   {
    "duration": 10,
    "start_time": "2022-07-06T16:09:55.166Z"
   },
   {
    "duration": 10,
    "start_time": "2022-07-06T16:30:12.333Z"
   },
   {
    "duration": 9,
    "start_time": "2022-07-06T16:30:15.930Z"
   },
   {
    "duration": 4,
    "start_time": "2022-07-06T16:31:44.522Z"
   },
   {
    "duration": 4,
    "start_time": "2022-07-06T16:32:08.464Z"
   },
   {
    "duration": 30,
    "start_time": "2022-07-06T16:35:47.210Z"
   },
   {
    "duration": 9,
    "start_time": "2022-07-06T16:35:57.518Z"
   },
   {
    "duration": 12,
    "start_time": "2022-07-06T16:36:10.488Z"
   },
   {
    "duration": 12,
    "start_time": "2022-07-06T16:50:27.941Z"
   },
   {
    "duration": 12,
    "start_time": "2022-07-06T16:50:36.000Z"
   },
   {
    "duration": 12,
    "start_time": "2022-07-06T16:51:06.066Z"
   },
   {
    "duration": 10,
    "start_time": "2022-07-06T17:00:27.596Z"
   },
   {
    "duration": 7,
    "start_time": "2022-07-06T17:00:47.539Z"
   },
   {
    "duration": 9,
    "start_time": "2022-07-06T17:02:28.736Z"
   },
   {
    "duration": 4,
    "start_time": "2022-07-06T17:03:18.849Z"
   },
   {
    "duration": 10,
    "start_time": "2022-07-06T17:03:37.294Z"
   },
   {
    "duration": 11,
    "start_time": "2022-07-06T17:03:52.768Z"
   },
   {
    "duration": 1301,
    "start_time": "2022-07-06T19:36:39.072Z"
   },
   {
    "duration": 107,
    "start_time": "2022-07-06T19:36:40.375Z"
   },
   {
    "duration": 301,
    "start_time": "2022-07-06T19:36:40.484Z"
   },
   {
    "duration": 9,
    "start_time": "2022-07-06T19:36:40.786Z"
   },
   {
    "duration": 17,
    "start_time": "2022-07-06T19:36:40.797Z"
   },
   {
    "duration": 26,
    "start_time": "2022-07-06T19:36:40.816Z"
   },
   {
    "duration": 20,
    "start_time": "2022-07-06T19:36:40.844Z"
   },
   {
    "duration": 35,
    "start_time": "2022-07-06T19:36:40.866Z"
   },
   {
    "duration": 14,
    "start_time": "2022-07-06T19:36:40.903Z"
   },
   {
    "duration": 46,
    "start_time": "2022-07-06T19:36:40.919Z"
   },
   {
    "duration": 9,
    "start_time": "2022-07-06T19:36:40.967Z"
   },
   {
    "duration": 10,
    "start_time": "2022-07-06T19:36:40.978Z"
   },
   {
    "duration": 30,
    "start_time": "2022-07-06T19:36:40.990Z"
   },
   {
    "duration": 21,
    "start_time": "2022-07-06T19:36:41.023Z"
   },
   {
    "duration": 5,
    "start_time": "2022-07-06T19:36:41.045Z"
   },
   {
    "duration": 13,
    "start_time": "2022-07-06T19:36:41.051Z"
   },
   {
    "duration": 9,
    "start_time": "2022-07-06T19:36:41.066Z"
   },
   {
    "duration": 313,
    "start_time": "2022-07-06T19:36:41.076Z"
   },
   {
    "duration": 9,
    "start_time": "2022-07-06T19:36:41.391Z"
   },
   {
    "duration": 17,
    "start_time": "2022-07-06T19:36:41.402Z"
   },
   {
    "duration": 43,
    "start_time": "2022-07-06T19:36:41.421Z"
   },
   {
    "duration": 33,
    "start_time": "2022-07-06T19:36:41.466Z"
   },
   {
    "duration": 25,
    "start_time": "2022-07-06T19:36:41.500Z"
   },
   {
    "duration": 9,
    "start_time": "2022-07-06T19:36:41.527Z"
   },
   {
    "duration": 434,
    "start_time": "2022-07-06T19:36:41.564Z"
   },
   {
    "duration": 77,
    "start_time": "2022-07-06T19:36:42.000Z"
   },
   {
    "duration": 6,
    "start_time": "2022-07-06T19:36:42.079Z"
   },
   {
    "duration": 97,
    "start_time": "2022-07-06T19:36:42.087Z"
   },
   {
    "duration": 9,
    "start_time": "2022-07-06T19:36:42.186Z"
   },
   {
    "duration": 838,
    "start_time": "2022-07-06T19:36:42.196Z"
   },
   {
    "duration": 26,
    "start_time": "2022-07-06T19:36:43.035Z"
   },
   {
    "duration": 55,
    "start_time": "2022-07-06T19:36:43.063Z"
   },
   {
    "duration": 19,
    "start_time": "2022-07-06T19:36:43.120Z"
   },
   {
    "duration": 31,
    "start_time": "2022-07-06T19:36:43.140Z"
   },
   {
    "duration": 9,
    "start_time": "2022-07-06T19:36:43.173Z"
   },
   {
    "duration": 1206,
    "start_time": "2022-07-06T19:36:43.183Z"
   },
   {
    "duration": 1609,
    "start_time": "2022-07-06T19:36:44.391Z"
   },
   {
    "duration": 15,
    "start_time": "2022-07-06T19:36:46.002Z"
   },
   {
    "duration": 13,
    "start_time": "2022-07-06T19:36:46.018Z"
   },
   {
    "duration": 40,
    "start_time": "2022-07-06T19:36:46.033Z"
   },
   {
    "duration": 26,
    "start_time": "2022-07-06T19:36:46.077Z"
   },
   {
    "duration": 34,
    "start_time": "2022-07-06T19:36:46.104Z"
   },
   {
    "duration": 50,
    "start_time": "2022-07-06T19:36:46.140Z"
   },
   {
    "duration": 16,
    "start_time": "2022-07-06T19:36:46.191Z"
   },
   {
    "duration": 66,
    "start_time": "2022-07-06T19:36:46.208Z"
   },
   {
    "duration": 19,
    "start_time": "2022-07-06T19:36:46.275Z"
   },
   {
    "duration": 18,
    "start_time": "2022-07-06T19:36:46.295Z"
   },
   {
    "duration": 5,
    "start_time": "2022-07-06T19:36:46.314Z"
   },
   {
    "duration": 54,
    "start_time": "2022-07-06T19:36:46.320Z"
   },
   {
    "duration": 20,
    "start_time": "2022-07-06T19:36:46.376Z"
   },
   {
    "duration": 19,
    "start_time": "2022-07-06T19:36:46.397Z"
   },
   {
    "duration": 28,
    "start_time": "2022-07-06T19:36:46.417Z"
   },
   {
    "duration": 36,
    "start_time": "2022-07-06T19:36:46.463Z"
   },
   {
    "duration": 7,
    "start_time": "2022-07-06T19:36:46.500Z"
   },
   {
    "duration": 9,
    "start_time": "2022-07-06T19:36:46.508Z"
   },
   {
    "duration": 12,
    "start_time": "2022-07-06T19:36:46.519Z"
   },
   {
    "duration": 33,
    "start_time": "2022-07-06T19:36:46.532Z"
   },
   {
    "duration": 8,
    "start_time": "2022-07-06T19:36:46.566Z"
   },
   {
    "duration": 113,
    "start_time": "2022-07-06T19:36:46.575Z"
   },
   {
    "duration": 149,
    "start_time": "2022-07-06T19:36:46.690Z"
   },
   {
    "duration": 5,
    "start_time": "2022-07-06T19:36:46.840Z"
   },
   {
    "duration": 81,
    "start_time": "2022-07-06T19:36:46.847Z"
   },
   {
    "duration": 10,
    "start_time": "2022-07-06T19:36:46.929Z"
   },
   {
    "duration": 9,
    "start_time": "2022-07-06T19:36:46.941Z"
   },
   {
    "duration": 16,
    "start_time": "2022-07-06T19:36:46.951Z"
   },
   {
    "duration": 9,
    "start_time": "2022-07-06T19:36:46.968Z"
   },
   {
    "duration": 7,
    "start_time": "2022-07-06T19:36:46.979Z"
   },
   {
    "duration": 6,
    "start_time": "2022-07-06T19:36:46.987Z"
   },
   {
    "duration": 88,
    "start_time": "2022-07-06T19:36:46.994Z"
   },
   {
    "duration": 4,
    "start_time": "2022-07-06T19:36:47.085Z"
   },
   {
    "duration": 11,
    "start_time": "2022-07-06T19:36:47.091Z"
   },
   {
    "duration": 6,
    "start_time": "2022-07-06T19:36:47.104Z"
   },
   {
    "duration": 6,
    "start_time": "2022-07-06T19:36:47.112Z"
   },
   {
    "duration": 8,
    "start_time": "2022-07-06T19:36:47.119Z"
   },
   {
    "duration": 36,
    "start_time": "2022-07-06T19:36:47.128Z"
   },
   {
    "duration": 48,
    "start_time": "2022-07-06T19:50:35.428Z"
   },
   {
    "duration": 22,
    "start_time": "2022-07-06T19:53:18.934Z"
   },
   {
    "duration": 35,
    "start_time": "2022-07-06T19:54:19.232Z"
   },
   {
    "duration": 165,
    "start_time": "2022-07-06T19:56:34.978Z"
   },
   {
    "duration": 13,
    "start_time": "2022-07-06T19:56:52.953Z"
   },
   {
    "duration": 5,
    "start_time": "2022-07-06T19:57:30.727Z"
   },
   {
    "duration": 57,
    "start_time": "2022-07-06T19:57:30.734Z"
   },
   {
    "duration": 178,
    "start_time": "2022-07-06T19:57:30.793Z"
   },
   {
    "duration": 10,
    "start_time": "2022-07-06T19:57:30.973Z"
   },
   {
    "duration": 8,
    "start_time": "2022-07-06T19:57:31.223Z"
   },
   {
    "duration": 35,
    "start_time": "2022-07-06T19:57:31.233Z"
   },
   {
    "duration": 31,
    "start_time": "2022-07-06T19:57:31.270Z"
   },
   {
    "duration": 36,
    "start_time": "2022-07-06T19:57:32.093Z"
   },
   {
    "duration": 15,
    "start_time": "2022-07-06T19:57:32.131Z"
   },
   {
    "duration": 38,
    "start_time": "2022-07-06T19:57:32.147Z"
   },
   {
    "duration": 7,
    "start_time": "2022-07-06T19:57:32.187Z"
   },
   {
    "duration": 14,
    "start_time": "2022-07-06T19:57:32.196Z"
   },
   {
    "duration": 9,
    "start_time": "2022-07-06T19:57:32.212Z"
   },
   {
    "duration": 20,
    "start_time": "2022-07-06T19:57:33.451Z"
   },
   {
    "duration": 4,
    "start_time": "2022-07-06T19:57:33.473Z"
   },
   {
    "duration": 10,
    "start_time": "2022-07-06T19:57:33.478Z"
   },
   {
    "duration": 6,
    "start_time": "2022-07-06T19:57:33.489Z"
   },
   {
    "duration": 283,
    "start_time": "2022-07-06T19:57:33.497Z"
   },
   {
    "duration": 7,
    "start_time": "2022-07-06T19:57:33.782Z"
   },
   {
    "duration": 13,
    "start_time": "2022-07-06T19:57:33.791Z"
   },
   {
    "duration": 24,
    "start_time": "2022-07-06T19:57:33.806Z"
   },
   {
    "duration": 57,
    "start_time": "2022-07-06T19:57:33.831Z"
   },
   {
    "duration": 26,
    "start_time": "2022-07-06T19:57:33.889Z"
   },
   {
    "duration": 9,
    "start_time": "2022-07-06T19:57:33.916Z"
   },
   {
    "duration": 165,
    "start_time": "2022-07-06T19:57:33.927Z"
   },
   {
    "duration": 40,
    "start_time": "2022-07-06T19:57:34.094Z"
   },
   {
    "duration": 8,
    "start_time": "2022-07-06T19:57:34.136Z"
   },
   {
    "duration": 55,
    "start_time": "2022-07-06T19:57:34.146Z"
   },
   {
    "duration": 9,
    "start_time": "2022-07-06T19:57:34.203Z"
   },
   {
    "duration": 682,
    "start_time": "2022-07-06T19:57:34.214Z"
   },
   {
    "duration": 14,
    "start_time": "2022-07-06T19:57:34.898Z"
   },
   {
    "duration": 62,
    "start_time": "2022-07-06T19:57:34.914Z"
   },
   {
    "duration": 22,
    "start_time": "2022-07-06T19:57:34.977Z"
   },
   {
    "duration": 26,
    "start_time": "2022-07-06T19:57:35.000Z"
   },
   {
    "duration": 3,
    "start_time": "2022-07-06T19:57:35.028Z"
   },
   {
    "duration": 1340,
    "start_time": "2022-07-06T19:57:35.033Z"
   },
   {
    "duration": 1641,
    "start_time": "2022-07-06T19:57:36.376Z"
   },
   {
    "duration": 19,
    "start_time": "2022-07-06T19:57:38.020Z"
   },
   {
    "duration": 30,
    "start_time": "2022-07-06T19:57:38.041Z"
   },
   {
    "duration": 21,
    "start_time": "2022-07-06T19:57:38.072Z"
   },
   {
    "duration": 31,
    "start_time": "2022-07-06T19:57:38.094Z"
   },
   {
    "duration": 59,
    "start_time": "2022-07-06T19:57:38.129Z"
   },
   {
    "duration": 32,
    "start_time": "2022-07-06T19:57:38.190Z"
   },
   {
    "duration": 18,
    "start_time": "2022-07-06T19:57:38.224Z"
   },
   {
    "duration": 66,
    "start_time": "2022-07-06T19:57:38.243Z"
   },
   {
    "duration": 19,
    "start_time": "2022-07-06T19:57:38.311Z"
   },
   {
    "duration": 38,
    "start_time": "2022-07-06T19:57:38.332Z"
   },
   {
    "duration": 5,
    "start_time": "2022-07-06T19:57:38.371Z"
   },
   {
    "duration": 33,
    "start_time": "2022-07-06T19:57:38.378Z"
   },
   {
    "duration": 23,
    "start_time": "2022-07-06T19:57:38.413Z"
   },
   {
    "duration": 36,
    "start_time": "2022-07-06T19:57:38.438Z"
   },
   {
    "duration": 25,
    "start_time": "2022-07-06T19:57:38.476Z"
   },
   {
    "duration": 33,
    "start_time": "2022-07-06T19:57:38.503Z"
   },
   {
    "duration": 28,
    "start_time": "2022-07-06T19:57:38.537Z"
   },
   {
    "duration": 7,
    "start_time": "2022-07-06T19:57:38.567Z"
   },
   {
    "duration": 9,
    "start_time": "2022-07-06T19:57:38.576Z"
   },
   {
    "duration": 13,
    "start_time": "2022-07-06T19:57:38.586Z"
   },
   {
    "duration": 15,
    "start_time": "2022-07-06T19:57:38.600Z"
   },
   {
    "duration": 116,
    "start_time": "2022-07-06T19:57:38.617Z"
   },
   {
    "duration": 157,
    "start_time": "2022-07-06T19:57:38.735Z"
   },
   {
    "duration": 5,
    "start_time": "2022-07-06T19:57:38.894Z"
   },
   {
    "duration": 90,
    "start_time": "2022-07-06T19:57:38.901Z"
   },
   {
    "duration": 12,
    "start_time": "2022-07-06T19:57:38.993Z"
   },
   {
    "duration": 9,
    "start_time": "2022-07-06T19:57:39.007Z"
   },
   {
    "duration": 11,
    "start_time": "2022-07-06T19:57:39.017Z"
   },
   {
    "duration": 12,
    "start_time": "2022-07-06T19:57:39.030Z"
   },
   {
    "duration": 25,
    "start_time": "2022-07-06T19:57:39.044Z"
   },
   {
    "duration": 5,
    "start_time": "2022-07-06T19:57:39.071Z"
   },
   {
    "duration": 87,
    "start_time": "2022-07-06T19:57:39.078Z"
   },
   {
    "duration": 5,
    "start_time": "2022-07-06T19:57:39.167Z"
   },
   {
    "duration": 12,
    "start_time": "2022-07-06T19:57:39.174Z"
   },
   {
    "duration": 8,
    "start_time": "2022-07-06T19:57:39.188Z"
   },
   {
    "duration": 10,
    "start_time": "2022-07-06T19:57:39.197Z"
   },
   {
    "duration": 8,
    "start_time": "2022-07-06T19:57:39.208Z"
   },
   {
    "duration": 8,
    "start_time": "2022-07-06T19:57:39.217Z"
   },
   {
    "duration": 45,
    "start_time": "2022-07-06T19:59:13.046Z"
   },
   {
    "duration": 21,
    "start_time": "2022-07-06T19:59:13.955Z"
   },
   {
    "duration": 21,
    "start_time": "2022-07-06T19:59:15.735Z"
   },
   {
    "duration": 6,
    "start_time": "2022-07-06T19:59:20.701Z"
   },
   {
    "duration": 32,
    "start_time": "2022-07-06T19:59:22.057Z"
   },
   {
    "duration": 23,
    "start_time": "2022-07-06T19:59:25.707Z"
   },
   {
    "duration": 20,
    "start_time": "2022-07-06T19:59:29.830Z"
   },
   {
    "duration": 21,
    "start_time": "2022-07-06T20:00:34.054Z"
   },
   {
    "duration": 13,
    "start_time": "2022-07-06T20:02:05.854Z"
   },
   {
    "duration": 5,
    "start_time": "2022-07-06T20:05:32.669Z"
   },
   {
    "duration": 24,
    "start_time": "2022-07-06T20:06:01.366Z"
   },
   {
    "duration": 9,
    "start_time": "2022-07-06T20:08:56.535Z"
   },
   {
    "duration": 1261,
    "start_time": "2022-07-06T20:13:39.218Z"
   },
   {
    "duration": 57,
    "start_time": "2022-07-06T20:13:40.481Z"
   },
   {
    "duration": 207,
    "start_time": "2022-07-06T20:13:40.539Z"
   },
   {
    "duration": 8,
    "start_time": "2022-07-06T20:13:40.749Z"
   },
   {
    "duration": 7,
    "start_time": "2022-07-06T20:13:40.764Z"
   },
   {
    "duration": 21,
    "start_time": "2022-07-06T20:13:40.773Z"
   },
   {
    "duration": 21,
    "start_time": "2022-07-06T20:13:40.795Z"
   },
   {
    "duration": 58,
    "start_time": "2022-07-06T20:13:40.817Z"
   },
   {
    "duration": 12,
    "start_time": "2022-07-06T20:13:40.877Z"
   },
   {
    "duration": 30,
    "start_time": "2022-07-06T20:13:40.891Z"
   },
   {
    "duration": 6,
    "start_time": "2022-07-06T20:13:40.923Z"
   },
   {
    "duration": 13,
    "start_time": "2022-07-06T20:13:40.931Z"
   },
   {
    "duration": 9,
    "start_time": "2022-07-06T20:13:40.963Z"
   },
   {
    "duration": 19,
    "start_time": "2022-07-06T20:13:40.973Z"
   },
   {
    "duration": 4,
    "start_time": "2022-07-06T20:13:40.994Z"
   },
   {
    "duration": 7,
    "start_time": "2022-07-06T20:13:40.999Z"
   },
   {
    "duration": 5,
    "start_time": "2022-07-06T20:13:41.007Z"
   },
   {
    "duration": 324,
    "start_time": "2022-07-06T20:13:41.013Z"
   },
   {
    "duration": 7,
    "start_time": "2022-07-06T20:13:41.338Z"
   },
   {
    "duration": 27,
    "start_time": "2022-07-06T20:13:41.347Z"
   },
   {
    "duration": 28,
    "start_time": "2022-07-06T20:13:41.376Z"
   },
   {
    "duration": 38,
    "start_time": "2022-07-06T20:13:41.405Z"
   },
   {
    "duration": 41,
    "start_time": "2022-07-06T20:13:41.445Z"
   },
   {
    "duration": 9,
    "start_time": "2022-07-06T20:13:41.487Z"
   },
   {
    "duration": 424,
    "start_time": "2022-07-06T20:13:41.497Z"
   },
   {
    "duration": 55,
    "start_time": "2022-07-06T20:13:41.922Z"
   },
   {
    "duration": 6,
    "start_time": "2022-07-06T20:13:41.979Z"
   },
   {
    "duration": 100,
    "start_time": "2022-07-06T20:13:41.989Z"
   },
   {
    "duration": 8,
    "start_time": "2022-07-06T20:13:42.091Z"
   },
   {
    "duration": 817,
    "start_time": "2022-07-06T20:13:42.101Z"
   },
   {
    "duration": 14,
    "start_time": "2022-07-06T20:13:42.919Z"
   },
   {
    "duration": 60,
    "start_time": "2022-07-06T20:13:42.935Z"
   },
   {
    "duration": 20,
    "start_time": "2022-07-06T20:13:42.997Z"
   },
   {
    "duration": 26,
    "start_time": "2022-07-06T20:13:43.018Z"
   },
   {
    "duration": 3,
    "start_time": "2022-07-06T20:13:43.064Z"
   },
   {
    "duration": 1206,
    "start_time": "2022-07-06T20:13:43.069Z"
   },
   {
    "duration": 1611,
    "start_time": "2022-07-06T20:13:44.276Z"
   },
   {
    "duration": 17,
    "start_time": "2022-07-06T20:13:45.889Z"
   },
   {
    "duration": 12,
    "start_time": "2022-07-06T20:13:45.908Z"
   },
   {
    "duration": 44,
    "start_time": "2022-07-06T20:13:45.922Z"
   },
   {
    "duration": 27,
    "start_time": "2022-07-06T20:13:45.968Z"
   },
   {
    "duration": 37,
    "start_time": "2022-07-06T20:13:45.997Z"
   },
   {
    "duration": 52,
    "start_time": "2022-07-06T20:13:46.036Z"
   },
   {
    "duration": 16,
    "start_time": "2022-07-06T20:13:46.089Z"
   },
   {
    "duration": 64,
    "start_time": "2022-07-06T20:13:46.106Z"
   },
   {
    "duration": 19,
    "start_time": "2022-07-06T20:13:46.172Z"
   },
   {
    "duration": 18,
    "start_time": "2022-07-06T20:13:46.192Z"
   },
   {
    "duration": 28,
    "start_time": "2022-07-06T20:13:46.211Z"
   },
   {
    "duration": 35,
    "start_time": "2022-07-06T20:13:46.241Z"
   },
   {
    "duration": 23,
    "start_time": "2022-07-06T20:13:46.278Z"
   },
   {
    "duration": 26,
    "start_time": "2022-07-06T20:13:46.303Z"
   },
   {
    "duration": 14,
    "start_time": "2022-07-06T20:13:46.331Z"
   },
   {
    "duration": 17,
    "start_time": "2022-07-06T20:13:46.346Z"
   },
   {
    "duration": 10,
    "start_time": "2022-07-06T20:13:46.365Z"
   },
   {
    "duration": 14,
    "start_time": "2022-07-06T20:13:46.377Z"
   },
   {
    "duration": 10,
    "start_time": "2022-07-06T20:13:46.392Z"
   },
   {
    "duration": 119,
    "start_time": "2022-07-06T20:13:46.403Z"
   },
   {
    "duration": 150,
    "start_time": "2022-07-06T20:13:46.524Z"
   },
   {
    "duration": 5,
    "start_time": "2022-07-06T20:13:46.676Z"
   },
   {
    "duration": 82,
    "start_time": "2022-07-06T20:13:46.682Z"
   },
   {
    "duration": 10,
    "start_time": "2022-07-06T20:13:46.766Z"
   },
   {
    "duration": 10,
    "start_time": "2022-07-06T20:13:46.777Z"
   },
   {
    "duration": 8,
    "start_time": "2022-07-06T20:13:46.788Z"
   },
   {
    "duration": 14,
    "start_time": "2022-07-06T20:13:46.797Z"
   },
   {
    "duration": 9,
    "start_time": "2022-07-06T20:13:46.812Z"
   },
   {
    "duration": 5,
    "start_time": "2022-07-06T20:13:46.823Z"
   },
   {
    "duration": 95,
    "start_time": "2022-07-06T20:13:46.829Z"
   },
   {
    "duration": 4,
    "start_time": "2022-07-06T20:13:46.926Z"
   },
   {
    "duration": 13,
    "start_time": "2022-07-06T20:13:46.931Z"
   },
   {
    "duration": 21,
    "start_time": "2022-07-06T20:13:46.946Z"
   },
   {
    "duration": 8,
    "start_time": "2022-07-06T20:13:46.969Z"
   },
   {
    "duration": 7,
    "start_time": "2022-07-06T20:13:46.978Z"
   },
   {
    "duration": 8,
    "start_time": "2022-07-06T20:13:46.986Z"
   },
   {
    "duration": 13,
    "start_time": "2022-07-06T20:16:50.148Z"
   },
   {
    "duration": 1745,
    "start_time": "2022-07-07T08:59:21.807Z"
   },
   {
    "duration": 55,
    "start_time": "2022-07-07T08:59:23.554Z"
   },
   {
    "duration": 217,
    "start_time": "2022-07-07T08:59:23.611Z"
   },
   {
    "duration": 10,
    "start_time": "2022-07-07T08:59:23.831Z"
   },
   {
    "duration": 23,
    "start_time": "2022-07-07T08:59:23.844Z"
   },
   {
    "duration": 20,
    "start_time": "2022-07-07T08:59:23.870Z"
   },
   {
    "duration": 39,
    "start_time": "2022-07-07T08:59:23.892Z"
   },
   {
    "duration": 44,
    "start_time": "2022-07-07T08:59:23.933Z"
   },
   {
    "duration": 14,
    "start_time": "2022-07-07T08:59:23.979Z"
   },
   {
    "duration": 51,
    "start_time": "2022-07-07T08:59:23.996Z"
   },
   {
    "duration": 9,
    "start_time": "2022-07-07T08:59:24.049Z"
   },
   {
    "duration": 10,
    "start_time": "2022-07-07T08:59:24.063Z"
   },
   {
    "duration": 17,
    "start_time": "2022-07-07T08:59:24.075Z"
   },
   {
    "duration": 52,
    "start_time": "2022-07-07T08:59:24.094Z"
   },
   {
    "duration": 6,
    "start_time": "2022-07-07T08:59:24.149Z"
   },
   {
    "duration": 9,
    "start_time": "2022-07-07T08:59:24.157Z"
   },
   {
    "duration": 6,
    "start_time": "2022-07-07T08:59:24.168Z"
   },
   {
    "duration": 385,
    "start_time": "2022-07-07T08:59:24.176Z"
   },
   {
    "duration": 8,
    "start_time": "2022-07-07T08:59:24.563Z"
   },
   {
    "duration": 14,
    "start_time": "2022-07-07T08:59:24.573Z"
   },
   {
    "duration": 55,
    "start_time": "2022-07-07T08:59:24.589Z"
   },
   {
    "duration": 55,
    "start_time": "2022-07-07T08:59:24.646Z"
   },
   {
    "duration": 55,
    "start_time": "2022-07-07T08:59:24.703Z"
   },
   {
    "duration": 12,
    "start_time": "2022-07-07T08:59:24.760Z"
   },
   {
    "duration": 514,
    "start_time": "2022-07-07T08:59:24.774Z"
   },
   {
    "duration": 63,
    "start_time": "2022-07-07T08:59:25.289Z"
   },
   {
    "duration": 101,
    "start_time": "2022-07-07T08:59:25.354Z"
   },
   {
    "duration": 76,
    "start_time": "2022-07-07T08:59:25.461Z"
   },
   {
    "duration": 13,
    "start_time": "2022-07-07T08:59:25.539Z"
   },
   {
    "duration": 865,
    "start_time": "2022-07-07T08:59:25.554Z"
   },
   {
    "duration": 17,
    "start_time": "2022-07-07T08:59:26.421Z"
   },
   {
    "duration": 63,
    "start_time": "2022-07-07T08:59:26.439Z"
   },
   {
    "duration": 45,
    "start_time": "2022-07-07T08:59:26.504Z"
   },
   {
    "duration": 26,
    "start_time": "2022-07-07T08:59:26.551Z"
   },
   {
    "duration": 3,
    "start_time": "2022-07-07T08:59:26.579Z"
   },
   {
    "duration": 1467,
    "start_time": "2022-07-07T08:59:26.584Z"
   },
   {
    "duration": 2104,
    "start_time": "2022-07-07T08:59:28.054Z"
   },
   {
    "duration": 21,
    "start_time": "2022-07-07T08:59:30.159Z"
   },
   {
    "duration": 17,
    "start_time": "2022-07-07T08:59:30.182Z"
   },
   {
    "duration": 48,
    "start_time": "2022-07-07T08:59:30.201Z"
   },
   {
    "duration": 32,
    "start_time": "2022-07-07T08:59:30.251Z"
   },
   {
    "duration": 65,
    "start_time": "2022-07-07T08:59:30.285Z"
   },
   {
    "duration": 36,
    "start_time": "2022-07-07T08:59:30.352Z"
   },
   {
    "duration": 39,
    "start_time": "2022-07-07T08:59:30.390Z"
   },
   {
    "duration": 63,
    "start_time": "2022-07-07T08:59:30.431Z"
   },
   {
    "duration": 31,
    "start_time": "2022-07-07T08:59:30.496Z"
   },
   {
    "duration": 21,
    "start_time": "2022-07-07T08:59:30.530Z"
   },
   {
    "duration": 38,
    "start_time": "2022-07-07T08:59:30.553Z"
   },
   {
    "duration": 53,
    "start_time": "2022-07-07T08:59:30.594Z"
   },
   {
    "duration": 28,
    "start_time": "2022-07-07T08:59:30.649Z"
   },
   {
    "duration": 59,
    "start_time": "2022-07-07T08:59:30.679Z"
   },
   {
    "duration": 31,
    "start_time": "2022-07-07T08:59:30.741Z"
   },
   {
    "duration": 15,
    "start_time": "2022-07-07T08:59:30.774Z"
   },
   {
    "duration": 35,
    "start_time": "2022-07-07T08:59:30.791Z"
   },
   {
    "duration": 43,
    "start_time": "2022-07-07T08:59:30.828Z"
   },
   {
    "duration": 14,
    "start_time": "2022-07-07T08:59:30.873Z"
   },
   {
    "duration": 180,
    "start_time": "2022-07-07T08:59:30.890Z"
   },
   {
    "duration": 172,
    "start_time": "2022-07-07T08:59:31.072Z"
   },
   {
    "duration": 7,
    "start_time": "2022-07-07T08:59:31.247Z"
   },
   {
    "duration": 107,
    "start_time": "2022-07-07T08:59:31.256Z"
   },
   {
    "duration": 12,
    "start_time": "2022-07-07T08:59:31.365Z"
   },
   {
    "duration": 29,
    "start_time": "2022-07-07T08:59:31.379Z"
   },
   {
    "duration": 15,
    "start_time": "2022-07-07T08:59:31.410Z"
   },
   {
    "duration": 21,
    "start_time": "2022-07-07T08:59:31.427Z"
   },
   {
    "duration": 31,
    "start_time": "2022-07-07T08:59:31.451Z"
   },
   {
    "duration": 16,
    "start_time": "2022-07-07T08:59:31.484Z"
   },
   {
    "duration": 125,
    "start_time": "2022-07-07T08:59:31.501Z"
   },
   {
    "duration": 5,
    "start_time": "2022-07-07T08:59:31.629Z"
   },
   {
    "duration": 33,
    "start_time": "2022-07-07T08:59:31.635Z"
   },
   {
    "duration": 9,
    "start_time": "2022-07-07T08:59:31.670Z"
   },
   {
    "duration": 10,
    "start_time": "2022-07-07T08:59:31.681Z"
   },
   {
    "duration": 18,
    "start_time": "2022-07-07T08:59:31.693Z"
   },
   {
    "duration": 26,
    "start_time": "2022-07-07T08:59:31.712Z"
   },
   {
    "duration": 9,
    "start_time": "2022-07-07T09:20:47.603Z"
   },
   {
    "duration": 12,
    "start_time": "2022-07-07T09:22:32.682Z"
   },
   {
    "duration": 17,
    "start_time": "2022-07-07T09:31:21.320Z"
   },
   {
    "duration": 9,
    "start_time": "2022-07-07T09:33:46.002Z"
   },
   {
    "duration": 128,
    "start_time": "2022-07-07T09:34:39.964Z"
   },
   {
    "duration": 175,
    "start_time": "2022-07-07T09:35:01.565Z"
   },
   {
    "duration": 14,
    "start_time": "2022-07-07T09:52:13.857Z"
   },
   {
    "duration": 213,
    "start_time": "2022-07-07T09:52:19.455Z"
   },
   {
    "duration": 14,
    "start_time": "2022-07-07T09:52:41.536Z"
   },
   {
    "duration": 20,
    "start_time": "2022-07-07T09:53:11.473Z"
   },
   {
    "duration": 10,
    "start_time": "2022-07-07T09:53:36.560Z"
   },
   {
    "duration": 9,
    "start_time": "2022-07-07T15:06:08.020Z"
   },
   {
    "duration": 22,
    "start_time": "2022-07-07T15:07:25.524Z"
   },
   {
    "duration": 27,
    "start_time": "2022-07-07T15:10:32.962Z"
   },
   {
    "duration": 8,
    "start_time": "2022-07-07T15:11:30.091Z"
   },
   {
    "duration": 12,
    "start_time": "2022-07-07T15:11:41.951Z"
   },
   {
    "duration": 6,
    "start_time": "2022-07-07T15:11:51.693Z"
   },
   {
    "duration": 5,
    "start_time": "2022-07-07T15:25:54.762Z"
   },
   {
    "duration": 7,
    "start_time": "2022-07-07T15:34:20.280Z"
   },
   {
    "duration": 141,
    "start_time": "2022-07-08T15:04:25.288Z"
   },
   {
    "duration": 1596,
    "start_time": "2022-07-08T15:04:37.970Z"
   },
   {
    "duration": 63,
    "start_time": "2022-07-08T15:04:39.568Z"
   },
   {
    "duration": 269,
    "start_time": "2022-07-08T15:04:39.634Z"
   },
   {
    "duration": 10,
    "start_time": "2022-07-08T15:04:39.905Z"
   },
   {
    "duration": 13,
    "start_time": "2022-07-08T15:04:39.918Z"
   },
   {
    "duration": 52,
    "start_time": "2022-07-08T15:04:39.933Z"
   },
   {
    "duration": 43,
    "start_time": "2022-07-08T15:04:39.989Z"
   },
   {
    "duration": 72,
    "start_time": "2022-07-08T15:04:40.035Z"
   },
   {
    "duration": 18,
    "start_time": "2022-07-08T15:04:40.109Z"
   },
   {
    "duration": 65,
    "start_time": "2022-07-08T15:04:40.131Z"
   },
   {
    "duration": 10,
    "start_time": "2022-07-08T15:04:40.198Z"
   },
   {
    "duration": 15,
    "start_time": "2022-07-08T15:04:40.210Z"
   },
   {
    "duration": 20,
    "start_time": "2022-07-08T15:04:40.227Z"
   },
   {
    "duration": 47,
    "start_time": "2022-07-08T15:04:40.249Z"
   },
   {
    "duration": 6,
    "start_time": "2022-07-08T15:04:40.299Z"
   },
   {
    "duration": 15,
    "start_time": "2022-07-08T15:04:40.307Z"
   },
   {
    "duration": 5,
    "start_time": "2022-07-08T15:04:40.325Z"
   },
   {
    "duration": 360,
    "start_time": "2022-07-08T15:04:40.332Z"
   },
   {
    "duration": 9,
    "start_time": "2022-07-08T15:04:40.694Z"
   },
   {
    "duration": 24,
    "start_time": "2022-07-08T15:04:40.705Z"
   },
   {
    "duration": 53,
    "start_time": "2022-07-08T15:04:40.732Z"
   },
   {
    "duration": 38,
    "start_time": "2022-07-08T15:04:40.788Z"
   },
   {
    "duration": 51,
    "start_time": "2022-07-08T15:04:40.829Z"
   },
   {
    "duration": 13,
    "start_time": "2022-07-08T15:04:40.885Z"
   },
   {
    "duration": 633,
    "start_time": "2022-07-08T15:04:40.900Z"
   },
   {
    "duration": 63,
    "start_time": "2022-07-08T15:04:41.535Z"
   },
   {
    "duration": 7,
    "start_time": "2022-07-08T15:04:41.601Z"
   },
   {
    "duration": 112,
    "start_time": "2022-07-08T15:04:41.666Z"
   },
   {
    "duration": 11,
    "start_time": "2022-07-08T15:04:41.783Z"
   },
   {
    "duration": 846,
    "start_time": "2022-07-08T15:04:41.796Z"
   },
   {
    "duration": 45,
    "start_time": "2022-07-08T15:04:42.644Z"
   },
   {
    "duration": 89,
    "start_time": "2022-07-08T15:04:42.708Z"
   },
   {
    "duration": 7,
    "start_time": "2022-07-08T15:04:42.799Z"
   },
   {
    "duration": 32,
    "start_time": "2022-07-08T15:04:42.808Z"
   },
   {
    "duration": 28,
    "start_time": "2022-07-08T15:04:42.842Z"
   },
   {
    "duration": 50,
    "start_time": "2022-07-08T15:04:42.879Z"
   },
   {
    "duration": 4,
    "start_time": "2022-07-08T15:04:42.931Z"
   },
   {
    "duration": 1315,
    "start_time": "2022-07-08T15:04:42.936Z"
   },
   {
    "duration": 1799,
    "start_time": "2022-07-08T15:04:44.253Z"
   },
   {
    "duration": 28,
    "start_time": "2022-07-08T15:04:46.054Z"
   },
   {
    "duration": 15,
    "start_time": "2022-07-08T15:04:46.089Z"
   },
   {
    "duration": 26,
    "start_time": "2022-07-08T15:04:46.106Z"
   },
   {
    "duration": 61,
    "start_time": "2022-07-08T15:04:46.134Z"
   },
   {
    "duration": 51,
    "start_time": "2022-07-08T15:04:46.197Z"
   },
   {
    "duration": 50,
    "start_time": "2022-07-08T15:04:46.263Z"
   },
   {
    "duration": 23,
    "start_time": "2022-07-08T15:04:46.315Z"
   },
   {
    "duration": 83,
    "start_time": "2022-07-08T15:04:46.341Z"
   },
   {
    "duration": 25,
    "start_time": "2022-07-08T15:04:46.427Z"
   },
   {
    "duration": 69,
    "start_time": "2022-07-08T15:04:46.463Z"
   },
   {
    "duration": 1903,
    "start_time": "2022-07-08T15:04:46.535Z"
   },
   {
    "duration": 0,
    "start_time": "2022-07-08T15:04:48.441Z"
   },
   {
    "duration": 0,
    "start_time": "2022-07-08T15:04:48.443Z"
   },
   {
    "duration": 0,
    "start_time": "2022-07-08T15:04:48.444Z"
   },
   {
    "duration": 0,
    "start_time": "2022-07-08T15:04:48.446Z"
   },
   {
    "duration": 0,
    "start_time": "2022-07-08T15:04:48.447Z"
   },
   {
    "duration": 0,
    "start_time": "2022-07-08T15:04:48.449Z"
   },
   {
    "duration": 0,
    "start_time": "2022-07-08T15:04:48.450Z"
   },
   {
    "duration": 0,
    "start_time": "2022-07-08T15:04:48.451Z"
   },
   {
    "duration": 0,
    "start_time": "2022-07-08T15:04:48.453Z"
   },
   {
    "duration": 0,
    "start_time": "2022-07-08T15:04:48.454Z"
   },
   {
    "duration": 0,
    "start_time": "2022-07-08T15:04:48.456Z"
   },
   {
    "duration": 0,
    "start_time": "2022-07-08T15:04:48.457Z"
   },
   {
    "duration": 0,
    "start_time": "2022-07-08T15:04:48.458Z"
   },
   {
    "duration": 0,
    "start_time": "2022-07-08T15:04:48.463Z"
   },
   {
    "duration": 0,
    "start_time": "2022-07-08T15:04:48.464Z"
   },
   {
    "duration": 0,
    "start_time": "2022-07-08T15:04:48.467Z"
   },
   {
    "duration": 0,
    "start_time": "2022-07-08T15:04:48.468Z"
   },
   {
    "duration": 0,
    "start_time": "2022-07-08T15:04:48.470Z"
   },
   {
    "duration": 0,
    "start_time": "2022-07-08T15:04:48.475Z"
   },
   {
    "duration": 0,
    "start_time": "2022-07-08T15:04:48.478Z"
   },
   {
    "duration": 0,
    "start_time": "2022-07-08T15:04:48.484Z"
   },
   {
    "duration": 0,
    "start_time": "2022-07-08T15:04:48.486Z"
   },
   {
    "duration": 0,
    "start_time": "2022-07-08T15:04:48.487Z"
   },
   {
    "duration": 0,
    "start_time": "2022-07-08T15:04:48.488Z"
   },
   {
    "duration": 0,
    "start_time": "2022-07-08T15:04:48.490Z"
   },
   {
    "duration": 1314,
    "start_time": "2022-07-08T15:19:16.715Z"
   },
   {
    "duration": 60,
    "start_time": "2022-07-08T15:19:18.031Z"
   },
   {
    "duration": 475,
    "start_time": "2022-07-08T15:19:18.092Z"
   },
   {
    "duration": 8,
    "start_time": "2022-07-08T15:19:18.569Z"
   },
   {
    "duration": 9,
    "start_time": "2022-07-08T15:19:18.578Z"
   },
   {
    "duration": 19,
    "start_time": "2022-07-08T15:19:18.588Z"
   },
   {
    "duration": 19,
    "start_time": "2022-07-08T15:19:18.608Z"
   },
   {
    "duration": 34,
    "start_time": "2022-07-08T15:19:18.648Z"
   },
   {
    "duration": 11,
    "start_time": "2022-07-08T15:19:18.684Z"
   },
   {
    "duration": 24,
    "start_time": "2022-07-08T15:19:18.698Z"
   },
   {
    "duration": 30,
    "start_time": "2022-07-08T15:19:18.724Z"
   },
   {
    "duration": 9,
    "start_time": "2022-07-08T15:19:18.755Z"
   },
   {
    "duration": 12,
    "start_time": "2022-07-08T15:19:18.765Z"
   },
   {
    "duration": 19,
    "start_time": "2022-07-08T15:19:18.778Z"
   },
   {
    "duration": 4,
    "start_time": "2022-07-08T15:19:18.798Z"
   },
   {
    "duration": 10,
    "start_time": "2022-07-08T15:19:18.804Z"
   },
   {
    "duration": 32,
    "start_time": "2022-07-08T15:19:18.815Z"
   },
   {
    "duration": 271,
    "start_time": "2022-07-08T15:19:18.853Z"
   },
   {
    "duration": 7,
    "start_time": "2022-07-08T15:19:19.125Z"
   },
   {
    "duration": 23,
    "start_time": "2022-07-08T15:19:19.133Z"
   },
   {
    "duration": 25,
    "start_time": "2022-07-08T15:19:19.158Z"
   },
   {
    "duration": 29,
    "start_time": "2022-07-08T15:19:19.184Z"
   },
   {
    "duration": 49,
    "start_time": "2022-07-08T15:19:19.215Z"
   },
   {
    "duration": 7,
    "start_time": "2022-07-08T15:19:19.265Z"
   },
   {
    "duration": 412,
    "start_time": "2022-07-08T15:19:19.274Z"
   },
   {
    "duration": 63,
    "start_time": "2022-07-08T15:19:19.688Z"
   },
   {
    "duration": 12,
    "start_time": "2022-07-08T15:19:19.753Z"
   },
   {
    "duration": 84,
    "start_time": "2022-07-08T15:19:19.770Z"
   },
   {
    "duration": 10,
    "start_time": "2022-07-08T15:19:19.855Z"
   },
   {
    "duration": 733,
    "start_time": "2022-07-08T15:19:19.866Z"
   },
   {
    "duration": 13,
    "start_time": "2022-07-08T15:19:20.600Z"
   },
   {
    "duration": 59,
    "start_time": "2022-07-08T15:19:20.615Z"
   },
   {
    "duration": 5,
    "start_time": "2022-07-08T15:19:20.675Z"
   },
   {
    "duration": 33,
    "start_time": "2022-07-08T15:19:20.682Z"
   },
   {
    "duration": 4,
    "start_time": "2022-07-08T15:19:20.717Z"
   },
   {
    "duration": 35,
    "start_time": "2022-07-08T15:19:20.722Z"
   },
   {
    "duration": 3,
    "start_time": "2022-07-08T15:19:20.760Z"
   },
   {
    "duration": 1198,
    "start_time": "2022-07-08T15:19:20.764Z"
   },
   {
    "duration": 1592,
    "start_time": "2022-07-08T15:19:21.963Z"
   },
   {
    "duration": 15,
    "start_time": "2022-07-08T15:19:23.557Z"
   },
   {
    "duration": 11,
    "start_time": "2022-07-08T15:19:23.573Z"
   },
   {
    "duration": 17,
    "start_time": "2022-07-08T15:19:23.585Z"
   },
   {
    "duration": 51,
    "start_time": "2022-07-08T15:19:23.603Z"
   },
   {
    "duration": 32,
    "start_time": "2022-07-08T15:19:23.657Z"
   },
   {
    "duration": 29,
    "start_time": "2022-07-08T15:19:23.690Z"
   },
   {
    "duration": 34,
    "start_time": "2022-07-08T15:19:23.721Z"
   },
   {
    "duration": 46,
    "start_time": "2022-07-08T15:19:23.756Z"
   },
   {
    "duration": 17,
    "start_time": "2022-07-08T15:19:23.804Z"
   },
   {
    "duration": 37,
    "start_time": "2022-07-08T15:19:23.822Z"
   },
   {
    "duration": 1127,
    "start_time": "2022-07-08T15:19:23.861Z"
   },
   {
    "duration": 0,
    "start_time": "2022-07-08T15:19:24.990Z"
   },
   {
    "duration": 0,
    "start_time": "2022-07-08T15:19:24.991Z"
   },
   {
    "duration": 0,
    "start_time": "2022-07-08T15:19:24.992Z"
   },
   {
    "duration": 0,
    "start_time": "2022-07-08T15:19:24.993Z"
   },
   {
    "duration": 0,
    "start_time": "2022-07-08T15:19:24.994Z"
   },
   {
    "duration": 0,
    "start_time": "2022-07-08T15:19:24.995Z"
   },
   {
    "duration": 0,
    "start_time": "2022-07-08T15:19:24.996Z"
   },
   {
    "duration": 0,
    "start_time": "2022-07-08T15:19:24.997Z"
   },
   {
    "duration": 0,
    "start_time": "2022-07-08T15:19:24.998Z"
   },
   {
    "duration": 0,
    "start_time": "2022-07-08T15:19:24.999Z"
   },
   {
    "duration": 0,
    "start_time": "2022-07-08T15:19:25.000Z"
   },
   {
    "duration": 0,
    "start_time": "2022-07-08T15:19:25.001Z"
   },
   {
    "duration": 0,
    "start_time": "2022-07-08T15:19:25.001Z"
   },
   {
    "duration": 0,
    "start_time": "2022-07-08T15:19:25.003Z"
   },
   {
    "duration": 0,
    "start_time": "2022-07-08T15:19:25.003Z"
   },
   {
    "duration": 0,
    "start_time": "2022-07-08T15:19:25.004Z"
   },
   {
    "duration": 0,
    "start_time": "2022-07-08T15:19:25.005Z"
   },
   {
    "duration": 0,
    "start_time": "2022-07-08T15:19:25.006Z"
   },
   {
    "duration": 0,
    "start_time": "2022-07-08T15:19:25.007Z"
   },
   {
    "duration": 0,
    "start_time": "2022-07-08T15:19:25.008Z"
   },
   {
    "duration": 0,
    "start_time": "2022-07-08T15:19:25.009Z"
   },
   {
    "duration": 0,
    "start_time": "2022-07-08T15:19:25.010Z"
   },
   {
    "duration": 0,
    "start_time": "2022-07-08T15:19:25.011Z"
   },
   {
    "duration": 0,
    "start_time": "2022-07-08T15:19:25.012Z"
   },
   {
    "duration": 0,
    "start_time": "2022-07-08T15:19:25.013Z"
   },
   {
    "duration": 51,
    "start_time": "2022-07-08T15:23:30.189Z"
   },
   {
    "duration": 18,
    "start_time": "2022-07-08T15:23:46.290Z"
   },
   {
    "duration": 8,
    "start_time": "2022-07-08T15:23:56.018Z"
   },
   {
    "duration": 112,
    "start_time": "2022-07-08T15:24:04.667Z"
   },
   {
    "duration": 136,
    "start_time": "2022-07-08T15:24:06.059Z"
   },
   {
    "duration": 21,
    "start_time": "2022-07-08T15:24:06.911Z"
   },
   {
    "duration": 21,
    "start_time": "2022-07-08T15:24:08.262Z"
   },
   {
    "duration": 4,
    "start_time": "2022-07-08T15:24:10.377Z"
   },
   {
    "duration": 26,
    "start_time": "2022-07-08T15:24:11.258Z"
   },
   {
    "duration": 22,
    "start_time": "2022-07-08T15:24:14.978Z"
   },
   {
    "duration": 15,
    "start_time": "2022-07-08T15:24:20.754Z"
   },
   {
    "duration": 12,
    "start_time": "2022-07-08T15:24:31.655Z"
   },
   {
    "duration": 7,
    "start_time": "2022-07-08T15:24:34.867Z"
   },
   {
    "duration": 4,
    "start_time": "2022-07-08T15:24:51.957Z"
   },
   {
    "duration": 79,
    "start_time": "2022-07-08T15:24:52.699Z"
   },
   {
    "duration": 11,
    "start_time": "2022-07-08T15:24:53.781Z"
   },
   {
    "duration": 5,
    "start_time": "2022-07-08T15:24:55.831Z"
   },
   {
    "duration": 5,
    "start_time": "2022-07-08T15:24:58.469Z"
   },
   {
    "duration": 7,
    "start_time": "2022-07-08T15:25:00.125Z"
   },
   {
    "duration": 7,
    "start_time": "2022-07-08T15:25:00.892Z"
   },
   {
    "duration": 6,
    "start_time": "2022-07-08T15:25:04.428Z"
   },
   {
    "duration": 75,
    "start_time": "2022-07-08T15:25:04.919Z"
   },
   {
    "duration": 4,
    "start_time": "2022-07-08T15:25:05.565Z"
   },
   {
    "duration": 11,
    "start_time": "2022-07-08T15:25:06.079Z"
   },
   {
    "duration": 7,
    "start_time": "2022-07-08T15:25:07.664Z"
   },
   {
    "duration": 8,
    "start_time": "2022-07-08T15:25:08.276Z"
   },
   {
    "duration": 6,
    "start_time": "2022-07-08T15:25:09.483Z"
   },
   {
    "duration": 8,
    "start_time": "2022-07-08T15:25:10.048Z"
   },
   {
    "duration": 19,
    "start_time": "2022-07-08T15:26:45.859Z"
   },
   {
    "duration": 1202,
    "start_time": "2022-07-08T15:50:08.753Z"
   },
   {
    "duration": 239,
    "start_time": "2022-07-08T15:50:09.957Z"
   },
   {
    "duration": 164,
    "start_time": "2022-07-08T15:50:10.198Z"
   },
   {
    "duration": 9,
    "start_time": "2022-07-08T15:50:10.364Z"
   },
   {
    "duration": 28,
    "start_time": "2022-07-08T15:50:10.374Z"
   },
   {
    "duration": 18,
    "start_time": "2022-07-08T15:50:10.404Z"
   },
   {
    "duration": 30,
    "start_time": "2022-07-08T15:50:10.423Z"
   },
   {
    "duration": 34,
    "start_time": "2022-07-08T15:50:10.454Z"
   },
   {
    "duration": 13,
    "start_time": "2022-07-08T15:50:10.490Z"
   },
   {
    "duration": 25,
    "start_time": "2022-07-08T15:50:10.505Z"
   },
   {
    "duration": 23,
    "start_time": "2022-07-08T15:50:10.531Z"
   },
   {
    "duration": 9,
    "start_time": "2022-07-08T15:50:10.556Z"
   },
   {
    "duration": 11,
    "start_time": "2022-07-08T15:50:10.566Z"
   },
   {
    "duration": 18,
    "start_time": "2022-07-08T15:50:10.579Z"
   },
   {
    "duration": 4,
    "start_time": "2022-07-08T15:50:10.598Z"
   },
   {
    "duration": 5,
    "start_time": "2022-07-08T15:50:10.604Z"
   },
   {
    "duration": 5,
    "start_time": "2022-07-08T15:50:10.610Z"
   },
   {
    "duration": 314,
    "start_time": "2022-07-08T15:50:10.616Z"
   },
   {
    "duration": 21,
    "start_time": "2022-07-08T15:50:10.932Z"
   },
   {
    "duration": 12,
    "start_time": "2022-07-08T15:50:10.957Z"
   },
   {
    "duration": 22,
    "start_time": "2022-07-08T15:50:10.971Z"
   },
   {
    "duration": 29,
    "start_time": "2022-07-08T15:50:10.995Z"
   },
   {
    "duration": 25,
    "start_time": "2022-07-08T15:50:11.048Z"
   },
   {
    "duration": 9,
    "start_time": "2022-07-08T15:50:11.074Z"
   },
   {
    "duration": 428,
    "start_time": "2022-07-08T15:50:11.084Z"
   },
   {
    "duration": 54,
    "start_time": "2022-07-08T15:50:11.513Z"
   },
   {
    "duration": 9,
    "start_time": "2022-07-08T15:50:11.568Z"
   },
   {
    "duration": 101,
    "start_time": "2022-07-08T15:50:11.581Z"
   },
   {
    "duration": 9,
    "start_time": "2022-07-08T15:50:11.683Z"
   },
   {
    "duration": 836,
    "start_time": "2022-07-08T15:50:11.693Z"
   },
   {
    "duration": 23,
    "start_time": "2022-07-08T15:50:12.531Z"
   },
   {
    "duration": 41,
    "start_time": "2022-07-08T15:50:12.556Z"
   },
   {
    "duration": 5,
    "start_time": "2022-07-08T15:50:12.598Z"
   },
   {
    "duration": 30,
    "start_time": "2022-07-08T15:50:12.604Z"
   },
   {
    "duration": 21,
    "start_time": "2022-07-08T15:50:12.636Z"
   },
   {
    "duration": 32,
    "start_time": "2022-07-08T15:50:12.658Z"
   },
   {
    "duration": 3,
    "start_time": "2022-07-08T15:50:12.692Z"
   },
   {
    "duration": 1218,
    "start_time": "2022-07-08T15:50:12.696Z"
   },
   {
    "duration": 1614,
    "start_time": "2022-07-08T15:50:13.915Z"
   },
   {
    "duration": 27,
    "start_time": "2022-07-08T15:50:15.530Z"
   },
   {
    "duration": 12,
    "start_time": "2022-07-08T15:50:15.559Z"
   },
   {
    "duration": 19,
    "start_time": "2022-07-08T15:50:15.572Z"
   },
   {
    "duration": 25,
    "start_time": "2022-07-08T15:50:15.592Z"
   },
   {
    "duration": 60,
    "start_time": "2022-07-08T15:50:15.618Z"
   },
   {
    "duration": 29,
    "start_time": "2022-07-08T15:50:15.680Z"
   },
   {
    "duration": 42,
    "start_time": "2022-07-08T15:50:15.711Z"
   },
   {
    "duration": 49,
    "start_time": "2022-07-08T15:50:15.755Z"
   },
   {
    "duration": 18,
    "start_time": "2022-07-08T15:50:15.806Z"
   },
   {
    "duration": 40,
    "start_time": "2022-07-08T15:50:15.825Z"
   },
   {
    "duration": 18,
    "start_time": "2022-07-08T15:50:15.867Z"
   },
   {
    "duration": 8,
    "start_time": "2022-07-08T15:50:15.886Z"
   },
   {
    "duration": 126,
    "start_time": "2022-07-08T15:50:15.896Z"
   },
   {
    "duration": 159,
    "start_time": "2022-07-08T15:50:16.024Z"
   },
   {
    "duration": 19,
    "start_time": "2022-07-08T15:50:16.185Z"
   },
   {
    "duration": 21,
    "start_time": "2022-07-08T15:50:16.205Z"
   },
   {
    "duration": 3,
    "start_time": "2022-07-08T15:50:16.228Z"
   },
   {
    "duration": 20,
    "start_time": "2022-07-08T15:50:16.253Z"
   },
   {
    "duration": 13,
    "start_time": "2022-07-08T15:50:16.274Z"
   },
   {
    "duration": 13,
    "start_time": "2022-07-08T15:50:16.288Z"
   },
   {
    "duration": 8,
    "start_time": "2022-07-08T15:50:16.302Z"
   },
   {
    "duration": 4,
    "start_time": "2022-07-08T15:50:16.311Z"
   },
   {
    "duration": 103,
    "start_time": "2022-07-08T15:50:16.316Z"
   },
   {
    "duration": 11,
    "start_time": "2022-07-08T15:50:16.421Z"
   },
   {
    "duration": 13,
    "start_time": "2022-07-08T15:50:16.434Z"
   },
   {
    "duration": 9,
    "start_time": "2022-07-08T15:50:16.449Z"
   },
   {
    "duration": 11,
    "start_time": "2022-07-08T15:50:16.460Z"
   },
   {
    "duration": 9,
    "start_time": "2022-07-08T15:50:16.472Z"
   },
   {
    "duration": 6,
    "start_time": "2022-07-08T15:50:16.482Z"
   },
   {
    "duration": 93,
    "start_time": "2022-07-08T15:50:16.489Z"
   },
   {
    "duration": 4,
    "start_time": "2022-07-08T15:50:16.583Z"
   },
   {
    "duration": 10,
    "start_time": "2022-07-08T15:50:16.588Z"
   },
   {
    "duration": 8,
    "start_time": "2022-07-08T15:50:16.600Z"
   },
   {
    "duration": 9,
    "start_time": "2022-07-08T15:50:16.609Z"
   },
   {
    "duration": 5,
    "start_time": "2022-07-08T15:50:16.619Z"
   },
   {
    "duration": 22,
    "start_time": "2022-07-08T15:50:16.625Z"
   },
   {
    "duration": 3,
    "start_time": "2022-07-08T15:50:36.362Z"
   },
   {
    "duration": 40,
    "start_time": "2022-07-08T15:50:37.171Z"
   },
   {
    "duration": 181,
    "start_time": "2022-07-08T15:50:38.395Z"
   },
   {
    "duration": 8,
    "start_time": "2022-07-08T15:50:43.007Z"
   },
   {
    "duration": 7,
    "start_time": "2022-07-08T15:50:44.084Z"
   },
   {
    "duration": 14,
    "start_time": "2022-07-08T15:50:47.001Z"
   },
   {
    "duration": 18,
    "start_time": "2022-07-08T15:50:49.685Z"
   },
   {
    "duration": 40,
    "start_time": "2022-07-08T15:50:53.234Z"
   },
   {
    "duration": 11,
    "start_time": "2022-07-08T15:50:55.825Z"
   },
   {
    "duration": 28,
    "start_time": "2022-07-08T15:50:58.804Z"
   },
   {
    "duration": 6,
    "start_time": "2022-07-08T15:51:06.306Z"
   },
   {
    "duration": 7,
    "start_time": "2022-07-08T15:51:07.281Z"
   },
   {
    "duration": 9,
    "start_time": "2022-07-08T15:51:13.417Z"
   },
   {
    "duration": 24,
    "start_time": "2022-07-08T15:51:15.537Z"
   },
   {
    "duration": 4,
    "start_time": "2022-07-08T15:51:16.506Z"
   },
   {
    "duration": 4,
    "start_time": "2022-07-08T15:51:18.511Z"
   },
   {
    "duration": 5,
    "start_time": "2022-07-08T15:51:19.302Z"
   },
   {
    "duration": 288,
    "start_time": "2022-07-08T15:51:20.318Z"
   },
   {
    "duration": 9,
    "start_time": "2022-07-08T15:51:23.948Z"
   },
   {
    "duration": 11,
    "start_time": "2022-07-08T15:51:24.663Z"
   },
   {
    "duration": 23,
    "start_time": "2022-07-08T15:51:25.654Z"
   },
   {
    "duration": 29,
    "start_time": "2022-07-08T15:51:27.159Z"
   },
   {
    "duration": 25,
    "start_time": "2022-07-08T15:51:28.374Z"
   },
   {
    "duration": 22,
    "start_time": "2022-07-08T15:51:28.642Z"
   },
   {
    "duration": 59,
    "start_time": "2022-07-08T15:51:29.034Z"
   },
   {
    "duration": 53,
    "start_time": "2022-07-08T15:51:30.039Z"
   },
   {
    "duration": 1152,
    "start_time": "2022-07-08T15:56:18.295Z"
   },
   {
    "duration": 74,
    "start_time": "2022-07-08T15:56:19.454Z"
   },
   {
    "duration": 178,
    "start_time": "2022-07-08T15:56:19.529Z"
   },
   {
    "duration": 8,
    "start_time": "2022-07-08T15:56:19.709Z"
   },
   {
    "duration": 9,
    "start_time": "2022-07-08T15:56:19.719Z"
   },
   {
    "duration": 38,
    "start_time": "2022-07-08T15:56:19.729Z"
   },
   {
    "duration": 19,
    "start_time": "2022-07-08T15:56:19.768Z"
   },
   {
    "duration": 33,
    "start_time": "2022-07-08T15:56:19.789Z"
   },
   {
    "duration": 33,
    "start_time": "2022-07-08T15:56:19.824Z"
   },
   {
    "duration": 25,
    "start_time": "2022-07-08T15:56:19.859Z"
   },
   {
    "duration": 6,
    "start_time": "2022-07-08T15:56:19.885Z"
   },
   {
    "duration": 8,
    "start_time": "2022-07-08T15:56:19.893Z"
   },
   {
    "duration": 9,
    "start_time": "2022-07-08T15:56:19.903Z"
   },
   {
    "duration": 46,
    "start_time": "2022-07-08T15:56:19.913Z"
   },
   {
    "duration": 5,
    "start_time": "2022-07-08T15:56:19.960Z"
   },
   {
    "duration": 6,
    "start_time": "2022-07-08T15:56:19.966Z"
   },
   {
    "duration": 6,
    "start_time": "2022-07-08T15:56:19.973Z"
   },
   {
    "duration": 302,
    "start_time": "2022-07-08T15:56:19.980Z"
   },
   {
    "duration": 8,
    "start_time": "2022-07-08T15:56:20.283Z"
   },
   {
    "duration": 15,
    "start_time": "2022-07-08T15:56:20.292Z"
   },
   {
    "duration": 38,
    "start_time": "2022-07-08T15:56:20.308Z"
   },
   {
    "duration": 36,
    "start_time": "2022-07-08T15:56:20.347Z"
   },
   {
    "duration": 23,
    "start_time": "2022-07-08T15:56:20.384Z"
   },
   {
    "duration": 8,
    "start_time": "2022-07-08T15:56:20.409Z"
   },
   {
    "duration": 34,
    "start_time": "2022-07-08T15:56:20.419Z"
   },
   {
    "duration": 44,
    "start_time": "2022-07-08T15:56:20.455Z"
   },
   {
    "duration": 8,
    "start_time": "2022-07-08T15:56:20.501Z"
   },
   {
    "duration": 728,
    "start_time": "2022-07-08T15:56:20.512Z"
   },
   {
    "duration": 19,
    "start_time": "2022-07-08T15:56:21.241Z"
   },
   {
    "duration": 50,
    "start_time": "2022-07-08T15:56:21.261Z"
   },
   {
    "duration": 6,
    "start_time": "2022-07-08T15:56:21.312Z"
   },
   {
    "duration": 36,
    "start_time": "2022-07-08T15:56:21.320Z"
   },
   {
    "duration": 4,
    "start_time": "2022-07-08T15:56:21.358Z"
   },
   {
    "duration": 23,
    "start_time": "2022-07-08T15:56:21.364Z"
   },
   {
    "duration": 2,
    "start_time": "2022-07-08T15:56:21.389Z"
   },
   {
    "duration": 1266,
    "start_time": "2022-07-08T15:56:21.393Z"
   },
   {
    "duration": 1494,
    "start_time": "2022-07-08T15:56:22.661Z"
   },
   {
    "duration": 15,
    "start_time": "2022-07-08T15:56:24.156Z"
   },
   {
    "duration": 11,
    "start_time": "2022-07-08T15:56:24.172Z"
   },
   {
    "duration": 19,
    "start_time": "2022-07-08T15:56:24.185Z"
   },
   {
    "duration": 53,
    "start_time": "2022-07-08T15:56:24.205Z"
   },
   {
    "duration": 31,
    "start_time": "2022-07-08T15:56:24.259Z"
   },
   {
    "duration": 26,
    "start_time": "2022-07-08T15:56:24.292Z"
   },
   {
    "duration": 33,
    "start_time": "2022-07-08T15:56:24.319Z"
   },
   {
    "duration": 52,
    "start_time": "2022-07-08T15:56:24.354Z"
   },
   {
    "duration": 43,
    "start_time": "2022-07-08T15:56:24.408Z"
   },
   {
    "duration": 20,
    "start_time": "2022-07-08T15:56:24.456Z"
   },
   {
    "duration": 27,
    "start_time": "2022-07-08T15:56:24.480Z"
   },
   {
    "duration": 11,
    "start_time": "2022-07-08T15:56:24.509Z"
   },
   {
    "duration": 133,
    "start_time": "2022-07-08T15:56:24.521Z"
   },
   {
    "duration": 151,
    "start_time": "2022-07-08T15:56:24.656Z"
   },
   {
    "duration": 21,
    "start_time": "2022-07-08T15:56:24.809Z"
   },
   {
    "duration": 32,
    "start_time": "2022-07-08T15:56:24.832Z"
   },
   {
    "duration": 4,
    "start_time": "2022-07-08T15:56:24.866Z"
   },
   {
    "duration": 20,
    "start_time": "2022-07-08T15:56:24.871Z"
   },
   {
    "duration": 20,
    "start_time": "2022-07-08T15:56:24.892Z"
   },
   {
    "duration": 11,
    "start_time": "2022-07-08T15:56:24.914Z"
   },
   {
    "duration": 13,
    "start_time": "2022-07-08T15:56:24.946Z"
   },
   {
    "duration": 5,
    "start_time": "2022-07-08T15:56:24.960Z"
   },
   {
    "duration": 70,
    "start_time": "2022-07-08T15:56:24.967Z"
   },
   {
    "duration": 25,
    "start_time": "2022-07-08T15:56:25.038Z"
   },
   {
    "duration": 7,
    "start_time": "2022-07-08T15:56:25.065Z"
   },
   {
    "duration": 10,
    "start_time": "2022-07-08T15:56:25.073Z"
   },
   {
    "duration": 11,
    "start_time": "2022-07-08T15:56:25.084Z"
   },
   {
    "duration": 8,
    "start_time": "2022-07-08T15:56:25.096Z"
   },
   {
    "duration": 4,
    "start_time": "2022-07-08T15:56:25.105Z"
   },
   {
    "duration": 78,
    "start_time": "2022-07-08T15:56:25.110Z"
   },
   {
    "duration": 4,
    "start_time": "2022-07-08T15:56:25.189Z"
   },
   {
    "duration": 22,
    "start_time": "2022-07-08T15:56:25.194Z"
   },
   {
    "duration": 20,
    "start_time": "2022-07-08T15:56:25.218Z"
   },
   {
    "duration": 23,
    "start_time": "2022-07-08T15:56:25.239Z"
   },
   {
    "duration": 18,
    "start_time": "2022-07-08T15:56:25.264Z"
   },
   {
    "duration": 22,
    "start_time": "2022-07-08T15:56:25.284Z"
   }
  ],
  "kernelspec": {
   "display_name": "Python 3 (ipykernel)",
   "language": "python",
   "name": "python3"
  },
  "language_info": {
   "codemirror_mode": {
    "name": "ipython",
    "version": 3
   },
   "file_extension": ".py",
   "mimetype": "text/x-python",
   "name": "python",
   "nbconvert_exporter": "python",
   "pygments_lexer": "ipython3",
   "version": "3.10.2"
  },
  "toc": {
   "base_numbering": 1,
   "nav_menu": {},
   "number_sections": true,
   "sideBar": true,
   "skip_h1_title": true,
   "title_cell": "Table of Contents",
   "title_sidebar": "Contents",
   "toc_cell": false,
   "toc_position": {},
   "toc_section_display": true,
   "toc_window_display": true
  }
 },
 "nbformat": 4,
 "nbformat_minor": 4
}
